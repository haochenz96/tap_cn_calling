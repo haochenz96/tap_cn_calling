{
 "cells": [
  {
   "cell_type": "code",
   "execution_count": 1,
   "id": "930e9582-3979-445e-ba8d-08284c20a237",
   "metadata": {},
   "outputs": [],
   "source": [
    "from scipy.optimize import fsolve"
   ]
  },
  {
   "cell_type": "code",
   "execution_count": 2,
   "id": "ef4b890c-fbd0-4771-ae6c-15fe27cb45ec",
   "metadata": {},
   "outputs": [],
   "source": [
    "def func(z):\n",
    "    # x = [x, y, delta]\n",
    "    return [z[0] * n * (1 - z[2]) + z[0]**2 * z[2] * n - a, \n",
    "            z[1] * n * (1 - z[2]) + z[1]**2 * z[2] * n - b,\n",
    "            2 * z[0] * z[1] * z[2] * n - c]"
   ]
  },
  {
   "cell_type": "markdown",
   "id": "2d07e8ee-cbc4-4703-81c5-33c22aacb325",
   "metadata": {},
   "source": [
    "# first experiment values"
   ]
  },
  {
   "cell_type": "code",
   "execution_count": 3,
   "id": "cb81bfc9-64c6-4908-90f9-388113430b08",
   "metadata": {},
   "outputs": [],
   "source": [
    "a = 73; b = 930; c = 28\n",
    "n = a + b + c"
   ]
  },
  {
   "cell_type": "code",
   "execution_count": 4,
   "id": "f9ee6eba-7223-41dd-b8cf-467ba61b3404",
   "metadata": {},
   "outputs": [],
   "source": [
    "root = fsolve(func, [0.5, 0.5, 0.1])"
   ]
  },
  {
   "cell_type": "code",
   "execution_count": 5,
   "id": "d4d1d717-2084-4a71-a085-ae086d376a75",
   "metadata": {},
   "outputs": [
    {
     "name": "stdout",
     "output_type": "stream",
     "text": [
      "estimated proportion of 1st cell-line: 0.08438409310601144\n",
      "estimated proportion of 2nd cell-line: 0.915615906907312\n",
      "estimated proportion of doublet rate: 0.17575004920022338\n"
     ]
    }
   ],
   "source": [
    "print(f'estimated proportion of 1st cell-line: {root[0]}')\n",
    "print(f'estimated proportion of 2nd cell-line: {root[1]}')\n",
    "print(f'estimated proportion of doublet rate: {root[2]}')"
   ]
  },
  {
   "cell_type": "code",
   "execution_count": 6,
   "id": "0d5746c2-c0b4-4c8f-8506-833fc42dfb84",
   "metadata": {},
   "outputs": [
    {
     "data": {
      "text/plain": [
       "[-4.606870618317771e-08, -1.492105639044894e-08, 7.714042737916316e-08]"
      ]
     },
     "execution_count": 6,
     "metadata": {},
     "output_type": "execute_result"
    }
   ],
   "source": [
    "func(root)"
   ]
  },
  {
   "cell_type": "markdown",
   "id": "89ffab30-eac3-469b-be2c-efb7bf5d6f81",
   "metadata": {},
   "source": [
    "# second experiment values"
   ]
  },
  {
   "cell_type": "code",
   "execution_count": 7,
   "id": "2cee4a17-7f4e-437e-b6f9-e43ba49f43a0",
   "metadata": {},
   "outputs": [],
   "source": [
    "a = 99; b = 1698; c = 63\n",
    "n = a + b + c"
   ]
  },
  {
   "cell_type": "code",
   "execution_count": 8,
   "id": "a804fc11-1059-4d05-872a-57cc1853cf28",
   "metadata": {},
   "outputs": [],
   "source": [
    "root = fsolve(func, [0.5, 0.5, 0.1])"
   ]
  },
  {
   "cell_type": "code",
   "execution_count": 9,
   "id": "340dba14-fd87-406d-828f-3b60da3c3793",
   "metadata": {},
   "outputs": [
    {
     "name": "stdout",
     "output_type": "stream",
     "text": [
      "estimated proportion of 1st cell-line: 0.07016129032258066\n",
      "estimated proportion of 2nd cell-line: 0.9298387096774192\n",
      "estimated proportion of doublet rate: 0.2595926668062327\n"
     ]
    }
   ],
   "source": [
    "print(f'estimated proportion of 1st cell-line: {root[0]}')\n",
    "print(f'estimated proportion of 2nd cell-line: {root[1]}')\n",
    "print(f'estimated proportion of doublet rate: {root[2]}')"
   ]
  },
  {
   "cell_type": "code",
   "execution_count": 10,
   "id": "84ed5c98-7309-4098-86e8-352b013a6fd2",
   "metadata": {},
   "outputs": [
    {
     "data": {
      "text/plain": [
       "[1.4210854715202004e-14, -4.547473508864641e-13, 2.1316282072803006e-14]"
      ]
     },
     "execution_count": 10,
     "metadata": {},
     "output_type": "execute_result"
    }
   ],
   "source": [
    "func(root)"
   ]
  }
 ],
 "metadata": {
  "kernelspec": {
   "display_name": "Python 3 (ipykernel)",
   "language": "python",
   "name": "python3"
  },
  "language_info": {
   "codemirror_mode": {
    "name": "ipython",
    "version": 3
   },
   "file_extension": ".py",
   "mimetype": "text/x-python",
   "name": "python",
   "nbconvert_exporter": "python",
   "pygments_lexer": "ipython3",
   "version": "3.8.8"
  }
 },
 "nbformat": 4,
 "nbformat_minor": 5
}
