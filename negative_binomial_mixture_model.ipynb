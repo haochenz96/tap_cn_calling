{
 "cells": [
  {
   "cell_type": "code",
   "execution_count": 633,
   "id": "dec1dfbd-d394-4486-827d-4159eddabc8d",
   "metadata": {},
   "outputs": [],
   "source": [
    "import numpy as np\n",
    "import pandas as pd\n",
    "import math\n",
    "\n",
    "import statsmodels\n",
    "import statsmodels.api as sm\n",
    "from statsmodels.base.model import GenericLikelihoodModel\n",
    "\n",
    "import itertools\n",
    "from scipy.stats import nbinom\n",
    "from scipy.special import logsumexp\n",
    "\n",
    "import seaborn as sns\n",
    "import matplotlib.pyplot as plt\n",
    "\n",
    "plt.rcParams['xtick.labelsize'] = 20\n",
    "plt.rcParams['ytick.labelsize'] = 20\n",
    "plt.rcParams['axes.labelsize'] = 20"
   ]
  },
  {
   "cell_type": "markdown",
   "id": "822a76b5-4a3f-498a-9473-91168f64d2e3",
   "metadata": {},
   "source": [
    "# Example from statsmodel docs\n",
    "\n",
    "https://www.statsmodels.org/devel/examples/notebooks/generated/generic_mle.html"
   ]
  },
  {
   "cell_type": "code",
   "execution_count": 2,
   "id": "4f7ebff3-edcc-413e-b9f2-d082c50b505e",
   "metadata": {},
   "outputs": [],
   "source": [
    "def _ll_nb2(y, X, beta, alph):\n",
    "    mu = np.exp(np.dot(X, beta))\n",
    "    size = 1/alph\n",
    "    prob = size/(size+mu)\n",
    "    ll = nbinom.logpmf(y, size, prob)\n",
    "    # print(ll.shape, y.shape, prob.shape, size.shape)\n",
    "    return ll"
   ]
  },
  {
   "cell_type": "code",
   "execution_count": 3,
   "id": "6f7afa60-ccb3-4fc9-a2e3-2e6f7ae86c92",
   "metadata": {},
   "outputs": [],
   "source": [
    "class NBin(GenericLikelihoodModel):\n",
    "    def __init__(self, endog, exog, **kwds):\n",
    "        super(NBin, self).__init__(endog, exog, **kwds)\n",
    "\n",
    "    def nloglikeobs(self, params):\n",
    "        alph = params[-1]\n",
    "        beta = params[:-1]\n",
    "        ll = _ll_nb2(self.endog, self.exog, beta, alph)\n",
    "        return -ll\n",
    "\n",
    "    def fit(self, start_params=None, maxiter=10000, maxfun=5000, **kwds):\n",
    "        # we have one additional parameter and we need to add it for summary\n",
    "        self.exog_names.append('alpha')\n",
    "        if start_params == None:\n",
    "            # Reasonable starting values\n",
    "            start_params = np.append(np.zeros(self.exog.shape[1]), 0.5)\n",
    "            # intercept\n",
    "            start_params[-2] = np.log(self.endog.mean())\n",
    "        return super(NBin, self).fit(start_params=start_params,\n",
    "                                     maxiter=maxiter, maxfun=maxfun,\n",
    "                                     **kwds)"
   ]
  },
  {
   "cell_type": "code",
   "execution_count": 4,
   "id": "bfd2922e-fa2a-47be-bcbd-f62618685f46",
   "metadata": {},
   "outputs": [],
   "source": [
    "medpar = sm.datasets.get_rdataset(\"medpar\", \"COUNT\", cache=True).data"
   ]
  },
  {
   "cell_type": "code",
   "execution_count": 5,
   "id": "cd56695d-500f-4c10-9b00-2e00b1bad920",
   "metadata": {},
   "outputs": [],
   "source": [
    "y = medpar.los\n",
    "X = medpar[[\"type2\", \"type3\", \"hmo\", \"white\"]].copy()\n",
    "X[\"constant\"] = 1"
   ]
  },
  {
   "cell_type": "code",
   "execution_count": 6,
   "id": "14be9afc-bf4f-4c2e-87f2-693ddccb297c",
   "metadata": {},
   "outputs": [
    {
     "name": "stdout",
     "output_type": "stream",
     "text": [
      "Optimization terminated successfully.\n",
      "         Current function value: 3.209014\n",
      "         Iterations: 805\n",
      "         Function evaluations: 1238\n"
     ]
    },
    {
     "name": "stderr",
     "output_type": "stream",
     "text": [
      "/n/fs/ragr-data/users/palash/anaconda3/lib/python3.8/site-packages/statsmodels/base/model.py:2694: UserWarning: df_model + k_constant differs from nparams\n",
      "  warnings.warn(\"df_model + k_constant differs from nparams\")\n",
      "/n/fs/ragr-data/users/palash/anaconda3/lib/python3.8/site-packages/statsmodels/base/model.py:2696: UserWarning: df_resid differs from nobs - nparams\n",
      "  warnings.warn(\"df_resid differs from nobs - nparams\")\n"
     ]
    }
   ],
   "source": [
    "mod = NBin(y, X)\n",
    "res = mod.fit()"
   ]
  },
  {
   "cell_type": "code",
   "execution_count": 7,
   "id": "e88740d8-fc4a-492a-8dd2-17ced8782f20",
   "metadata": {},
   "outputs": [
    {
     "name": "stdout",
     "output_type": "stream",
     "text": [
      "Parameters:  [ 0.2212642   0.70613942 -0.06798155 -0.12903932  2.31026565  0.44575147]\n",
      "Standard errors:  [0.05059259 0.07613047 0.05326095 0.06854137 0.06794697 0.01981542]\n",
      "P-values:  [1.22298069e-005 1.76979353e-020 2.01818957e-001 5.97480106e-002\n",
      " 2.15240570e-253 4.62688812e-112]\n",
      "AIC:  9604.95320583016\n"
     ]
    }
   ],
   "source": [
    "print('Parameters: ', res.params)\n",
    "print('Standard errors: ', res.bse)\n",
    "print('P-values: ', res.pvalues)\n",
    "print('AIC: ', res.aic)"
   ]
  },
  {
   "cell_type": "code",
   "execution_count": 8,
   "id": "521fbc77-e3b6-4750-8fd6-05be5221cb0a",
   "metadata": {},
   "outputs": [
    {
     "name": "stdout",
     "output_type": "stream",
     "text": [
      "                                 NBin Results                                 \n",
      "==============================================================================\n",
      "Dep. Variable:                    los   Log-Likelihood:                -4797.5\n",
      "Model:                           NBin   AIC:                             9605.\n",
      "Method:            Maximum Likelihood   BIC:                             9632.\n",
      "Date:                Sat, 09 Apr 2022                                         \n",
      "Time:                        19:40:23                                         \n",
      "No. Observations:                1495                                         \n",
      "Df Residuals:                    1490                                         \n",
      "Df Model:                           4                                         \n",
      "==============================================================================\n",
      "                 coef    std err          z      P>|z|      [0.025      0.975]\n",
      "------------------------------------------------------------------------------\n",
      "type2          0.2213      0.051      4.373      0.000       0.122       0.320\n",
      "type3          0.7061      0.076      9.275      0.000       0.557       0.855\n",
      "hmo           -0.0680      0.053     -1.276      0.202      -0.172       0.036\n",
      "white         -0.1290      0.069     -1.883      0.060      -0.263       0.005\n",
      "constant       2.3103      0.068     34.001      0.000       2.177       2.443\n",
      "alpha          0.4458      0.020     22.495      0.000       0.407       0.485\n",
      "==============================================================================\n"
     ]
    }
   ],
   "source": [
    "print(res.summary())"
   ]
  },
  {
   "cell_type": "markdown",
   "id": "2a39b20f-2810-4a81-863e-8e6a13b62c38",
   "metadata": {},
   "source": [
    "# Simulate mixture of negative binomials"
   ]
  },
  {
   "cell_type": "code",
   "execution_count": 9,
   "id": "d41e4160-d925-4197-b428-752b5a7e1957",
   "metadata": {},
   "outputs": [],
   "source": [
    "tsv_file_dir = '/n/fs/ragr-data/users/palash/mskcc-analysis/panel2_normal_read_counts'\n",
    "normal_tsv_file = 'RA17-37_39_1_IGO_12881_1/results/tsv/RA17-37_39_1_IGO_12881_1.tube1.barcode.cell.distribution.tsv'\n",
    "\n",
    "df_tsv = pd.read_csv(f'{tsv_file_dir}/{normal_tsv_file}', sep='\\t').set_index('cell_barcode')"
   ]
  },
  {
   "cell_type": "code",
   "execution_count": 1455,
   "id": "3a9244e9-25c4-4712-a67c-807a3fa9a6c1",
   "metadata": {},
   "outputs": [],
   "source": [
    "def simulate_mixed_NB(cell_total_reads, namplicon, nclones = 2, cn_max = 8, dispersion_parameter = 100, seed = 0):\n",
    "\n",
    "    np.random.seed(seed)\n",
    "    nobservations = len(cell_total_reads)\n",
    "    amplicon_factors = np.random.dirichlet([1]*namplicon) / 2\n",
    "    amplicon_idx = 0\n",
    "    amplicon_factor = amplicon_factors[amplicon_idx]\n",
    "\n",
    "    mixture_proportions = np.random.dirichlet([1]*nclones)\n",
    "    cn_profiles = np.random.randint(cn_max - 1, size=nclones) + 1\n",
    "    \n",
    "    observed_read_counts = []\n",
    "    clone_ids = []\n",
    "    for total_reads in cell_total_reads:\n",
    "        # clone_idx = np.random.randint(nclones)\n",
    "        clone_idx = np.argmax(np.random.multinomial(1, mixture_proportions, size=1))\n",
    "\n",
    "        clone_ids.append(clone_idx)\n",
    "\n",
    "        copy_number = cn_profiles[clone_idx]\n",
    "        mu = copy_number*amplicon_factor*total_reads\n",
    "        nb_p = 1 - mu / (dispersion_parameter + mu)\n",
    "        read_count_draw = np.random.negative_binomial(dispersion_parameter, nb_p)\n",
    "        # read_count_draw = nbinom.rvs(dispersion_parameter, nb_p)\n",
    "        observed_read_counts.append(read_count_draw)\n",
    "    \n",
    "    observed_read_counts = pd.Series(observed_read_counts, index = cell_total_reads.index)\n",
    "    hidden_clone_ids = pd.Series(clone_ids, index = cell_total_reads.index)\n",
    "    \n",
    "    return observed_read_counts, hidden_clone_ids, cell_total_reads * amplicon_factor, cn_profiles, mixture_proportions"
   ]
  },
  {
   "cell_type": "code",
   "execution_count": 1461,
   "id": "97c7d9d7-44e2-4232-b4e3-688c81458cb3",
   "metadata": {},
   "outputs": [],
   "source": [
    "cell_total_reads = df_tsv.sum(axis = 1)\n",
    "nclones = 2\n",
    "namplicon = 500\n",
    "gt_phi = 25\n",
    "\n",
    "observed_read_counts, hidden_clone_ids, total_reads, gt_cn_profiles, gt_mixing_proportions = simulate_mixed_NB(cell_total_reads, namplicon, nclones,\n",
    "                                                                                                               dispersion_parameter=gt_phi, seed=2)"
   ]
  },
  {
   "cell_type": "code",
   "execution_count": 1462,
   "id": "fc7ac5ec-af39-48f6-b4c5-3065161cd1a3",
   "metadata": {},
   "outputs": [
    {
     "data": {
      "text/plain": [
       "cell_barcode\n",
       "ACCGTCCTATCCTTCAAC-1     520\n",
       "AGCAAGTCCAAGAGAGAG-1    1329\n",
       "CGCACTCTTTGACCTCCT-1    1085\n",
       "TCGTAGGAATCGACGTTG-1    1347\n",
       "TTCCAGGAGCAATACCAC-1     406\n",
       "                        ... \n",
       "CAGCACGTGTGGTGCCTG-1      26\n",
       "GACCGGTAGTCCTTCGTA-1      35\n",
       "CCGGATTGCGTGCGTTCC-1      23\n",
       "AGATCGAGTTCTACAGTT-1       9\n",
       "CAGTGAGGAGACCGTAGT-1      24\n",
       "Length: 4286, dtype: int64"
      ]
     },
     "execution_count": 1462,
     "metadata": {},
     "output_type": "execute_result"
    }
   ],
   "source": [
    "observed_read_counts"
   ]
  },
  {
   "cell_type": "code",
   "execution_count": 1463,
   "id": "388f20a0-4e71-489f-82f1-d254bf4d98f7",
   "metadata": {},
   "outputs": [
    {
     "data": {
      "text/plain": [
       "(array([  1.,   3.,  17.,  25.,  74., 118., 208., 274., 271., 242., 177.,\n",
       "        148., 122.,  76.,  79.,  80.,  85., 126., 114., 135., 159., 161.,\n",
       "        158., 160., 163., 149., 161., 111.,  98., 122.,  93.,  82.,  66.,\n",
       "         56.,  37.,  35.,  20.,  20.,  13.,  16.,   8.,   4.,   9.,   3.,\n",
       "          3.,   1.,   1.,   0.,   0.,   2.]),\n",
       " array([0.28430262, 0.47662632, 0.66895002, 0.86127372, 1.05359742,\n",
       "        1.24592113, 1.43824483, 1.63056853, 1.82289223, 2.01521593,\n",
       "        2.20753963, 2.39986333, 2.59218704, 2.78451074, 2.97683444,\n",
       "        3.16915814, 3.36148184, 3.55380554, 3.74612925, 3.93845295,\n",
       "        4.13077665, 4.32310035, 4.51542405, 4.70774775, 4.90007145,\n",
       "        5.09239516, 5.28471886, 5.47704256, 5.66936626, 5.86168996,\n",
       "        6.05401366, 6.24633737, 6.43866107, 6.63098477, 6.82330847,\n",
       "        7.01563217, 7.20795587, 7.40027957, 7.59260328, 7.78492698,\n",
       "        7.97725068, 8.16957438, 8.36189808, 8.55422178, 8.74654549,\n",
       "        8.93886919, 9.13119289, 9.32351659, 9.51584029, 9.70816399,\n",
       "        9.90048769]),\n",
       " <BarContainer object of 50 artists>)"
      ]
     },
     "execution_count": 1463,
     "metadata": {},
     "output_type": "execute_result"
    },
    {
     "data": {
      "image/png": "[encoded data removed]",
      "text/plain": [
       "<Figure size 432x288 with 1 Axes>"
      ]
     },
     "metadata": {
      "needs_background": "light"
     },
     "output_type": "display_data"
    }
   ],
   "source": [
    "plt.hist(observed_read_counts / total_reads, bins=50)"
   ]
  },
  {
   "cell_type": "code",
   "execution_count": 1464,
   "id": "3baa1719-8687-40e2-8e55-756c2e03e683",
   "metadata": {},
   "outputs": [
    {
     "data": {
      "text/plain": [
       "(array([  1.,   3.,  17.,  25.,  74., 118., 208., 274., 271., 242., 177.,\n",
       "        148., 122.,  76.,  79.,  80.,  85., 126., 114., 135., 159., 161.,\n",
       "        158., 160., 163., 149., 161., 111.,  98., 122.,  93.,  82.,  66.,\n",
       "         56.,  37.,  35.,  20.,  20.,  13.,  16.,   8.,   4.,   9.,   3.,\n",
       "          3.,   1.,   1.,   0.,   0.,   2.]),\n",
       " array([0.28430262, 0.47662632, 0.66895002, 0.86127372, 1.05359742,\n",
       "        1.24592113, 1.43824483, 1.63056853, 1.82289223, 2.01521593,\n",
       "        2.20753963, 2.39986333, 2.59218704, 2.78451074, 2.97683444,\n",
       "        3.16915814, 3.36148184, 3.55380554, 3.74612925, 3.93845295,\n",
       "        4.13077665, 4.32310035, 4.51542405, 4.70774775, 4.90007145,\n",
       "        5.09239516, 5.28471886, 5.47704256, 5.66936626, 5.86168996,\n",
       "        6.05401366, 6.24633737, 6.43866107, 6.63098477, 6.82330847,\n",
       "        7.01563217, 7.20795587, 7.40027957, 7.59260328, 7.78492698,\n",
       "        7.97725068, 8.16957438, 8.36189808, 8.55422178, 8.74654549,\n",
       "        8.93886919, 9.13119289, 9.32351659, 9.51584029, 9.70816399,\n",
       "        9.90048769]),\n",
       " <BarContainer object of 50 artists>)"
      ]
     },
     "execution_count": 1464,
     "metadata": {},
     "output_type": "execute_result"
    },
    {
     "data": {
      "image/png": "[encoded data removed]",
      "text/plain": [
       "<Figure size 432x288 with 1 Axes>"
      ]
     },
     "metadata": {
      "needs_background": "light"
     },
     "output_type": "display_data"
    }
   ],
   "source": [
    "plt.hist(observed_read_counts / total_reads, bins=50)"
   ]
  },
  {
   "cell_type": "code",
   "execution_count": 1460,
   "id": "f7e4494e-b0f8-4661-a37a-5e77f9673e7f",
   "metadata": {},
   "outputs": [
    {
     "data": {
      "text/plain": [
       "(array([5, 2]), array([0.57624724, 0.42375276]))"
      ]
     },
     "execution_count": 1460,
     "metadata": {},
     "output_type": "execute_result"
    }
   ],
   "source": [
    "gt_cn_profiles, gt_mixing_proportions"
   ]
  },
  {
   "cell_type": "code",
   "execution_count": 1221,
   "id": "9eb94b67-07e5-44bb-9d00-acf810f41827",
   "metadata": {},
   "outputs": [
    {
     "data": {
      "text/plain": [
       "1    2406\n",
       "0    1880\n",
       "dtype: int64"
      ]
     },
     "execution_count": 1221,
     "metadata": {},
     "output_type": "execute_result"
    }
   ],
   "source": [
    "hidden_clone_ids.value_counts()"
   ]
  },
  {
   "cell_type": "code",
   "execution_count": 1222,
   "id": "bef0e51f-a6bd-400b-93e4-8bb1c4f0ab69",
   "metadata": {},
   "outputs": [
    {
     "data": {
      "text/plain": [
       "46520"
      ]
     },
     "execution_count": 1222,
     "metadata": {},
     "output_type": "execute_result"
    }
   ],
   "source": [
    "fixed_cell_total_reads[0]*2"
   ]
  },
  {
   "cell_type": "markdown",
   "id": "10751f86-11f2-4975-b974-b532bd4dc6b1",
   "metadata": {
    "tags": []
   },
   "source": [
    "# EM for mixture of negative binomials"
   ]
  },
  {
   "cell_type": "code",
   "execution_count": 1251,
   "id": "2443e915-252d-4860-a03e-9524bdd81f12",
   "metadata": {},
   "outputs": [],
   "source": [
    "def get_responsibilities_and_marginal(y, mixing_props, cn, total_reads, phi):\n",
    "    nobservations = len(y)\n",
    "    nclones = len(cn)\n",
    "    coeffs = np.zeros((nobservations, nclones))\n",
    "    \n",
    "    for clone_idx in range(nclones):\n",
    "        mu = cn[clone_idx] * total_reads\n",
    "        prob  = phi / (phi + mu)\n",
    "        coeffs[:, clone_idx] = mixing_props[clone_idx] * nbinom.pmf(y, phi, prob)\n",
    "\n",
    "    # marginal = np.sum(np.log(coeffs))\n",
    "    marginal = np.sum(np.log(np.sum(coeffs, axis = 1)))\n",
    "    responsibilities = coeffs / np.sum(coeffs, axis = 1)[:, np.newaxis]\n",
    "    \n",
    "    return responsibilities, marginal"
   ]
  },
  {
   "cell_type": "code",
   "execution_count": 1252,
   "id": "8e37d4dc-fd0b-4383-8873-2d189ac3a1ef",
   "metadata": {},
   "outputs": [],
   "source": [
    "def _ll_mixture_nb(y, coeffs, cn, total_reads, phi):\n",
    "    ll = 0\n",
    "    nclones = len(cn)\n",
    "    for clone_idx in range(nclones):\n",
    "        mu = cn[clone_idx] * total_reads\n",
    "        prob = phi / (phi + mu)\n",
    "        ll += coeffs[:, clone_idx] * nbinom.logpmf(y, phi, prob)\n",
    "    return ll"
   ]
  },
  {
   "cell_type": "code",
   "execution_count": 1253,
   "id": "b4fe41d4-cc14-4499-98ff-54c7ff4fff9a",
   "metadata": {},
   "outputs": [],
   "source": [
    "class NBin_mixture_Q(GenericLikelihoodModel):\n",
    "    def __init__(self, endog, coeffs, total_reads, seed=0, **kwds):\n",
    "        super(NBin_mixture_Q, self).__init__(endog, exog = np.zeros(endog.shape), **kwds)\n",
    "        self.coeffs = coeffs\n",
    "        self.total_reads = total_reads\n",
    "        self.nclones = coeffs.shape[1]\n",
    "        self.seed = seed\n",
    "\n",
    "    def nloglikeobs(self, params):\n",
    "        phi = params[-1]\n",
    "        cn = params[:-1]\n",
    "        ll = _ll_mixture_nb(self.endog, self.coeffs, cn, self.total_reads, phi)\n",
    "        return -ll\n",
    "\n",
    "    def fit(self, start_params=None, maxiter=10000, maxfun=5000, **kwds):\n",
    "        for clone_idx in range(self.nclones):\n",
    "            self.exog_names.append(f'cn_clone_{clone_idx}')\n",
    "        self.exog_names.append('phi')\n",
    "\n",
    "        if start_params is None:\n",
    "            # Reasonable starting values\n",
    "            cn_guess = np.arange(self.nclones) + 1\n",
    "            phi_guess = 100\n",
    "            \n",
    "            start_params = np.append(cn_guess, phi_guess)\n",
    "        \n",
    "        return super(NBin_mixture_Q, self).fit(start_params=start_params,\n",
    "                                               maxiter=maxiter, maxfun=maxfun,\n",
    "                                               **kwds)"
   ]
  },
  {
   "cell_type": "code",
   "execution_count": 1274,
   "id": "e23920f3-5be6-4f93-8dad-fa38a22110a7",
   "metadata": {
    "tags": []
   },
   "outputs": [],
   "source": [
    "def mixed_NB_EM(y, total_reads, nclones=1, maxiter=10, seed=0, cn_max=8, tol = 1e-6):\n",
    "    \n",
    "    np.random.seed(seed)\n",
    "    nobservations = len(y)\n",
    "    \n",
    "    # initial guess\n",
    "    mixing_props = [1/nclones]*nclones\n",
    "    cn = np.arange(nclones) + 1\n",
    "    # cn = np.random.randint(cn_max - 1, size=nclones) + 1\n",
    "    phi = 10\n",
    "    relative_marginal_gain = np.inf\n",
    "    old_marginal = -np.inf\n",
    "    iter_count = 0\n",
    "    em_data = []\n",
    "    \n",
    "    while (iter_count < maxiter) & (relative_marginal_gain >= tol):\n",
    "    # while (iter_count < maxiter):\n",
    "        \n",
    "        # E-step\n",
    "        coeffs, old_marginal = get_responsibilities_and_marginal(y, mixing_props, cn, total_reads, phi)\n",
    "        \n",
    "        # print(new_marginal, mixing_props)\n",
    "        \n",
    "        # M-step\n",
    "        new_mixing_props = coeffs.sum(axis=0) / nobservations\n",
    "        curr_model = NBin_mixture_Q(y, coeffs, total_reads, seed)\n",
    "        # res = curr_model.fit(disp=0)\n",
    "        \n",
    "        res = curr_model.fit(start_params=np.append(cn, phi), disp=1)\n",
    "        \n",
    "        # optimization solution\n",
    "        params = res.params\n",
    "        new_cn = params[:nclones]\n",
    "        new_phi = params[-1]\n",
    "        \n",
    "        # summary\n",
    "        inner_iter = 0\n",
    "        # inner_iter = res.mle_retvals['iterations']\n",
    "        inner_converged = res.mle_retvals['converged']\n",
    "        fopt = res.mle_retvals['fopt']\n",
    "        fcalls = res.mle_retvals['fcalls']\n",
    "        \n",
    "        _, new_marginal = get_responsibilities_and_marginal(y, new_mixing_props, new_cn, total_reads, new_phi)        \n",
    "        \n",
    "        if iter_count > 0:\n",
    "            # print(new_marginal, old_marginal, sep='\\t')\n",
    "            relative_marginal_gain = (new_marginal - old_marginal) / np.abs(old_marginal)\n",
    "            \n",
    "        em_data.append([iter_count, old_marginal, new_marginal, relative_marginal_gain, fopt, fcalls, inner_iter, inner_converged])\n",
    "        \n",
    "        if (relative_marginal_gain > 0) | (np.abs(new_marginal) == np.inf) | (np.abs(old_marginal) == np.inf):\n",
    "            # old_marginal = new_marginal\n",
    "            cn = new_cn\n",
    "            phi = new_phi\n",
    "            mixing_props = new_mixing_props\n",
    "            \n",
    "            iter_count += 1\n",
    "            if np.isnan(relative_marginal_gain):\n",
    "                relative_marginal_gain = np.inf\n",
    "        else:\n",
    "            break\n",
    "        \n",
    "    df_EM = pd.DataFrame(em_data, columns = ['iterations', 'old_marginal', 'marginal', 'relative_marginal_gain', 'fopt', 'fcalls', 'inner_iter', 'inner_converged'])\n",
    "    \n",
    "    return mixing_props, cn, phi, df_EM"
   ]
  },
  {
   "cell_type": "code",
   "execution_count": 1275,
   "id": "54cbae06-8cb2-4814-9844-d0ccc40c4a16",
   "metadata": {},
   "outputs": [
    {
     "name": "stdout",
     "output_type": "stream",
     "text": [
      "Optimization terminated successfully.\n",
      "         Current function value: 4.042371\n",
      "         Iterations: 82\n",
      "         Function evaluations: 150\n"
     ]
    },
    {
     "name": "stderr",
     "output_type": "stream",
     "text": [
      "/n/fs/ragr-data/users/palash/anaconda3/lib/python3.8/site-packages/statsmodels/base/model.py:2694: UserWarning: df_model + k_constant differs from nparams\n",
      "  warnings.warn(\"df_model + k_constant differs from nparams\")\n",
      "/n/fs/ragr-data/users/palash/anaconda3/lib/python3.8/site-packages/statsmodels/base/model.py:2696: UserWarning: df_resid differs from nobs - nparams\n",
      "  warnings.warn(\"df_resid differs from nobs - nparams\")\n",
      "/n/fs/ragr-data/users/palash/anaconda3/lib/python3.8/site-packages/statsmodels/base/model.py:1024: ValueWarning: more exog_names than parameters\n",
      "  warnings.warn('more exog_names than parameters', ValueWarning)\n"
     ]
    },
    {
     "name": "stdout",
     "output_type": "stream",
     "text": [
      "Optimization terminated successfully.\n",
      "         Current function value: 3.736786\n",
      "         Iterations: 82\n",
      "         Function evaluations: 152\n"
     ]
    },
    {
     "name": "stderr",
     "output_type": "stream",
     "text": [
      "/n/fs/ragr-data/users/palash/anaconda3/lib/python3.8/site-packages/statsmodels/base/model.py:1024: ValueWarning: more exog_names than parameters\n",
      "  warnings.warn('more exog_names than parameters', ValueWarning)\n"
     ]
    },
    {
     "name": "stdout",
     "output_type": "stream",
     "text": [
      "Optimization terminated successfully.\n",
      "         Current function value: 3.535840\n",
      "         Iterations: 103\n",
      "         Function evaluations: 186\n"
     ]
    },
    {
     "name": "stderr",
     "output_type": "stream",
     "text": [
      "/n/fs/ragr-data/users/palash/anaconda3/lib/python3.8/site-packages/statsmodels/base/model.py:1024: ValueWarning: more exog_names than parameters\n",
      "  warnings.warn('more exog_names than parameters', ValueWarning)\n"
     ]
    },
    {
     "name": "stdout",
     "output_type": "stream",
     "text": [
      "Optimization terminated successfully.\n",
      "         Current function value: 3.512952\n",
      "         Iterations: 77\n",
      "         Function evaluations: 143\n"
     ]
    },
    {
     "name": "stderr",
     "output_type": "stream",
     "text": [
      "/n/fs/ragr-data/users/palash/anaconda3/lib/python3.8/site-packages/statsmodels/base/model.py:1024: ValueWarning: more exog_names than parameters\n",
      "  warnings.warn('more exog_names than parameters', ValueWarning)\n"
     ]
    },
    {
     "name": "stdout",
     "output_type": "stream",
     "text": [
      "Optimization terminated successfully.\n",
      "         Current function value: 3.511937\n",
      "         Iterations: 76\n",
      "         Function evaluations: 144\n"
     ]
    },
    {
     "name": "stderr",
     "output_type": "stream",
     "text": [
      "/n/fs/ragr-data/users/palash/anaconda3/lib/python3.8/site-packages/statsmodels/base/model.py:1024: ValueWarning: more exog_names than parameters\n",
      "  warnings.warn('more exog_names than parameters', ValueWarning)\n"
     ]
    },
    {
     "name": "stdout",
     "output_type": "stream",
     "text": [
      "Optimization terminated successfully.\n",
      "         Current function value: 3.511877\n",
      "         Iterations: 74\n",
      "         Function evaluations: 135\n"
     ]
    },
    {
     "name": "stderr",
     "output_type": "stream",
     "text": [
      "/n/fs/ragr-data/users/palash/anaconda3/lib/python3.8/site-packages/statsmodels/base/model.py:1024: ValueWarning: more exog_names than parameters\n",
      "  warnings.warn('more exog_names than parameters', ValueWarning)\n"
     ]
    }
   ],
   "source": [
    "inferred_mixing_props, inferred_cn, inferred_phi, df_EM = mixed_NB_EM(observed_read_counts.values, total_reads.values, nclones=2, seed=0)"
   ]
  },
  {
   "cell_type": "code",
   "execution_count": 1276,
   "id": "19e42a57-a409-4479-8666-4fe3c33570ae",
   "metadata": {},
   "outputs": [
    {
     "data": {
      "text/html": [
       "<div>\n",
       "<style scoped>\n",
       "    .dataframe tbody tr th:only-of-type {\n",
       "        vertical-align: middle;\n",
       "    }\n",
       "\n",
       "    .dataframe tbody tr th {\n",
       "        vertical-align: top;\n",
       "    }\n",
       "\n",
       "    .dataframe thead th {\n",
       "        text-align: right;\n",
       "    }\n",
       "</style>\n",
       "<table border=\"1\" class=\"dataframe\">\n",
       "  <thead>\n",
       "    <tr style=\"text-align: right;\">\n",
       "      <th></th>\n",
       "      <th>iterations</th>\n",
       "      <th>old_marginal</th>\n",
       "      <th>marginal</th>\n",
       "      <th>relative_marginal_gain</th>\n",
       "      <th>fopt</th>\n",
       "      <th>fcalls</th>\n",
       "      <th>inner_iter</th>\n",
       "      <th>inner_converged</th>\n",
       "    </tr>\n",
       "  </thead>\n",
       "  <tbody>\n",
       "    <tr>\n",
       "      <th>0</th>\n",
       "      <td>0</td>\n",
       "      <td>-20521.442954</td>\n",
       "      <td>-18821.912787</td>\n",
       "      <td>inf</td>\n",
       "      <td>4.042371</td>\n",
       "      <td>150</td>\n",
       "      <td>0</td>\n",
       "      <td>True</td>\n",
       "    </tr>\n",
       "    <tr>\n",
       "      <th>1</th>\n",
       "      <td>1</td>\n",
       "      <td>-18821.912787</td>\n",
       "      <td>-18123.701004</td>\n",
       "      <td>3.709569e-02</td>\n",
       "      <td>3.736786</td>\n",
       "      <td>152</td>\n",
       "      <td>0</td>\n",
       "      <td>True</td>\n",
       "    </tr>\n",
       "    <tr>\n",
       "      <th>2</th>\n",
       "      <td>2</td>\n",
       "      <td>-18123.701004</td>\n",
       "      <td>-17910.108551</td>\n",
       "      <td>1.178526e-02</td>\n",
       "      <td>3.535840</td>\n",
       "      <td>186</td>\n",
       "      <td>0</td>\n",
       "      <td>True</td>\n",
       "    </tr>\n",
       "    <tr>\n",
       "      <th>3</th>\n",
       "      <td>3</td>\n",
       "      <td>-17910.108551</td>\n",
       "      <td>-17906.851930</td>\n",
       "      <td>1.818314e-04</td>\n",
       "      <td>3.512952</td>\n",
       "      <td>143</td>\n",
       "      <td>0</td>\n",
       "      <td>True</td>\n",
       "    </tr>\n",
       "    <tr>\n",
       "      <th>4</th>\n",
       "      <td>4</td>\n",
       "      <td>-17906.851930</td>\n",
       "      <td>-17906.827095</td>\n",
       "      <td>1.386907e-06</td>\n",
       "      <td>3.511937</td>\n",
       "      <td>144</td>\n",
       "      <td>0</td>\n",
       "      <td>True</td>\n",
       "    </tr>\n",
       "    <tr>\n",
       "      <th>5</th>\n",
       "      <td>5</td>\n",
       "      <td>-17906.827095</td>\n",
       "      <td>-17906.826889</td>\n",
       "      <td>1.150280e-08</td>\n",
       "      <td>3.511877</td>\n",
       "      <td>135</td>\n",
       "      <td>0</td>\n",
       "      <td>True</td>\n",
       "    </tr>\n",
       "  </tbody>\n",
       "</table>\n",
       "</div>"
      ],
      "text/plain": [
       "   iterations  old_marginal      marginal  relative_marginal_gain      fopt  \\\n",
       "0           0 -20521.442954 -18821.912787                     inf  4.042371   \n",
       "1           1 -18821.912787 -18123.701004            3.709569e-02  3.736786   \n",
       "2           2 -18123.701004 -17910.108551            1.178526e-02  3.535840   \n",
       "3           3 -17910.108551 -17906.851930            1.818314e-04  3.512952   \n",
       "4           4 -17906.851930 -17906.827095            1.386907e-06  3.511937   \n",
       "5           5 -17906.827095 -17906.826889            1.150280e-08  3.511877   \n",
       "\n",
       "   fcalls  inner_iter  inner_converged  \n",
       "0     150           0             True  \n",
       "1     152           0             True  \n",
       "2     186           0             True  \n",
       "3     143           0             True  \n",
       "4     144           0             True  \n",
       "5     135           0             True  "
      ]
     },
     "execution_count": 1276,
     "metadata": {},
     "output_type": "execute_result"
    }
   ],
   "source": [
    "df_EM"
   ]
  },
  {
   "cell_type": "code",
   "execution_count": 1277,
   "id": "4a868818-797d-4060-8447-9a2bb1755646",
   "metadata": {},
   "outputs": [],
   "source": [
    "_, gt_marginal = get_responsibilities_and_marginal(observed_read_counts.values, gt_mixing_proportions, gt_cn_profiles, total_reads.values, gt_phi)"
   ]
  },
  {
   "cell_type": "code",
   "execution_count": 1278,
   "id": "60d62b53-e98f-41d8-9c72-7ed91c30ed6f",
   "metadata": {},
   "outputs": [
    {
     "data": {
      "text/html": [
       "<div>\n",
       "<style scoped>\n",
       "    .dataframe tbody tr th:only-of-type {\n",
       "        vertical-align: middle;\n",
       "    }\n",
       "\n",
       "    .dataframe tbody tr th {\n",
       "        vertical-align: top;\n",
       "    }\n",
       "\n",
       "    .dataframe thead th {\n",
       "        text-align: right;\n",
       "    }\n",
       "</style>\n",
       "<table border=\"1\" class=\"dataframe\">\n",
       "  <thead>\n",
       "    <tr style=\"text-align: right;\">\n",
       "      <th></th>\n",
       "      <th>iterations</th>\n",
       "      <th>old_marginal</th>\n",
       "      <th>marginal</th>\n",
       "      <th>relative_marginal_gain</th>\n",
       "      <th>fopt</th>\n",
       "      <th>fcalls</th>\n",
       "      <th>inner_iter</th>\n",
       "      <th>inner_converged</th>\n",
       "    </tr>\n",
       "  </thead>\n",
       "  <tbody>\n",
       "    <tr>\n",
       "      <th>0</th>\n",
       "      <td>0</td>\n",
       "      <td>-20521.442954</td>\n",
       "      <td>-18821.912787</td>\n",
       "      <td>inf</td>\n",
       "      <td>4.042371</td>\n",
       "      <td>150</td>\n",
       "      <td>0</td>\n",
       "      <td>True</td>\n",
       "    </tr>\n",
       "    <tr>\n",
       "      <th>1</th>\n",
       "      <td>1</td>\n",
       "      <td>-18821.912787</td>\n",
       "      <td>-18123.701004</td>\n",
       "      <td>3.709569e-02</td>\n",
       "      <td>3.736786</td>\n",
       "      <td>152</td>\n",
       "      <td>0</td>\n",
       "      <td>True</td>\n",
       "    </tr>\n",
       "    <tr>\n",
       "      <th>2</th>\n",
       "      <td>2</td>\n",
       "      <td>-18123.701004</td>\n",
       "      <td>-17910.108551</td>\n",
       "      <td>1.178526e-02</td>\n",
       "      <td>3.535840</td>\n",
       "      <td>186</td>\n",
       "      <td>0</td>\n",
       "      <td>True</td>\n",
       "    </tr>\n",
       "    <tr>\n",
       "      <th>3</th>\n",
       "      <td>3</td>\n",
       "      <td>-17910.108551</td>\n",
       "      <td>-17906.851930</td>\n",
       "      <td>1.818314e-04</td>\n",
       "      <td>3.512952</td>\n",
       "      <td>143</td>\n",
       "      <td>0</td>\n",
       "      <td>True</td>\n",
       "    </tr>\n",
       "    <tr>\n",
       "      <th>4</th>\n",
       "      <td>4</td>\n",
       "      <td>-17906.851930</td>\n",
       "      <td>-17906.827095</td>\n",
       "      <td>1.386907e-06</td>\n",
       "      <td>3.511937</td>\n",
       "      <td>144</td>\n",
       "      <td>0</td>\n",
       "      <td>True</td>\n",
       "    </tr>\n",
       "    <tr>\n",
       "      <th>5</th>\n",
       "      <td>5</td>\n",
       "      <td>-17906.827095</td>\n",
       "      <td>-17906.826889</td>\n",
       "      <td>1.150280e-08</td>\n",
       "      <td>3.511877</td>\n",
       "      <td>135</td>\n",
       "      <td>0</td>\n",
       "      <td>True</td>\n",
       "    </tr>\n",
       "  </tbody>\n",
       "</table>\n",
       "</div>"
      ],
      "text/plain": [
       "   iterations  old_marginal      marginal  relative_marginal_gain      fopt  \\\n",
       "0           0 -20521.442954 -18821.912787                     inf  4.042371   \n",
       "1           1 -18821.912787 -18123.701004            3.709569e-02  3.736786   \n",
       "2           2 -18123.701004 -17910.108551            1.178526e-02  3.535840   \n",
       "3           3 -17910.108551 -17906.851930            1.818314e-04  3.512952   \n",
       "4           4 -17906.851930 -17906.827095            1.386907e-06  3.511937   \n",
       "5           5 -17906.827095 -17906.826889            1.150280e-08  3.511877   \n",
       "\n",
       "   fcalls  inner_iter  inner_converged  \n",
       "0     150           0             True  \n",
       "1     152           0             True  \n",
       "2     186           0             True  \n",
       "3     143           0             True  \n",
       "4     144           0             True  \n",
       "5     135           0             True  "
      ]
     },
     "execution_count": 1278,
     "metadata": {},
     "output_type": "execute_result"
    }
   ],
   "source": [
    "df_EM"
   ]
  },
  {
   "cell_type": "code",
   "execution_count": 1279,
   "id": "d2f62f14-2703-41ee-9851-70e19d04e6a8",
   "metadata": {},
   "outputs": [
    {
     "data": {
      "text/plain": [
       "-17908.04872150844"
      ]
     },
     "execution_count": 1279,
     "metadata": {},
     "output_type": "execute_result"
    }
   ],
   "source": [
    "gt_marginal"
   ]
  },
  {
   "cell_type": "code",
   "execution_count": 1280,
   "id": "50b2b639-c6d1-4576-a418-be99ed5d8bc7",
   "metadata": {},
   "outputs": [
    {
     "data": {
      "text/plain": [
       "array([1.00093236, 2.98564627])"
      ]
     },
     "execution_count": 1280,
     "metadata": {},
     "output_type": "execute_result"
    }
   ],
   "source": [
    "inferred_cn"
   ]
  },
  {
   "cell_type": "code",
   "execution_count": 1281,
   "id": "94638a92-3f04-4e74-b092-730cb26b2e36",
   "metadata": {},
   "outputs": [
    {
     "data": {
      "text/plain": [
       "array([0.43971281, 0.56028719])"
      ]
     },
     "execution_count": 1281,
     "metadata": {},
     "output_type": "execute_result"
    }
   ],
   "source": [
    "inferred_mixing_props"
   ]
  },
  {
   "cell_type": "code",
   "execution_count": 1282,
   "id": "cea1418e-1079-443c-b944-b63744ff8020",
   "metadata": {},
   "outputs": [
    {
     "data": {
      "text/plain": [
       "99.6718493760109"
      ]
     },
     "execution_count": 1282,
     "metadata": {},
     "output_type": "execute_result"
    }
   ],
   "source": [
    "inferred_phi"
   ]
  },
  {
   "cell_type": "code",
   "execution_count": 1283,
   "id": "3000ac8b-03e6-4cf8-8893-add7fc678b86",
   "metadata": {},
   "outputs": [
    {
     "data": {
      "text/plain": [
       "array([1, 3])"
      ]
     },
     "execution_count": 1283,
     "metadata": {},
     "output_type": "execute_result"
    }
   ],
   "source": [
    "gt_cn_profiles"
   ]
  },
  {
   "cell_type": "code",
   "execution_count": 1284,
   "id": "51a9f633-99f1-4981-a565-6ef2ba95ad3a",
   "metadata": {},
   "outputs": [
    {
     "data": {
      "text/plain": [
       "array([0.44320164, 0.55679836])"
      ]
     },
     "execution_count": 1284,
     "metadata": {},
     "output_type": "execute_result"
    }
   ],
   "source": [
    "gt_mixing_proportions"
   ]
  },
  {
   "cell_type": "markdown",
   "id": "54ab1c00-b71d-4ab5-a96b-eca11dca5c87",
   "metadata": {},
   "source": [
    "# EM for mixture of NB with fixed dispersion"
   ]
  },
  {
   "cell_type": "code",
   "execution_count": 1285,
   "id": "888c62ff-dc2a-4b69-9ca5-5e9d4be38629",
   "metadata": {},
   "outputs": [],
   "source": [
    "class NBin_mixture_Q_fixed_phi(GenericLikelihoodModel):\n",
    "    def __init__(self, endog, coeffs, total_reads, phi, seed=0, **kwds):\n",
    "        super(NBin_mixture_Q_fixed_phi, self).__init__(endog, exog = np.zeros(endog.shape), **kwds)\n",
    "        self.coeffs = coeffs\n",
    "        self.total_reads = total_reads\n",
    "        self.nclones = coeffs.shape[1]\n",
    "        self.seed = seed\n",
    "        self.phi = phi\n",
    "\n",
    "    def nloglikeobs(self, params):\n",
    "        # phi = params[-1]\n",
    "        cn = params\n",
    "        ll = _ll_mixture_nb(self.endog, self.coeffs, cn, self.total_reads, self.phi)\n",
    "        return -ll\n",
    "\n",
    "    def fit(self, start_params=None, maxiter=10000, maxfun=5000, **kwds):\n",
    "        for clone_idx in range(self.nclones):\n",
    "            self.exog_names.append(f'cn_clone_{clone_idx}')\n",
    "\n",
    "        if start_params is None:\n",
    "            # Reasonable starting values\n",
    "            cn_guess = np.arange(self.nclones) + 1\n",
    "            start_params = cn_guess\n",
    "        \n",
    "        return super(NBin_mixture_Q_fixed_phi, self).fit(start_params=start_params,\n",
    "                                               maxiter=maxiter, maxfun=maxfun,\n",
    "                                               **kwds)"
   ]
  },
  {
   "cell_type": "code",
   "execution_count": 1335,
   "id": "9cff51d2-818c-4ce4-a336-fa8bfb499e19",
   "metadata": {},
   "outputs": [],
   "source": [
    "def mixed_NB_EM_fixed_dispersion(y, total_reads, nclones=1, phi=100, cn_max=8, maxiter=10, seed=0, tol = 1e-6):\n",
    "    \n",
    "    np.random.seed(seed)\n",
    "    nobservations = len(y)\n",
    "    \n",
    "    # initial guess\n",
    "    mixing_props = [1/nclones]*nclones\n",
    "    cn = np.arange(nclones) + 1\n",
    "    # cn = np.random.randint(cn_max - 1, size=nclones) + 1\n",
    "\n",
    "    relative_marginal_gain = np.inf\n",
    "    old_marginal = np.inf\n",
    "    iter_count = 0\n",
    "    em_data = []\n",
    "    \n",
    "    while (iter_count < maxiter) & (relative_marginal_gain >= tol):\n",
    "    # while (iter_count < maxiter):\n",
    "        \n",
    "        # E-step\n",
    "        coeffs, new_marginal = get_responsibilities_and_marginal(y, mixing_props, cn, total_reads, phi)\n",
    "        \n",
    "        print(new_marginal, mixing_props)\n",
    "        \n",
    "        # M-step\n",
    "        new_mixing_props = coeffs.sum(axis=0) / nobservations\n",
    "\n",
    "        curr_model = NBin_mixture_Q_fixed_phi(y, coeffs, total_reads, phi, seed)\n",
    "        # res = curr_model.fit(disp=0)\n",
    "        \n",
    "        res = curr_model.fit(start_params=cn, disp=0, xtol=1e-9, ftol=1e-9)\n",
    "        \n",
    "        # optimization solution\n",
    "        params = res.params\n",
    "        new_cn = params[:nclones]\n",
    "        \n",
    "        # summary\n",
    "        inner_iter = 0\n",
    "        # inner_iter = res.mle_retvals['iterations']\n",
    "        inner_converged = res.mle_retvals['converged']\n",
    "        fopt = res.mle_retvals['fopt']\n",
    "        fcalls = res.mle_retvals['fcalls']\n",
    "        \n",
    "        if iter_count > 0:\n",
    "            relative_marginal_gain = (new_marginal - old_marginal) / np.abs(old_marginal)\n",
    "            \n",
    "        em_data.append([iter_count, old_marginal, new_marginal, relative_marginal_gain, fopt, fcalls, inner_iter, inner_converged])\n",
    "        \n",
    "        if (relative_marginal_gain > 0) | (np.abs(new_marginal) == np.inf) | (np.abs(old_marginal) == np.inf):\n",
    "            old_marginal = new_marginal\n",
    "            cn = new_cn\n",
    "            mixing_props = new_mixing_props\n",
    "            \n",
    "            iter_count += 1\n",
    "            if np.isnan(relative_marginal_gain):\n",
    "                relative_marginal_gain = np.inf\n",
    "        else:\n",
    "            break\n",
    "        \n",
    "    df_EM = pd.DataFrame(em_data, columns = ['iterations', 'old_marginal', 'marginal', 'relative_marginal_gain', 'fopt', 'fcalls', 'inner_iter', 'inner_converged'])\n",
    "    \n",
    "    return mixing_props, cn, phi, df_EM"
   ]
  },
  {
   "cell_type": "code",
   "execution_count": 1336,
   "id": "9e4007aa-59ba-419d-9818-d1f434df87e0",
   "metadata": {},
   "outputs": [
    {
     "name": "stdout",
     "output_type": "stream",
     "text": [
      "-31608.274570025376 [0.5, 0.5]\n"
     ]
    },
    {
     "name": "stderr",
     "output_type": "stream",
     "text": [
      "/n/fs/ragr-data/users/palash/anaconda3/lib/python3.8/site-packages/statsmodels/base/model.py:2694: UserWarning: df_model + k_constant differs from nparams\n",
      "  warnings.warn(\"df_model + k_constant differs from nparams\")\n",
      "/n/fs/ragr-data/users/palash/anaconda3/lib/python3.8/site-packages/statsmodels/base/model.py:2696: UserWarning: df_resid differs from nobs - nparams\n",
      "  warnings.warn(\"df_resid differs from nobs - nparams\")\n",
      "/n/fs/ragr-data/users/palash/anaconda3/lib/python3.8/site-packages/statsmodels/base/model.py:1024: ValueWarning: more exog_names than parameters\n",
      "  warnings.warn('more exog_names than parameters', ValueWarning)\n"
     ]
    },
    {
     "name": "stdout",
     "output_type": "stream",
     "text": [
      "-20390.031333141815 [0.11342073 0.88657927]\n"
     ]
    },
    {
     "name": "stderr",
     "output_type": "stream",
     "text": [
      "/n/fs/ragr-data/users/palash/anaconda3/lib/python3.8/site-packages/statsmodels/base/model.py:1024: ValueWarning: more exog_names than parameters\n",
      "  warnings.warn('more exog_names than parameters', ValueWarning)\n"
     ]
    },
    {
     "name": "stdout",
     "output_type": "stream",
     "text": [
      "-20187.691889455295 [0.17415421 0.82584579]\n"
     ]
    },
    {
     "name": "stderr",
     "output_type": "stream",
     "text": [
      "/n/fs/ragr-data/users/palash/anaconda3/lib/python3.8/site-packages/statsmodels/base/model.py:1024: ValueWarning: more exog_names than parameters\n",
      "  warnings.warn('more exog_names than parameters', ValueWarning)\n"
     ]
    },
    {
     "name": "stdout",
     "output_type": "stream",
     "text": [
      "-20051.187965528938 [0.2267421 0.7732579]\n"
     ]
    },
    {
     "name": "stderr",
     "output_type": "stream",
     "text": [
      "/n/fs/ragr-data/users/palash/anaconda3/lib/python3.8/site-packages/statsmodels/base/model.py:1024: ValueWarning: more exog_names than parameters\n",
      "  warnings.warn('more exog_names than parameters', ValueWarning)\n"
     ]
    },
    {
     "name": "stdout",
     "output_type": "stream",
     "text": [
      "-19964.816554479636 [0.27046284 0.72953716]\n"
     ]
    },
    {
     "name": "stderr",
     "output_type": "stream",
     "text": [
      "/n/fs/ragr-data/users/palash/anaconda3/lib/python3.8/site-packages/statsmodels/base/model.py:1024: ValueWarning: more exog_names than parameters\n",
      "  warnings.warn('more exog_names than parameters', ValueWarning)\n"
     ]
    },
    {
     "name": "stdout",
     "output_type": "stream",
     "text": [
      "-19912.883933534664 [0.30522532 0.69477468]\n"
     ]
    },
    {
     "name": "stderr",
     "output_type": "stream",
     "text": [
      "/n/fs/ragr-data/users/palash/anaconda3/lib/python3.8/site-packages/statsmodels/base/model.py:1024: ValueWarning: more exog_names than parameters\n",
      "  warnings.warn('more exog_names than parameters', ValueWarning)\n"
     ]
    },
    {
     "name": "stdout",
     "output_type": "stream",
     "text": [
      "-19882.485071352392 [0.33213898 0.66786102]\n"
     ]
    },
    {
     "name": "stderr",
     "output_type": "stream",
     "text": [
      "/n/fs/ragr-data/users/palash/anaconda3/lib/python3.8/site-packages/statsmodels/base/model.py:1024: ValueWarning: more exog_names than parameters\n",
      "  warnings.warn('more exog_names than parameters', ValueWarning)\n"
     ]
    },
    {
     "name": "stdout",
     "output_type": "stream",
     "text": [
      "-19864.90117117243 [0.35270866 0.64729134]\n"
     ]
    },
    {
     "name": "stderr",
     "output_type": "stream",
     "text": [
      "/n/fs/ragr-data/users/palash/anaconda3/lib/python3.8/site-packages/statsmodels/base/model.py:1024: ValueWarning: more exog_names than parameters\n",
      "  warnings.warn('more exog_names than parameters', ValueWarning)\n"
     ]
    },
    {
     "name": "stdout",
     "output_type": "stream",
     "text": [
      "-19854.769042579333 [0.3683469 0.6316531]\n"
     ]
    },
    {
     "name": "stderr",
     "output_type": "stream",
     "text": [
      "/n/fs/ragr-data/users/palash/anaconda3/lib/python3.8/site-packages/statsmodels/base/model.py:1024: ValueWarning: more exog_names than parameters\n",
      "  warnings.warn('more exog_names than parameters', ValueWarning)\n"
     ]
    },
    {
     "name": "stdout",
     "output_type": "stream",
     "text": [
      "-19848.93005350441 [0.38021877 0.61978123]\n"
     ]
    },
    {
     "name": "stderr",
     "output_type": "stream",
     "text": [
      "/n/fs/ragr-data/users/palash/anaconda3/lib/python3.8/site-packages/statsmodels/base/model.py:1024: ValueWarning: more exog_names than parameters\n",
      "  warnings.warn('more exog_names than parameters', ValueWarning)\n"
     ]
    }
   ],
   "source": [
    "inferred_mixing_props, inferred_cn, inferred_phi, df_EM = mixed_NB_EM_fixed_dispersion(observed_read_counts.values, total_reads.values, phi=gt_phi, nclones=2, seed=0)"
   ]
  },
  {
   "cell_type": "code",
   "execution_count": 1337,
   "id": "93fb16e4-f0a3-452e-891e-8bb0acec1394",
   "metadata": {},
   "outputs": [],
   "source": [
    "_, gt_marginal = get_responsibilities_and_marginal(observed_read_counts.values, gt_mixing_proportions, gt_cn_profiles, total_reads.values, gt_phi)"
   ]
  },
  {
   "cell_type": "code",
   "execution_count": 1338,
   "id": "439b0d27-1b97-4d7b-b5e5-af35eed7f752",
   "metadata": {},
   "outputs": [
    {
     "data": {
      "text/html": [
       "<div>\n",
       "<style scoped>\n",
       "    .dataframe tbody tr th:only-of-type {\n",
       "        vertical-align: middle;\n",
       "    }\n",
       "\n",
       "    .dataframe tbody tr th {\n",
       "        vertical-align: top;\n",
       "    }\n",
       "\n",
       "    .dataframe thead th {\n",
       "        text-align: right;\n",
       "    }\n",
       "</style>\n",
       "<table border=\"1\" class=\"dataframe\">\n",
       "  <thead>\n",
       "    <tr style=\"text-align: right;\">\n",
       "      <th></th>\n",
       "      <th>iterations</th>\n",
       "      <th>old_marginal</th>\n",
       "      <th>marginal</th>\n",
       "      <th>relative_marginal_gain</th>\n",
       "      <th>fopt</th>\n",
       "      <th>fcalls</th>\n",
       "      <th>inner_iter</th>\n",
       "      <th>inner_converged</th>\n",
       "    </tr>\n",
       "  </thead>\n",
       "  <tbody>\n",
       "    <tr>\n",
       "      <th>0</th>\n",
       "      <td>0</td>\n",
       "      <td>inf</td>\n",
       "      <td>-31608.274570</td>\n",
       "      <td>inf</td>\n",
       "      <td>4.605612</td>\n",
       "      <td>142</td>\n",
       "      <td>0</td>\n",
       "      <td>True</td>\n",
       "    </tr>\n",
       "    <tr>\n",
       "      <th>1</th>\n",
       "      <td>1</td>\n",
       "      <td>-3.160827e+04</td>\n",
       "      <td>-20390.031333</td>\n",
       "      <td>0.354915</td>\n",
       "      <td>4.455247</td>\n",
       "      <td>126</td>\n",
       "      <td>0</td>\n",
       "      <td>True</td>\n",
       "    </tr>\n",
       "    <tr>\n",
       "      <th>2</th>\n",
       "      <td>2</td>\n",
       "      <td>-2.039003e+04</td>\n",
       "      <td>-20187.691889</td>\n",
       "      <td>0.009923</td>\n",
       "      <td>4.359866</td>\n",
       "      <td>128</td>\n",
       "      <td>0</td>\n",
       "      <td>True</td>\n",
       "    </tr>\n",
       "    <tr>\n",
       "      <th>3</th>\n",
       "      <td>3</td>\n",
       "      <td>-2.018769e+04</td>\n",
       "      <td>-20051.187966</td>\n",
       "      <td>0.006762</td>\n",
       "      <td>4.297101</td>\n",
       "      <td>124</td>\n",
       "      <td>0</td>\n",
       "      <td>True</td>\n",
       "    </tr>\n",
       "    <tr>\n",
       "      <th>4</th>\n",
       "      <td>4</td>\n",
       "      <td>-2.005119e+04</td>\n",
       "      <td>-19964.816554</td>\n",
       "      <td>0.004308</td>\n",
       "      <td>4.256800</td>\n",
       "      <td>132</td>\n",
       "      <td>0</td>\n",
       "      <td>True</td>\n",
       "    </tr>\n",
       "    <tr>\n",
       "      <th>5</th>\n",
       "      <td>5</td>\n",
       "      <td>-1.996482e+04</td>\n",
       "      <td>-19912.883934</td>\n",
       "      <td>0.002601</td>\n",
       "      <td>4.231536</td>\n",
       "      <td>129</td>\n",
       "      <td>0</td>\n",
       "      <td>True</td>\n",
       "    </tr>\n",
       "    <tr>\n",
       "      <th>6</th>\n",
       "      <td>6</td>\n",
       "      <td>-1.991288e+04</td>\n",
       "      <td>-19882.485071</td>\n",
       "      <td>0.001527</td>\n",
       "      <td>4.215849</td>\n",
       "      <td>128</td>\n",
       "      <td>0</td>\n",
       "      <td>True</td>\n",
       "    </tr>\n",
       "    <tr>\n",
       "      <th>7</th>\n",
       "      <td>7</td>\n",
       "      <td>-1.988249e+04</td>\n",
       "      <td>-19864.901171</td>\n",
       "      <td>0.000884</td>\n",
       "      <td>4.206090</td>\n",
       "      <td>118</td>\n",
       "      <td>0</td>\n",
       "      <td>True</td>\n",
       "    </tr>\n",
       "    <tr>\n",
       "      <th>8</th>\n",
       "      <td>8</td>\n",
       "      <td>-1.986490e+04</td>\n",
       "      <td>-19854.769043</td>\n",
       "      <td>0.000510</td>\n",
       "      <td>4.199960</td>\n",
       "      <td>120</td>\n",
       "      <td>0</td>\n",
       "      <td>True</td>\n",
       "    </tr>\n",
       "    <tr>\n",
       "      <th>9</th>\n",
       "      <td>9</td>\n",
       "      <td>-1.985477e+04</td>\n",
       "      <td>-19848.930054</td>\n",
       "      <td>0.000294</td>\n",
       "      <td>4.196054</td>\n",
       "      <td>125</td>\n",
       "      <td>0</td>\n",
       "      <td>True</td>\n",
       "    </tr>\n",
       "  </tbody>\n",
       "</table>\n",
       "</div>"
      ],
      "text/plain": [
       "   iterations  old_marginal      marginal  relative_marginal_gain      fopt  \\\n",
       "0           0           inf -31608.274570                     inf  4.605612   \n",
       "1           1 -3.160827e+04 -20390.031333                0.354915  4.455247   \n",
       "2           2 -2.039003e+04 -20187.691889                0.009923  4.359866   \n",
       "3           3 -2.018769e+04 -20051.187966                0.006762  4.297101   \n",
       "4           4 -2.005119e+04 -19964.816554                0.004308  4.256800   \n",
       "5           5 -1.996482e+04 -19912.883934                0.002601  4.231536   \n",
       "6           6 -1.991288e+04 -19882.485071                0.001527  4.215849   \n",
       "7           7 -1.988249e+04 -19864.901171                0.000884  4.206090   \n",
       "8           8 -1.986490e+04 -19854.769043                0.000510  4.199960   \n",
       "9           9 -1.985477e+04 -19848.930054                0.000294  4.196054   \n",
       "\n",
       "   fcalls  inner_iter  inner_converged  \n",
       "0     142           0             True  \n",
       "1     126           0             True  \n",
       "2     128           0             True  \n",
       "3     124           0             True  \n",
       "4     132           0             True  \n",
       "5     129           0             True  \n",
       "6     128           0             True  \n",
       "7     118           0             True  \n",
       "8     120           0             True  \n",
       "9     125           0             True  "
      ]
     },
     "execution_count": 1338,
     "metadata": {},
     "output_type": "execute_result"
    }
   ],
   "source": [
    "df_EM"
   ]
  },
  {
   "cell_type": "code",
   "execution_count": 1339,
   "id": "52fe730f-9a07-4223-b3e9-fb5ddd78a00c",
   "metadata": {},
   "outputs": [
    {
     "data": {
      "text/plain": [
       "-19841.264535145187"
      ]
     },
     "execution_count": 1339,
     "metadata": {},
     "output_type": "execute_result"
    }
   ],
   "source": [
    "gt_marginal"
   ]
  },
  {
   "cell_type": "code",
   "execution_count": 1291,
   "id": "3fa6418f-a7bf-4feb-a5e0-86512383382f",
   "metadata": {},
   "outputs": [
    {
     "data": {
      "text/plain": [
       "array([1.00072879, 2.98531297])"
      ]
     },
     "execution_count": 1291,
     "metadata": {},
     "output_type": "execute_result"
    }
   ],
   "source": [
    "inferred_cn"
   ]
  },
  {
   "cell_type": "code",
   "execution_count": 1292,
   "id": "e802203d-6e94-4c8d-8517-01e9f4424e7b",
   "metadata": {},
   "outputs": [
    {
     "data": {
      "text/plain": [
       "array([0.43947043, 0.56052957])"
      ]
     },
     "execution_count": 1292,
     "metadata": {},
     "output_type": "execute_result"
    }
   ],
   "source": [
    "inferred_mixing_props"
   ]
  },
  {
   "cell_type": "code",
   "execution_count": 1293,
   "id": "838f7f3f-33b2-44fc-82c1-1bfc0d2e0123",
   "metadata": {},
   "outputs": [
    {
     "data": {
      "text/plain": [
       "array([1, 3])"
      ]
     },
     "execution_count": 1293,
     "metadata": {},
     "output_type": "execute_result"
    }
   ],
   "source": [
    "gt_cn_profiles"
   ]
  },
  {
   "cell_type": "code",
   "execution_count": 1294,
   "id": "3c2fe865-eeb4-4c54-a8cc-c8bfc50b878f",
   "metadata": {},
   "outputs": [
    {
     "data": {
      "text/plain": [
       "array([0.44320164, 0.55679836])"
      ]
     },
     "execution_count": 1294,
     "metadata": {},
     "output_type": "execute_result"
    }
   ],
   "source": [
    "gt_mixing_proportions"
   ]
  },
  {
   "cell_type": "markdown",
   "id": "8bbed0f3-cb3d-4fb5-9fe4-3beeff376454",
   "metadata": {
    "tags": []
   },
   "source": [
    "# EM for mixture of NB with fixed dispersion, fixed total cell counts"
   ]
  },
  {
   "cell_type": "code",
   "execution_count": 1295,
   "id": "a896eaf9-1241-4499-9ee3-aebaf0fa9918",
   "metadata": {},
   "outputs": [],
   "source": [
    "nobservations = len(cell_total_reads)\n",
    "fixed_cell_total_reads = pd.Series([math.floor(np.median(cell_total_reads))] * nobservations)"
   ]
  },
  {
   "cell_type": "code",
   "execution_count": 1296,
   "id": "8d885a16-c527-4342-b8aa-98ea5df7f0cb",
   "metadata": {},
   "outputs": [],
   "source": [
    "nclones = 2\n",
    "namplicon = 500\n",
    "gt_phi = 10\n",
    "\n",
    "observed_read_counts, hidden_clone_ids, total_reads, gt_cn_profiles, gt_mixing_proportions = simulate_mixed_NB(fixed_cell_total_reads, namplicon, nclones,\n",
    "                                                                                                               dispersion_parameter=gt_phi, seed=2)"
   ]
  },
  {
   "cell_type": "code",
   "execution_count": 1297,
   "id": "4a5f3ab4-37b1-4c54-9571-a6d611ccd508",
   "metadata": {},
   "outputs": [
    {
     "data": {
      "text/plain": [
       "(array([ 21.,  28.,  77., 136., 263., 233., 261., 200., 199., 187., 213.,\n",
       "        153., 134., 146., 180., 142., 120., 130., 144., 181., 130., 127.,\n",
       "         91., 110., 116.,  77.,  89.,  57.,  51.,  58.,  38.,  31.,  37.,\n",
       "         20.,  17.,  20.,  10.,  11.,   9.,   7.,  10.,   5.,   7.,   3.,\n",
       "          0.,   0.,   3.,   1.,   1.,   2.]),\n",
       " array([ 0.36145912,  0.59279296,  0.8241268 ,  1.05546063,  1.28679447,\n",
       "         1.51812831,  1.74946215,  1.98079598,  2.21212982,  2.44346366,\n",
       "         2.67479749,  2.90613133,  3.13746517,  3.36879901,  3.60013284,\n",
       "         3.83146668,  4.06280052,  4.29413436,  4.52546819,  4.75680203,\n",
       "         4.98813587,  5.21946971,  5.45080354,  5.68213738,  5.91347122,\n",
       "         6.14480506,  6.37613889,  6.60747273,  6.83880657,  7.07014041,\n",
       "         7.30147424,  7.53280808,  7.76414192,  7.99547575,  8.22680959,\n",
       "         8.45814343,  8.68947727,  8.9208111 ,  9.15214494,  9.38347878,\n",
       "         9.61481262,  9.84614645, 10.07748029, 10.30881413, 10.54014797,\n",
       "        10.7714818 , 11.00281564, 11.23414948, 11.46548332, 11.69681715,\n",
       "        11.92815099]),\n",
       " <BarContainer object of 50 artists>)"
      ]
     },
     "execution_count": 1297,
     "metadata": {},
     "output_type": "execute_result"
    },
    {
     "data": {
      "image/png": "[encoded data removed]",
      "text/plain": [
       "<Figure size 432x288 with 1 Axes>"
      ]
     },
     "metadata": {
      "needs_background": "light"
     },
     "output_type": "display_data"
    }
   ],
   "source": [
    "plt.hist(observed_read_counts / total_reads, bins=50)"
   ]
  },
  {
   "cell_type": "code",
   "execution_count": 1298,
   "id": "6d90518c-d575-4f75-b4ce-fc707be2c5af",
   "metadata": {},
   "outputs": [
    {
     "data": {
      "text/plain": [
       "array([5, 2])"
      ]
     },
     "execution_count": 1298,
     "metadata": {},
     "output_type": "execute_result"
    }
   ],
   "source": [
    "gt_cn_profiles"
   ]
  },
  {
   "cell_type": "code",
   "execution_count": 1299,
   "id": "063d5b30-5f6d-4df3-88e3-de1e04a4bc8a",
   "metadata": {},
   "outputs": [],
   "source": [
    "_, gt_marginal = get_responsibilities_and_marginal(observed_read_counts.values, gt_mixing_proportions, gt_cn_profiles, total_reads, gt_phi)"
   ]
  },
  {
   "cell_type": "code",
   "execution_count": 1300,
   "id": "54a9b474-3066-4ab3-9dee-e2a9f79fa872",
   "metadata": {},
   "outputs": [
    {
     "data": {
      "text/plain": [
       "-19841.264535145187"
      ]
     },
     "execution_count": 1300,
     "metadata": {},
     "output_type": "execute_result"
    }
   ],
   "source": [
    "gt_marginal"
   ]
  },
  {
   "cell_type": "code",
   "execution_count": 1326,
   "id": "1d1b8af8-73e5-4c57-a3f8-40ddd4258862",
   "metadata": {},
   "outputs": [],
   "source": [
    "def mixed_NB_EM_fixed_dispersion_fixed_total_cell_count(y, total_reads, nclones=1, phi=100, cn_max=8, maxiter=10, seed=0, tol = 1e-8):\n",
    "    \n",
    "    np.random.seed(seed)\n",
    "    nobservations = len(y)\n",
    "    \n",
    "    fixed_total_reads = total_reads[0]\n",
    "    print(fixed_total_reads)\n",
    "    # initial guess\n",
    "    mixing_props = [1/nclones]*nclones\n",
    "    # cn = np.arange(nclones) + 1\n",
    "    cn = np.random.randint(cn_max - 1, size=nclones) + 1\n",
    "\n",
    "    relative_marginal_gain = np.inf\n",
    "    old_marginal = np.inf\n",
    "    iter_count = 0\n",
    "    em_data = []\n",
    "    \n",
    "    while (iter_count < maxiter) & (relative_marginal_gain >= tol):\n",
    "    # while (iter_count < maxiter):\n",
    "        \n",
    "        # E-step\n",
    "        coeffs, new_marginal = get_responsibilities_and_marginal(y, mixing_props, cn, total_reads, phi)\n",
    "        \n",
    "        print(new_marginal, cn, mixing_props)\n",
    "        \n",
    "        # M-step\n",
    "        new_mixing_props = coeffs.sum(axis=0) / nobservations\n",
    "        new_cn = (coeffs * y[:, np.newaxis]).sum(axis=0) / (coeffs * total_reads[:, np.newaxis]).sum(axis=0)\n",
    "        \n",
    "        _, new_marginal = get_responsibilities_and_marginal(y, new_mixing_props, new_cn, total_reads, phi)                \n",
    "        \n",
    "        if iter_count > 0:\n",
    "            relative_marginal_gain = (new_marginal - old_marginal) / np.abs(old_marginal)\n",
    "            \n",
    "        em_data.append([iter_count, old_marginal, new_marginal, relative_marginal_gain])\n",
    "        \n",
    "        if (relative_marginal_gain > 0) | (np.abs(new_marginal) == np.inf) | (np.abs(old_marginal) == np.inf):\n",
    "            old_marginal = new_marginal\n",
    "            cn = new_cn\n",
    "            mixing_props = new_mixing_props\n",
    "            \n",
    "            iter_count += 1\n",
    "            if np.isnan(relative_marginal_gain):\n",
    "                relative_marginal_gain = np.inf\n",
    "        else:\n",
    "            break\n",
    "        \n",
    "    df_EM = pd.DataFrame(em_data, columns = ['iterations', 'old_marginal', 'marginal', 'relative_marginal_gain'])\n",
    "    \n",
    "    return mixing_props, cn, phi, df_EM"
   ]
  },
  {
   "cell_type": "code",
   "execution_count": 1327,
   "id": "9bcc87fd-343f-4ba0-acbc-f88c77a92068",
   "metadata": {},
   "outputs": [
    {
     "name": "stdout",
     "output_type": "stream",
     "text": [
      "13.832822885142983\n",
      "-23402.704068344337 [5 6] [0.5, 0.5]\n",
      "-20824.174513375667 [3.3099804 4.4678723] [0.61676351 0.38323649]\n",
      "-20297.46633065077 [2.91461701 5.05942329] [0.60877128 0.39122872]\n",
      "-20038.453277814915 [2.59444669 5.43865057] [0.5924061 0.4075939]\n",
      "-19959.91047019464 [2.42625775 5.4815827 ] [0.56552279 0.43447721]\n",
      "-19917.093117609635 [2.32604838 5.41091062] [0.53719864 0.46280136]\n",
      "-19888.881389709637 [2.2533385  5.33045052] [0.51240373 0.48759627]\n",
      "-19870.56148677344 [2.19710642 5.26138782] [0.49201127 0.50798873]\n",
      "-19858.978459666356 [2.15329324 5.20559857] [0.47566399 0.52433601]\n",
      "-19851.805339278904 [2.11930087 5.16144938] [0.46273959 0.53726041]\n"
     ]
    }
   ],
   "source": [
    "inferred_mixing_props, inferred_cn, inferred_phi, df_EM = mixed_NB_EM_fixed_dispersion_fixed_total_cell_count(observed_read_counts.values,\n",
    "                                                                                       total_reads.values, phi=gt_phi, nclones=2, seed=0)"
   ]
  },
  {
   "cell_type": "code",
   "execution_count": 1328,
   "id": "a995b484-ba00-4720-9308-915d9cbd6683",
   "metadata": {},
   "outputs": [
    {
     "data": {
      "text/html": [
       "<div>\n",
       "<style scoped>\n",
       "    .dataframe tbody tr th:only-of-type {\n",
       "        vertical-align: middle;\n",
       "    }\n",
       "\n",
       "    .dataframe tbody tr th {\n",
       "        vertical-align: top;\n",
       "    }\n",
       "\n",
       "    .dataframe thead th {\n",
       "        text-align: right;\n",
       "    }\n",
       "</style>\n",
       "<table border=\"1\" class=\"dataframe\">\n",
       "  <thead>\n",
       "    <tr style=\"text-align: right;\">\n",
       "      <th></th>\n",
       "      <th>iterations</th>\n",
       "      <th>old_marginal</th>\n",
       "      <th>marginal</th>\n",
       "      <th>relative_marginal_gain</th>\n",
       "    </tr>\n",
       "  </thead>\n",
       "  <tbody>\n",
       "    <tr>\n",
       "      <th>0</th>\n",
       "      <td>0</td>\n",
       "      <td>inf</td>\n",
       "      <td>-20824.174513</td>\n",
       "      <td>inf</td>\n",
       "    </tr>\n",
       "    <tr>\n",
       "      <th>1</th>\n",
       "      <td>1</td>\n",
       "      <td>-2.082417e+04</td>\n",
       "      <td>-20297.466331</td>\n",
       "      <td>0.025293</td>\n",
       "    </tr>\n",
       "    <tr>\n",
       "      <th>2</th>\n",
       "      <td>2</td>\n",
       "      <td>-2.029747e+04</td>\n",
       "      <td>-20038.453278</td>\n",
       "      <td>0.012761</td>\n",
       "    </tr>\n",
       "    <tr>\n",
       "      <th>3</th>\n",
       "      <td>3</td>\n",
       "      <td>-2.003845e+04</td>\n",
       "      <td>-19959.910470</td>\n",
       "      <td>0.003920</td>\n",
       "    </tr>\n",
       "    <tr>\n",
       "      <th>4</th>\n",
       "      <td>4</td>\n",
       "      <td>-1.995991e+04</td>\n",
       "      <td>-19917.093118</td>\n",
       "      <td>0.002145</td>\n",
       "    </tr>\n",
       "    <tr>\n",
       "      <th>5</th>\n",
       "      <td>5</td>\n",
       "      <td>-1.991709e+04</td>\n",
       "      <td>-19888.881390</td>\n",
       "      <td>0.001416</td>\n",
       "    </tr>\n",
       "    <tr>\n",
       "      <th>6</th>\n",
       "      <td>6</td>\n",
       "      <td>-1.988888e+04</td>\n",
       "      <td>-19870.561487</td>\n",
       "      <td>0.000921</td>\n",
       "    </tr>\n",
       "    <tr>\n",
       "      <th>7</th>\n",
       "      <td>7</td>\n",
       "      <td>-1.987056e+04</td>\n",
       "      <td>-19858.978460</td>\n",
       "      <td>0.000583</td>\n",
       "    </tr>\n",
       "    <tr>\n",
       "      <th>8</th>\n",
       "      <td>8</td>\n",
       "      <td>-1.985898e+04</td>\n",
       "      <td>-19851.805339</td>\n",
       "      <td>0.000361</td>\n",
       "    </tr>\n",
       "    <tr>\n",
       "      <th>9</th>\n",
       "      <td>9</td>\n",
       "      <td>-1.985181e+04</td>\n",
       "      <td>-19847.429101</td>\n",
       "      <td>0.000220</td>\n",
       "    </tr>\n",
       "  </tbody>\n",
       "</table>\n",
       "</div>"
      ],
      "text/plain": [
       "   iterations  old_marginal      marginal  relative_marginal_gain\n",
       "0           0           inf -20824.174513                     inf\n",
       "1           1 -2.082417e+04 -20297.466331                0.025293\n",
       "2           2 -2.029747e+04 -20038.453278                0.012761\n",
       "3           3 -2.003845e+04 -19959.910470                0.003920\n",
       "4           4 -1.995991e+04 -19917.093118                0.002145\n",
       "5           5 -1.991709e+04 -19888.881390                0.001416\n",
       "6           6 -1.988888e+04 -19870.561487                0.000921\n",
       "7           7 -1.987056e+04 -19858.978460                0.000583\n",
       "8           8 -1.985898e+04 -19851.805339                0.000361\n",
       "9           9 -1.985181e+04 -19847.429101                0.000220"
      ]
     },
     "execution_count": 1328,
     "metadata": {},
     "output_type": "execute_result"
    }
   ],
   "source": [
    "df_EM"
   ]
  },
  {
   "cell_type": "code",
   "execution_count": 1329,
   "id": "adc8dc65-afb1-417f-8e22-7549d5ae35a5",
   "metadata": {},
   "outputs": [],
   "source": [
    "_, gt_marginal = get_responsibilities_and_marginal(observed_read_counts.values, gt_mixing_proportions, gt_cn_profiles, total_reads.values, gt_phi)"
   ]
  },
  {
   "cell_type": "code",
   "execution_count": 1330,
   "id": "66bbe769-fe47-4a9c-96c8-0d5d20f2656f",
   "metadata": {},
   "outputs": [
    {
     "data": {
      "text/plain": [
       "-19841.264535145187"
      ]
     },
     "execution_count": 1330,
     "metadata": {},
     "output_type": "execute_result"
    }
   ],
   "source": [
    "gt_marginal"
   ]
  },
  {
   "cell_type": "code",
   "execution_count": 1331,
   "id": "8c49b22b-a13d-42b7-b034-fea0ad678751",
   "metadata": {},
   "outputs": [
    {
     "data": {
      "text/plain": [
       "array([2.0930494 , 5.12687044])"
      ]
     },
     "execution_count": 1331,
     "metadata": {},
     "output_type": "execute_result"
    }
   ],
   "source": [
    "inferred_cn"
   ]
  },
  {
   "cell_type": "code",
   "execution_count": 1332,
   "id": "77980ccf-515b-4747-afb3-721b762acd83",
   "metadata": {},
   "outputs": [
    {
     "data": {
      "text/plain": [
       "10"
      ]
     },
     "execution_count": 1332,
     "metadata": {},
     "output_type": "execute_result"
    }
   ],
   "source": [
    "inferred_phi"
   ]
  },
  {
   "cell_type": "code",
   "execution_count": 1333,
   "id": "d31188d2-6d72-4853-b939-0dae40b49b68",
   "metadata": {},
   "outputs": [
    {
     "data": {
      "text/plain": [
       "array([0.45261193, 0.54738807])"
      ]
     },
     "execution_count": 1333,
     "metadata": {},
     "output_type": "execute_result"
    }
   ],
   "source": [
    "inferred_mixing_props"
   ]
  },
  {
   "cell_type": "code",
   "execution_count": 1334,
   "id": "939b7bbd-f073-46ec-b972-87e2361f438d",
   "metadata": {},
   "outputs": [
    {
     "data": {
      "text/plain": [
       "array([5, 2])"
      ]
     },
     "execution_count": 1334,
     "metadata": {},
     "output_type": "execute_result"
    }
   ],
   "source": [
    "gt_cn_profiles"
   ]
  },
  {
   "cell_type": "code",
   "execution_count": 1325,
   "id": "170f58fd-b119-4163-bbcf-e5d940a6c149",
   "metadata": {},
   "outputs": [
    {
     "data": {
      "text/plain": [
       "array([0.57624724, 0.42375276])"
      ]
     },
     "execution_count": 1325,
     "metadata": {},
     "output_type": "execute_result"
    }
   ],
   "source": [
    "gt_mixing_proportions"
   ]
  },
  {
   "cell_type": "code",
   "execution_count": null,
   "id": "78e09eca-3218-4d8b-bbb3-2dc484bc37e8",
   "metadata": {},
   "outputs": [],
   "source": []
  },
  {
   "cell_type": "markdown",
   "id": "bc094c03-91ec-4525-a5b9-2fd1df84d1ad",
   "metadata": {},
   "source": [
    "# Simulate gene-level read counts"
   ]
  },
  {
   "cell_type": "code",
   "execution_count": 287,
   "id": "0a59a55f-c5af-4798-af82-e831dbb739af",
   "metadata": {},
   "outputs": [],
   "source": [
    "tsv_file_dir = '/n/fs/ragr-data/users/palash/mskcc-analysis/panel2_normal_read_counts'\n",
    "normal_tsv_file = 'RA17-37_39_1_IGO_12881_1/results/tsv/RA17-37_39_1_IGO_12881_1.tube1.barcode.cell.distribution.tsv'\n",
    "\n",
    "df_tsv = pd.read_csv(f'{tsv_file_dir}/{normal_tsv_file}', sep='\\t').set_index('cell_barcode')"
   ]
  },
  {
   "cell_type": "code",
   "execution_count": 288,
   "id": "4d1b1c58-dac8-406e-b46a-909906bd6e27",
   "metadata": {},
   "outputs": [],
   "source": [
    "def simulate_mixed_NB_gene_level(cell_total_reads, gene_namplicon = 10, namplicon = 500, nclones = 2, cn_max = 8, seed = 0):\n",
    "\n",
    "    np.random.seed(seed)\n",
    "    nobservations = len(cell_total_reads)\n",
    "    amplicon_factors = np.random.dirichlet([1]*namplicon) / 2\n",
    "\n",
    "    dispersion_parameters = np.random.randint(10, size=gene_namplicon) + 1\n",
    "    # dispersion_parameters = np.array([100]*gene_namplicon)\n",
    "    \n",
    "    mixture_proportions = np.random.dirichlet([1]*nclones)\n",
    "    cn_profiles = np.random.randint(cn_max - 1, size=nclones) + 1\n",
    "    \n",
    "    observed_read_counts = []\n",
    "    clone_ids = []\n",
    "    for total_reads in cell_total_reads:\n",
    "        # clone_idx = np.random.randint(nclones)\n",
    "        clone_idx = np.argmax(np.random.multinomial(1, mixture_proportions, size=1))\n",
    "\n",
    "        clone_ids.append(clone_idx)\n",
    "        copy_number = cn_profiles[clone_idx]\n",
    "\n",
    "        cell_observed_read_counts = []\n",
    "        for amplicon_idx in range(gene_namplicon):\n",
    "            \n",
    "            mu = copy_number*amplicon_factors[amplicon_idx]*total_reads\n",
    "            nb_p = 1 - mu / (dispersion_parameters[amplicon_idx] + mu)\n",
    "            read_count_draw = np.random.negative_binomial(dispersion_parameters[amplicon_idx], nb_p)\n",
    "            # read_count_draw = nbinom.rvs(dispersion_parameter, nb_p)\n",
    "            cell_observed_read_counts.append(read_count_draw)\n",
    "            \n",
    "        observed_read_counts.append(cell_observed_read_counts)\n",
    "\n",
    "            \n",
    "    df_observed_read_counts = pd.DataFrame(observed_read_counts, index = cell_total_reads.index, columns = [f'amplicon_{idx}' for idx in range(gene_namplicon)])\n",
    "    hidden_clone_ids = pd.Series(clone_ids, index = cell_total_reads.index)\n",
    "    df_simulated_amplicons = pd.DataFrame({'amplicon': [f'amplicon_{idx}' for idx in range(gene_namplicon)],\n",
    "                                           'amplicon_factor': list(amplicon_factors[:gene_namplicon]),\n",
    "                                           'phi': list(dispersion_parameters)})\n",
    "    \n",
    "    return df_observed_read_counts, hidden_clone_ids, cn_profiles, mixture_proportions, df_simulated_amplicons.set_index('amplicon')"
   ]
  },
  {
   "cell_type": "code",
   "execution_count": 332,
   "id": "f237ff98-1e62-468f-b724-2ccbe1d2f013",
   "metadata": {},
   "outputs": [],
   "source": [
    "cell_total_reads = df_tsv.sum(axis = 1)\n",
    "nclones = 2\n",
    "namplicon = 500\n",
    "gene_namplicon = 5\n",
    "\n",
    "df_observed_read_counts, hidden_clone_ids, gt_cn, gt_mixture_proportions, df_simulated_amplicons = simulate_mixed_NB_gene_level(cell_total_reads, gene_namplicon,\n",
    "                                                                                                                                nclones = nclones, seed=0)"
   ]
  },
  {
   "cell_type": "code",
   "execution_count": 333,
   "id": "b9ed9459-bdaf-458f-9c83-1effef2ccf08",
   "metadata": {},
   "outputs": [
    {
     "data": {
      "text/html": [
       "<div>\n",
       "<style scoped>\n",
       "    .dataframe tbody tr th:only-of-type {\n",
       "        vertical-align: middle;\n",
       "    }\n",
       "\n",
       "    .dataframe tbody tr th {\n",
       "        vertical-align: top;\n",
       "    }\n",
       "\n",
       "    .dataframe thead th {\n",
       "        text-align: right;\n",
       "    }\n",
       "</style>\n",
       "<table border=\"1\" class=\"dataframe\">\n",
       "  <thead>\n",
       "    <tr style=\"text-align: right;\">\n",
       "      <th></th>\n",
       "      <th>amplicon_0</th>\n",
       "      <th>amplicon_1</th>\n",
       "      <th>amplicon_2</th>\n",
       "      <th>amplicon_3</th>\n",
       "      <th>amplicon_4</th>\n",
       "    </tr>\n",
       "    <tr>\n",
       "      <th>cell_barcode</th>\n",
       "      <th></th>\n",
       "      <th></th>\n",
       "      <th></th>\n",
       "      <th></th>\n",
       "      <th></th>\n",
       "    </tr>\n",
       "  </thead>\n",
       "  <tbody>\n",
       "    <tr>\n",
       "      <th>ACCGTCCTATCCTTCAAC-1</th>\n",
       "      <td>1839</td>\n",
       "      <td>2040</td>\n",
       "      <td>446</td>\n",
       "      <td>1614</td>\n",
       "      <td>238</td>\n",
       "    </tr>\n",
       "    <tr>\n",
       "      <th>AGCAAGTCCAAGAGAGAG-1</th>\n",
       "      <td>1699</td>\n",
       "      <td>3542</td>\n",
       "      <td>1720</td>\n",
       "      <td>2170</td>\n",
       "      <td>1628</td>\n",
       "    </tr>\n",
       "    <tr>\n",
       "      <th>CGCACTCTTTGACCTCCT-1</th>\n",
       "      <td>2280</td>\n",
       "      <td>5007</td>\n",
       "      <td>3529</td>\n",
       "      <td>434</td>\n",
       "      <td>772</td>\n",
       "    </tr>\n",
       "    <tr>\n",
       "      <th>TCGTAGGAATCGACGTTG-1</th>\n",
       "      <td>1474</td>\n",
       "      <td>4648</td>\n",
       "      <td>720</td>\n",
       "      <td>1656</td>\n",
       "      <td>621</td>\n",
       "    </tr>\n",
       "    <tr>\n",
       "      <th>TTCCAGGAGCAATACCAC-1</th>\n",
       "      <td>743</td>\n",
       "      <td>2499</td>\n",
       "      <td>1862</td>\n",
       "      <td>1025</td>\n",
       "      <td>667</td>\n",
       "    </tr>\n",
       "    <tr>\n",
       "      <th>...</th>\n",
       "      <td>...</td>\n",
       "      <td>...</td>\n",
       "      <td>...</td>\n",
       "      <td>...</td>\n",
       "      <td>...</td>\n",
       "    </tr>\n",
       "    <tr>\n",
       "      <th>CAGCACGTGTGGTGCCTG-1</th>\n",
       "      <td>78</td>\n",
       "      <td>178</td>\n",
       "      <td>58</td>\n",
       "      <td>55</td>\n",
       "      <td>59</td>\n",
       "    </tr>\n",
       "    <tr>\n",
       "      <th>GACCGGTAGTCCTTCGTA-1</th>\n",
       "      <td>32</td>\n",
       "      <td>122</td>\n",
       "      <td>104</td>\n",
       "      <td>4</td>\n",
       "      <td>50</td>\n",
       "    </tr>\n",
       "    <tr>\n",
       "      <th>CCGGATTGCGTGCGTTCC-1</th>\n",
       "      <td>55</td>\n",
       "      <td>93</td>\n",
       "      <td>70</td>\n",
       "      <td>25</td>\n",
       "      <td>23</td>\n",
       "    </tr>\n",
       "    <tr>\n",
       "      <th>AGATCGAGTTCTACAGTT-1</th>\n",
       "      <td>71</td>\n",
       "      <td>94</td>\n",
       "      <td>81</td>\n",
       "      <td>67</td>\n",
       "      <td>111</td>\n",
       "    </tr>\n",
       "    <tr>\n",
       "      <th>CAGTGAGGAGACCGTAGT-1</th>\n",
       "      <td>66</td>\n",
       "      <td>59</td>\n",
       "      <td>39</td>\n",
       "      <td>55</td>\n",
       "      <td>40</td>\n",
       "    </tr>\n",
       "  </tbody>\n",
       "</table>\n",
       "<p>4286 rows × 5 columns</p>\n",
       "</div>"
      ],
      "text/plain": [
       "                      amplicon_0  amplicon_1  amplicon_2  amplicon_3  \\\n",
       "cell_barcode                                                           \n",
       "ACCGTCCTATCCTTCAAC-1        1839        2040         446        1614   \n",
       "AGCAAGTCCAAGAGAGAG-1        1699        3542        1720        2170   \n",
       "CGCACTCTTTGACCTCCT-1        2280        5007        3529         434   \n",
       "TCGTAGGAATCGACGTTG-1        1474        4648         720        1656   \n",
       "TTCCAGGAGCAATACCAC-1         743        2499        1862        1025   \n",
       "...                          ...         ...         ...         ...   \n",
       "CAGCACGTGTGGTGCCTG-1          78         178          58          55   \n",
       "GACCGGTAGTCCTTCGTA-1          32         122         104           4   \n",
       "CCGGATTGCGTGCGTTCC-1          55          93          70          25   \n",
       "AGATCGAGTTCTACAGTT-1          71          94          81          67   \n",
       "CAGTGAGGAGACCGTAGT-1          66          59          39          55   \n",
       "\n",
       "                      amplicon_4  \n",
       "cell_barcode                      \n",
       "ACCGTCCTATCCTTCAAC-1         238  \n",
       "AGCAAGTCCAAGAGAGAG-1        1628  \n",
       "CGCACTCTTTGACCTCCT-1         772  \n",
       "TCGTAGGAATCGACGTTG-1         621  \n",
       "TTCCAGGAGCAATACCAC-1         667  \n",
       "...                          ...  \n",
       "CAGCACGTGTGGTGCCTG-1          59  \n",
       "GACCGGTAGTCCTTCGTA-1          50  \n",
       "CCGGATTGCGTGCGTTCC-1          23  \n",
       "AGATCGAGTTCTACAGTT-1         111  \n",
       "CAGTGAGGAGACCGTAGT-1          40  \n",
       "\n",
       "[4286 rows x 5 columns]"
      ]
     },
     "execution_count": 333,
     "metadata": {},
     "output_type": "execute_result"
    }
   ],
   "source": [
    "df_observed_read_counts"
   ]
  },
  {
   "cell_type": "code",
   "execution_count": 334,
   "id": "b6b7c4ad-5924-474e-a301-374f60b6735a",
   "metadata": {},
   "outputs": [
    {
     "data": {
      "text/plain": [
       "array([4, 7])"
      ]
     },
     "execution_count": 334,
     "metadata": {},
     "output_type": "execute_result"
    }
   ],
   "source": [
    "gt_cn"
   ]
  },
  {
   "cell_type": "code",
   "execution_count": 335,
   "id": "7f1dab36-835e-49c4-a099-901dd3091e2d",
   "metadata": {},
   "outputs": [
    {
     "data": {
      "text/plain": [
       "array([0.1048033, 0.8951967])"
      ]
     },
     "execution_count": 335,
     "metadata": {},
     "output_type": "execute_result"
    }
   ],
   "source": [
    "gt_mixture_proportions"
   ]
  },
  {
   "cell_type": "markdown",
   "id": "0e9a35f0-1752-41ee-8d86-78381634455a",
   "metadata": {},
   "source": [
    "# EM for mixture of NB with fixed dispersion at gene level"
   ]
  },
  {
   "cell_type": "code",
   "execution_count": 336,
   "id": "7ac2150f-3c11-4bfe-9c39-0f2860177f8e",
   "metadata": {},
   "outputs": [],
   "source": [
    "def get_responsibilities_and_marginal_gene_level(df_observed_read_counts, df_gene_amplicons, cell_total_reads, mixing_props, cn):    \n",
    "    ncells = len(df_observed_read_counts)\n",
    "    nclones = len(cn)\n",
    "\n",
    "    coeffs = np.zeros((ncells, nclones))    \n",
    "    \n",
    "    for clone_idx in range(nclones):\n",
    "        mu = cn[clone_idx] * cell_total_reads.values[:, np.newaxis] * df_gene_amplicons['amplicon_factor'].values[np.newaxis, :]\n",
    "        phi_matrix = np.array([1]*ncells)[:, np.newaxis] * df_gene_amplicons['phi'].values[np.newaxis, :]\n",
    "\n",
    "        prob = phi_matrix / (phi_matrix + mu)\n",
    "        coeff_ij = nbinom.pmf(df_observed_read_counts.values, phi_matrix, prob)\n",
    "\n",
    "        coeffs[:, clone_idx] =  mixing_props[clone_idx] * np.prod(coeff_ij, axis=1)    \n",
    "        \n",
    "    marginal = np.sum(np.log(np.sum(coeffs, axis = 1)))\n",
    "    responsibilities = coeffs / np.sum(coeffs, axis = 1)[:, np.newaxis]        \n",
    "    \n",
    "    return responsibilities, marginal"
   ]
  },
  {
   "cell_type": "code",
   "execution_count": 337,
   "id": "11cf38ec-057c-4a29-b277-f6ad01f516c9",
   "metadata": {},
   "outputs": [],
   "source": [
    "def _ll_mixture_nb_gene_level(responsibilities, df_observed_read_counts, df_gene_amplicons, cell_total_reads, cn):\n",
    "    ll = 0\n",
    "    ncells = len(df_observed_read_counts)\n",
    "    nclones = len(cn)\n",
    "    for clone_idx in range(nclones):\n",
    "        mu = cn[clone_idx] * cell_total_reads.values[:, np.newaxis] * df_gene_amplicons['amplicon_factor'].values[np.newaxis, :]\n",
    "        phi_matrix = np.array([1]*ncells)[:, np.newaxis] * df_gene_amplicons['phi'].values[np.newaxis, :]\n",
    "\n",
    "        prob = phi_matrix / (phi_matrix + mu)\n",
    "\n",
    "        ll += responsibilities[:, clone_idx] * np.sum(nbinom.logpmf(df_observed_read_counts.values, phi_matrix, prob), axis=1)\n",
    "    \n",
    "    return ll"
   ]
  },
  {
   "cell_type": "code",
   "execution_count": 338,
   "id": "993ba11c-6936-4e0a-9c34-18b4405a670b",
   "metadata": {},
   "outputs": [],
   "source": [
    "class NBin_mixture_Q_fixed_phi_gene_level(GenericLikelihoodModel):\n",
    "    def __init__(self, endog, responsibilities, df_observed_read_counts, df_gene_amplicons, cell_total_reads, seed=0, **kwds):\n",
    "        super(NBin_mixture_Q_fixed_phi_gene_level, self).__init__(endog, exog = [0], **kwds)\n",
    "        self.responsibilities = responsibilities\n",
    "        self.cell_total_reads = cell_total_reads\n",
    "        self.nclones = responsibilities.shape[1]\n",
    "        self.df_observed_read_counts = df_observed_read_counts\n",
    "        self.df_gene_amplicons = df_gene_amplicons\n",
    "        self.seed = seed\n",
    "\n",
    "    def nloglikeobs(self, params):\n",
    "        # phi = params[-1]\n",
    "        cn = params\n",
    "        ll = _ll_mixture_nb_gene_level(self.responsibilities, self.df_observed_read_counts, self.df_gene_amplicons, self.cell_total_reads, cn)\n",
    "        return -ll\n",
    "\n",
    "    def fit(self, start_params=None, maxiter=10000, maxfun=5000, **kwds):\n",
    "        for clone_idx in range(self.nclones):\n",
    "            self.exog_names.append(f'cn_clone_{clone_idx}')\n",
    "\n",
    "        if start_params is None:\n",
    "            # Reasonable starting values\n",
    "            cn_guess = np.arange(self.nclones) + 1\n",
    "            start_params = cn_guess\n",
    "        \n",
    "        return super(NBin_mixture_Q_fixed_phi_gene_level, self).fit(start_params=start_params, maxiter=maxiter, maxfun=maxfun, **kwds)"
   ]
  },
  {
   "cell_type": "code",
   "execution_count": 339,
   "id": "4a692944-c705-41a6-8b1f-25ed2bd53c27",
   "metadata": {},
   "outputs": [],
   "source": [
    "def mixed_NB_EM_fixed_dispersion_gene_level(df_observed_read_counts, df_gene_amplicons, cell_total_reads, nclones=1, cn_max=8, maxiter=20, seed=0, tol = 1e-6):\n",
    "    \n",
    "    np.random.seed(seed)\n",
    "    ncells = len(df_observed_read_counts)\n",
    "    \n",
    "    # initial guess\n",
    "    mixing_props = [1/nclones]*nclones\n",
    "    # cn = np.arange(nclones) + 1\n",
    "    cn = np.random.randint(cn_max - 1, size=nclones) + 1\n",
    "\n",
    "    relative_marginal_gain = np.inf\n",
    "    old_marginal = np.inf\n",
    "    iter_count = 0\n",
    "    em_data = []\n",
    "    \n",
    "    while (iter_count < maxiter) & (relative_marginal_gain >= tol):\n",
    "    # while (iter_count < maxiter):\n",
    "        \n",
    "        # E-step\n",
    "        responsibilities, new_marginal = get_responsibilities_and_marginal_gene_level(df_observed_read_counts, df_gene_amplicons, cell_total_reads,\n",
    "                                                                            mixing_props, cn)\n",
    "        \n",
    "        print(new_marginal, mixing_props)\n",
    "        \n",
    "        # M-step\n",
    "        new_mixing_props = responsibilities.sum(axis=0) / ncells\n",
    "\n",
    "        curr_model = NBin_mixture_Q_fixed_phi_gene_level([1], responsibilities, df_observed_read_counts, df_gene_amplicons, cell_total_reads, seed)\n",
    "        # res = curr_model.fit(disp=0)\n",
    "        \n",
    "        res = curr_model.fit(start_params=cn, disp=0)\n",
    "        \n",
    "        # optimization solution\n",
    "        params = res.params\n",
    "        new_cn = params[:nclones]\n",
    "        \n",
    "        # summary\n",
    "        inner_iter = 0\n",
    "        # inner_iter = res.mle_retvals['iterations']\n",
    "        inner_converged = res.mle_retvals['converged']\n",
    "        fopt = res.mle_retvals['fopt']\n",
    "        fcalls = res.mle_retvals['fcalls']\n",
    "        \n",
    "        if iter_count > 0:\n",
    "            relative_marginal_gain = (new_marginal - old_marginal) / np.abs(old_marginal)\n",
    "            \n",
    "        em_data.append([iter_count, old_marginal, new_marginal, relative_marginal_gain, fopt, fcalls, inner_iter, inner_converged])\n",
    "        \n",
    "        if (relative_marginal_gain > 0) | (np.abs(new_marginal) == np.inf) | (np.abs(old_marginal) == np.inf):\n",
    "            old_marginal = new_marginal\n",
    "            cn = new_cn\n",
    "            mixing_props = new_mixing_props\n",
    "            \n",
    "            iter_count += 1\n",
    "            if np.isnan(relative_marginal_gain):\n",
    "                relative_marginal_gain = np.inf\n",
    "        else:\n",
    "            break\n",
    "        \n",
    "    df_EM = pd.DataFrame(em_data, columns = ['iterations', 'old_marginal', 'marginal', 'relative_marginal_gain', 'fopt', 'fcalls', 'inner_iter', 'inner_converged'])\n",
    "    \n",
    "    return mixing_props, cn, df_EM"
   ]
  },
  {
   "cell_type": "code",
   "execution_count": 340,
   "id": "f9a5eefc-52ad-4ccb-974a-338a69966bee",
   "metadata": {},
   "outputs": [
    {
     "name": "stdout",
     "output_type": "stream",
     "text": [
      "-125355.08312357026 [0.5, 0.5]\n"
     ]
    },
    {
     "name": "stderr",
     "output_type": "stream",
     "text": [
      "/n/fs/ragr-data/users/palash/anaconda3/lib/python3.8/site-packages/statsmodels/base/model.py:2694: UserWarning: df_model + k_constant differs from nparams\n",
      "  warnings.warn(\"df_model + k_constant differs from nparams\")\n",
      "/n/fs/ragr-data/users/palash/anaconda3/lib/python3.8/site-packages/statsmodels/base/model.py:2696: UserWarning: df_resid differs from nobs - nparams\n",
      "  warnings.warn(\"df_resid differs from nobs - nparams\")\n",
      "/n/fs/ragr-data/users/palash/anaconda3/lib/python3.8/site-packages/statsmodels/base/model.py:1024: ValueWarning: more exog_names than parameters\n",
      "  warnings.warn('more exog_names than parameters', ValueWarning)\n"
     ]
    },
    {
     "name": "stdout",
     "output_type": "stream",
     "text": [
      "-121712.23024355741 [0.02462964 0.97537036]\n"
     ]
    },
    {
     "name": "stderr",
     "output_type": "stream",
     "text": [
      "/n/fs/ragr-data/users/palash/anaconda3/lib/python3.8/site-packages/statsmodels/base/model.py:1024: ValueWarning: more exog_names than parameters\n",
      "  warnings.warn('more exog_names than parameters', ValueWarning)\n"
     ]
    },
    {
     "name": "stdout",
     "output_type": "stream",
     "text": [
      "-121618.15412790104 [0.04387312 0.95612688]\n"
     ]
    },
    {
     "name": "stderr",
     "output_type": "stream",
     "text": [
      "/n/fs/ragr-data/users/palash/anaconda3/lib/python3.8/site-packages/statsmodels/base/model.py:1024: ValueWarning: more exog_names than parameters\n",
      "  warnings.warn('more exog_names than parameters', ValueWarning)\n"
     ]
    },
    {
     "name": "stdout",
     "output_type": "stream",
     "text": [
      "-121569.65166940815 [0.06155939 0.93844061]\n"
     ]
    },
    {
     "name": "stderr",
     "output_type": "stream",
     "text": [
      "/n/fs/ragr-data/users/palash/anaconda3/lib/python3.8/site-packages/statsmodels/base/model.py:1024: ValueWarning: more exog_names than parameters\n",
      "  warnings.warn('more exog_names than parameters', ValueWarning)\n"
     ]
    },
    {
     "name": "stdout",
     "output_type": "stream",
     "text": [
      "-121546.64865271046 [0.07512319 0.92487681]\n"
     ]
    },
    {
     "name": "stderr",
     "output_type": "stream",
     "text": [
      "/n/fs/ragr-data/users/palash/anaconda3/lib/python3.8/site-packages/statsmodels/base/model.py:1024: ValueWarning: more exog_names than parameters\n",
      "  warnings.warn('more exog_names than parameters', ValueWarning)\n"
     ]
    },
    {
     "name": "stdout",
     "output_type": "stream",
     "text": [
      "-121535.83293893182 [0.08488479 0.91511521]\n"
     ]
    },
    {
     "name": "stderr",
     "output_type": "stream",
     "text": [
      "/n/fs/ragr-data/users/palash/anaconda3/lib/python3.8/site-packages/statsmodels/base/model.py:1024: ValueWarning: more exog_names than parameters\n",
      "  warnings.warn('more exog_names than parameters', ValueWarning)\n"
     ]
    },
    {
     "name": "stdout",
     "output_type": "stream",
     "text": [
      "-121530.61316057487 [0.09181022 0.90818978]\n"
     ]
    },
    {
     "name": "stderr",
     "output_type": "stream",
     "text": [
      "/n/fs/ragr-data/users/palash/anaconda3/lib/python3.8/site-packages/statsmodels/base/model.py:1024: ValueWarning: more exog_names than parameters\n",
      "  warnings.warn('more exog_names than parameters', ValueWarning)\n"
     ]
    },
    {
     "name": "stdout",
     "output_type": "stream",
     "text": [
      "-121528.00746560984 [0.09675056 0.90324944]\n"
     ]
    },
    {
     "name": "stderr",
     "output_type": "stream",
     "text": [
      "/n/fs/ragr-data/users/palash/anaconda3/lib/python3.8/site-packages/statsmodels/base/model.py:1024: ValueWarning: more exog_names than parameters\n",
      "  warnings.warn('more exog_names than parameters', ValueWarning)\n"
     ]
    },
    {
     "name": "stdout",
     "output_type": "stream",
     "text": [
      "-121526.66878880991 [0.10031338 0.89968662]\n"
     ]
    },
    {
     "name": "stderr",
     "output_type": "stream",
     "text": [
      "/n/fs/ragr-data/users/palash/anaconda3/lib/python3.8/site-packages/statsmodels/base/model.py:1024: ValueWarning: more exog_names than parameters\n",
      "  warnings.warn('more exog_names than parameters', ValueWarning)\n"
     ]
    },
    {
     "name": "stdout",
     "output_type": "stream",
     "text": [
      "-121525.96481687855 [0.10290735 0.89709265]\n"
     ]
    },
    {
     "name": "stderr",
     "output_type": "stream",
     "text": [
      "/n/fs/ragr-data/users/palash/anaconda3/lib/python3.8/site-packages/statsmodels/base/model.py:1024: ValueWarning: more exog_names than parameters\n",
      "  warnings.warn('more exog_names than parameters', ValueWarning)\n"
     ]
    },
    {
     "name": "stdout",
     "output_type": "stream",
     "text": [
      "-121525.5875049177 [0.10480986 0.89519014]\n"
     ]
    },
    {
     "name": "stderr",
     "output_type": "stream",
     "text": [
      "/n/fs/ragr-data/users/palash/anaconda3/lib/python3.8/site-packages/statsmodels/base/model.py:1024: ValueWarning: more exog_names than parameters\n",
      "  warnings.warn('more exog_names than parameters', ValueWarning)\n"
     ]
    },
    {
     "name": "stdout",
     "output_type": "stream",
     "text": [
      "-121525.38300662761 [0.10621577 0.89378423]\n"
     ]
    },
    {
     "name": "stderr",
     "output_type": "stream",
     "text": [
      "/n/fs/ragr-data/users/palash/anaconda3/lib/python3.8/site-packages/statsmodels/base/model.py:1024: ValueWarning: more exog_names than parameters\n",
      "  warnings.warn('more exog_names than parameters', ValueWarning)\n"
     ]
    },
    {
     "name": "stdout",
     "output_type": "stream",
     "text": [
      "-121525.27084371235 [0.10725747 0.89274253]\n"
     ]
    },
    {
     "name": "stderr",
     "output_type": "stream",
     "text": [
      "/n/fs/ragr-data/users/palash/anaconda3/lib/python3.8/site-packages/statsmodels/base/model.py:1024: ValueWarning: more exog_names than parameters\n",
      "  warnings.warn('more exog_names than parameters', ValueWarning)\n"
     ]
    }
   ],
   "source": [
    "inferred_mixing_props, inferred_cn, df_EM = mixed_NB_EM_fixed_dispersion_gene_level(df_observed_read_counts, df_simulated_amplicons, cell_total_reads, nclones=2, seed=10)"
   ]
  },
  {
   "cell_type": "code",
   "execution_count": 304,
   "id": "150948da-f9d1-450c-86b0-cb3d202465bd",
   "metadata": {},
   "outputs": [
    {
     "data": {
      "text/html": [
       "<div>\n",
       "<style scoped>\n",
       "    .dataframe tbody tr th:only-of-type {\n",
       "        vertical-align: middle;\n",
       "    }\n",
       "\n",
       "    .dataframe tbody tr th {\n",
       "        vertical-align: top;\n",
       "    }\n",
       "\n",
       "    .dataframe thead th {\n",
       "        text-align: right;\n",
       "    }\n",
       "</style>\n",
       "<table border=\"1\" class=\"dataframe\">\n",
       "  <thead>\n",
       "    <tr style=\"text-align: right;\">\n",
       "      <th></th>\n",
       "      <th>iterations</th>\n",
       "      <th>old_marginal</th>\n",
       "      <th>marginal</th>\n",
       "      <th>relative_marginal_gain</th>\n",
       "      <th>fopt</th>\n",
       "      <th>fcalls</th>\n",
       "      <th>inner_iter</th>\n",
       "      <th>inner_converged</th>\n",
       "    </tr>\n",
       "  </thead>\n",
       "  <tbody>\n",
       "    <tr>\n",
       "      <th>0</th>\n",
       "      <td>0</td>\n",
       "      <td>inf</td>\n",
       "      <td>-123636.612981</td>\n",
       "      <td>inf</td>\n",
       "      <td>121180.111120</td>\n",
       "      <td>64</td>\n",
       "      <td>0</td>\n",
       "      <td>True</td>\n",
       "    </tr>\n",
       "    <tr>\n",
       "      <th>1</th>\n",
       "      <td>1</td>\n",
       "      <td>-1.236366e+05</td>\n",
       "      <td>-121744.620621</td>\n",
       "      <td>0.015303</td>\n",
       "      <td>120897.416825</td>\n",
       "      <td>57</td>\n",
       "      <td>0</td>\n",
       "      <td>True</td>\n",
       "    </tr>\n",
       "    <tr>\n",
       "      <th>2</th>\n",
       "      <td>2</td>\n",
       "      <td>-1.217446e+05</td>\n",
       "      <td>-121705.463407</td>\n",
       "      <td>0.000322</td>\n",
       "      <td>120732.681295</td>\n",
       "      <td>56</td>\n",
       "      <td>0</td>\n",
       "      <td>True</td>\n",
       "    </tr>\n",
       "    <tr>\n",
       "      <th>3</th>\n",
       "      <td>3</td>\n",
       "      <td>-1.217055e+05</td>\n",
       "      <td>-121684.542847</td>\n",
       "      <td>0.000172</td>\n",
       "      <td>120646.558009</td>\n",
       "      <td>53</td>\n",
       "      <td>0</td>\n",
       "      <td>True</td>\n",
       "    </tr>\n",
       "    <tr>\n",
       "      <th>4</th>\n",
       "      <td>4</td>\n",
       "      <td>-1.216845e+05</td>\n",
       "      <td>-121667.424734</td>\n",
       "      <td>0.000141</td>\n",
       "      <td>120596.390835</td>\n",
       "      <td>54</td>\n",
       "      <td>0</td>\n",
       "      <td>True</td>\n",
       "    </tr>\n",
       "    <tr>\n",
       "      <th>5</th>\n",
       "      <td>5</td>\n",
       "      <td>-1.216674e+05</td>\n",
       "      <td>-121650.592164</td>\n",
       "      <td>0.000138</td>\n",
       "      <td>120560.775123</td>\n",
       "      <td>59</td>\n",
       "      <td>0</td>\n",
       "      <td>True</td>\n",
       "    </tr>\n",
       "    <tr>\n",
       "      <th>6</th>\n",
       "      <td>6</td>\n",
       "      <td>-1.216506e+05</td>\n",
       "      <td>-121633.673739</td>\n",
       "      <td>0.000139</td>\n",
       "      <td>120531.768863</td>\n",
       "      <td>55</td>\n",
       "      <td>0</td>\n",
       "      <td>True</td>\n",
       "    </tr>\n",
       "    <tr>\n",
       "      <th>7</th>\n",
       "      <td>7</td>\n",
       "      <td>-1.216337e+05</td>\n",
       "      <td>-121616.898455</td>\n",
       "      <td>0.000138</td>\n",
       "      <td>120507.004713</td>\n",
       "      <td>59</td>\n",
       "      <td>0</td>\n",
       "      <td>True</td>\n",
       "    </tr>\n",
       "    <tr>\n",
       "      <th>8</th>\n",
       "      <td>8</td>\n",
       "      <td>-1.216169e+05</td>\n",
       "      <td>-121600.668159</td>\n",
       "      <td>0.000133</td>\n",
       "      <td>120486.191281</td>\n",
       "      <td>57</td>\n",
       "      <td>0</td>\n",
       "      <td>True</td>\n",
       "    </tr>\n",
       "    <tr>\n",
       "      <th>9</th>\n",
       "      <td>9</td>\n",
       "      <td>-1.216007e+05</td>\n",
       "      <td>-121585.434135</td>\n",
       "      <td>0.000125</td>\n",
       "      <td>120469.586120</td>\n",
       "      <td>56</td>\n",
       "      <td>0</td>\n",
       "      <td>True</td>\n",
       "    </tr>\n",
       "    <tr>\n",
       "      <th>10</th>\n",
       "      <td>10</td>\n",
       "      <td>-1.215854e+05</td>\n",
       "      <td>-121571.670315</td>\n",
       "      <td>0.000113</td>\n",
       "      <td>120457.562600</td>\n",
       "      <td>58</td>\n",
       "      <td>0</td>\n",
       "      <td>True</td>\n",
       "    </tr>\n",
       "    <tr>\n",
       "      <th>11</th>\n",
       "      <td>11</td>\n",
       "      <td>-1.215717e+05</td>\n",
       "      <td>-121559.758551</td>\n",
       "      <td>0.000098</td>\n",
       "      <td>120450.172816</td>\n",
       "      <td>60</td>\n",
       "      <td>0</td>\n",
       "      <td>True</td>\n",
       "    </tr>\n",
       "    <tr>\n",
       "      <th>12</th>\n",
       "      <td>12</td>\n",
       "      <td>-1.215598e+05</td>\n",
       "      <td>-121549.943130</td>\n",
       "      <td>0.000081</td>\n",
       "      <td>120447.090298</td>\n",
       "      <td>56</td>\n",
       "      <td>0</td>\n",
       "      <td>True</td>\n",
       "    </tr>\n",
       "    <tr>\n",
       "      <th>13</th>\n",
       "      <td>13</td>\n",
       "      <td>-1.215499e+05</td>\n",
       "      <td>-121542.259034</td>\n",
       "      <td>0.000063</td>\n",
       "      <td>120447.617570</td>\n",
       "      <td>55</td>\n",
       "      <td>0</td>\n",
       "      <td>True</td>\n",
       "    </tr>\n",
       "    <tr>\n",
       "      <th>14</th>\n",
       "      <td>14</td>\n",
       "      <td>-1.215423e+05</td>\n",
       "      <td>-121536.548581</td>\n",
       "      <td>0.000047</td>\n",
       "      <td>120450.793290</td>\n",
       "      <td>58</td>\n",
       "      <td>0</td>\n",
       "      <td>True</td>\n",
       "    </tr>\n",
       "    <tr>\n",
       "      <th>15</th>\n",
       "      <td>15</td>\n",
       "      <td>-1.215365e+05</td>\n",
       "      <td>-121532.503154</td>\n",
       "      <td>0.000033</td>\n",
       "      <td>120455.628251</td>\n",
       "      <td>60</td>\n",
       "      <td>0</td>\n",
       "      <td>True</td>\n",
       "    </tr>\n",
       "    <tr>\n",
       "      <th>16</th>\n",
       "      <td>16</td>\n",
       "      <td>-1.215325e+05</td>\n",
       "      <td>-121529.764322</td>\n",
       "      <td>0.000023</td>\n",
       "      <td>120461.178938</td>\n",
       "      <td>56</td>\n",
       "      <td>0</td>\n",
       "      <td>True</td>\n",
       "    </tr>\n",
       "    <tr>\n",
       "      <th>17</th>\n",
       "      <td>17</td>\n",
       "      <td>-1.215298e+05</td>\n",
       "      <td>-121527.976234</td>\n",
       "      <td>0.000015</td>\n",
       "      <td>120466.773695</td>\n",
       "      <td>54</td>\n",
       "      <td>0</td>\n",
       "      <td>True</td>\n",
       "    </tr>\n",
       "    <tr>\n",
       "      <th>18</th>\n",
       "      <td>18</td>\n",
       "      <td>-1.215280e+05</td>\n",
       "      <td>-121526.846776</td>\n",
       "      <td>0.000009</td>\n",
       "      <td>120471.933953</td>\n",
       "      <td>59</td>\n",
       "      <td>0</td>\n",
       "      <td>True</td>\n",
       "    </tr>\n",
       "    <tr>\n",
       "      <th>19</th>\n",
       "      <td>19</td>\n",
       "      <td>-1.215268e+05</td>\n",
       "      <td>-121526.150462</td>\n",
       "      <td>0.000006</td>\n",
       "      <td>120476.463239</td>\n",
       "      <td>57</td>\n",
       "      <td>0</td>\n",
       "      <td>True</td>\n",
       "    </tr>\n",
       "  </tbody>\n",
       "</table>\n",
       "</div>"
      ],
      "text/plain": [
       "    iterations  old_marginal       marginal  relative_marginal_gain  \\\n",
       "0            0           inf -123636.612981                     inf   \n",
       "1            1 -1.236366e+05 -121744.620621                0.015303   \n",
       "2            2 -1.217446e+05 -121705.463407                0.000322   \n",
       "3            3 -1.217055e+05 -121684.542847                0.000172   \n",
       "4            4 -1.216845e+05 -121667.424734                0.000141   \n",
       "5            5 -1.216674e+05 -121650.592164                0.000138   \n",
       "6            6 -1.216506e+05 -121633.673739                0.000139   \n",
       "7            7 -1.216337e+05 -121616.898455                0.000138   \n",
       "8            8 -1.216169e+05 -121600.668159                0.000133   \n",
       "9            9 -1.216007e+05 -121585.434135                0.000125   \n",
       "10          10 -1.215854e+05 -121571.670315                0.000113   \n",
       "11          11 -1.215717e+05 -121559.758551                0.000098   \n",
       "12          12 -1.215598e+05 -121549.943130                0.000081   \n",
       "13          13 -1.215499e+05 -121542.259034                0.000063   \n",
       "14          14 -1.215423e+05 -121536.548581                0.000047   \n",
       "15          15 -1.215365e+05 -121532.503154                0.000033   \n",
       "16          16 -1.215325e+05 -121529.764322                0.000023   \n",
       "17          17 -1.215298e+05 -121527.976234                0.000015   \n",
       "18          18 -1.215280e+05 -121526.846776                0.000009   \n",
       "19          19 -1.215268e+05 -121526.150462                0.000006   \n",
       "\n",
       "             fopt  fcalls  inner_iter  inner_converged  \n",
       "0   121180.111120      64           0             True  \n",
       "1   120897.416825      57           0             True  \n",
       "2   120732.681295      56           0             True  \n",
       "3   120646.558009      53           0             True  \n",
       "4   120596.390835      54           0             True  \n",
       "5   120560.775123      59           0             True  \n",
       "6   120531.768863      55           0             True  \n",
       "7   120507.004713      59           0             True  \n",
       "8   120486.191281      57           0             True  \n",
       "9   120469.586120      56           0             True  \n",
       "10  120457.562600      58           0             True  \n",
       "11  120450.172816      60           0             True  \n",
       "12  120447.090298      56           0             True  \n",
       "13  120447.617570      55           0             True  \n",
       "14  120450.793290      58           0             True  \n",
       "15  120455.628251      60           0             True  \n",
       "16  120461.178938      56           0             True  \n",
       "17  120466.773695      54           0             True  \n",
       "18  120471.933953      59           0             True  \n",
       "19  120476.463239      57           0             True  "
      ]
     },
     "execution_count": 304,
     "metadata": {},
     "output_type": "execute_result"
    }
   ],
   "source": [
    "df_EM"
   ]
  },
  {
   "cell_type": "code",
   "execution_count": 305,
   "id": "52c7196c-ac44-4dbf-a883-35a7d9486364",
   "metadata": {},
   "outputs": [
    {
     "data": {
      "text/plain": [
       "array([0.1168837, 0.8831163])"
      ]
     },
     "execution_count": 305,
     "metadata": {},
     "output_type": "execute_result"
    }
   ],
   "source": [
    "inferred_mixing_props"
   ]
  },
  {
   "cell_type": "code",
   "execution_count": 306,
   "id": "fb6d0eef-db81-4b9d-a3a5-cec18a2785a2",
   "metadata": {},
   "outputs": [
    {
     "data": {
      "text/plain": [
       "array([4.02004757, 7.01643948])"
      ]
     },
     "execution_count": 306,
     "metadata": {},
     "output_type": "execute_result"
    }
   ],
   "source": [
    "inferred_cn"
   ]
  },
  {
   "cell_type": "code",
   "execution_count": 307,
   "id": "0a7ce69d-fcc6-42fb-8d67-d851677a4568",
   "metadata": {},
   "outputs": [
    {
     "data": {
      "text/plain": [
       "array([0.1048033, 0.8951967])"
      ]
     },
     "execution_count": 307,
     "metadata": {},
     "output_type": "execute_result"
    }
   ],
   "source": [
    "gt_mixture_proportions"
   ]
  },
  {
   "cell_type": "code",
   "execution_count": 308,
   "id": "3ccaa0a3-0051-444f-9af4-b95ba0f6bf08",
   "metadata": {},
   "outputs": [
    {
     "data": {
      "text/plain": [
       "array([4, 7])"
      ]
     },
     "execution_count": 308,
     "metadata": {},
     "output_type": "execute_result"
    }
   ],
   "source": [
    "gt_cn"
   ]
  },
  {
   "cell_type": "markdown",
   "id": "3b3a1caa-9133-4731-80a1-4f6e3bb7dfbe",
   "metadata": {},
   "source": [
    "# EM on a real data case"
   ]
  },
  {
   "cell_type": "code",
   "execution_count": 1723,
   "id": "47a6a481-655f-4d83-859c-1ef1e6664938",
   "metadata": {},
   "outputs": [
    {
     "data": {
      "text/html": [
       "<div>\n",
       "<style scoped>\n",
       "    .dataframe tbody tr th:only-of-type {\n",
       "        vertical-align: middle;\n",
       "    }\n",
       "\n",
       "    .dataframe tbody tr th {\n",
       "        vertical-align: top;\n",
       "    }\n",
       "\n",
       "    .dataframe thead th {\n",
       "        text-align: right;\n",
       "    }\n",
       "</style>\n",
       "<table border=\"1\" class=\"dataframe\">\n",
       "  <thead>\n",
       "    <tr style=\"text-align: right;\">\n",
       "      <th></th>\n",
       "      <th>amplicon_factor</th>\n",
       "      <th>phi</th>\n",
       "    </tr>\n",
       "    <tr>\n",
       "      <th>amplicon</th>\n",
       "      <th></th>\n",
       "      <th></th>\n",
       "    </tr>\n",
       "  </thead>\n",
       "  <tbody>\n",
       "    <tr>\n",
       "      <th>amplicon_0</th>\n",
       "      <td>0.000029</td>\n",
       "      <td>1</td>\n",
       "    </tr>\n",
       "    <tr>\n",
       "      <th>amplicon_1</th>\n",
       "      <td>0.000270</td>\n",
       "      <td>4</td>\n",
       "    </tr>\n",
       "    <tr>\n",
       "      <th>amplicon_2</th>\n",
       "      <td>0.002238</td>\n",
       "      <td>5</td>\n",
       "    </tr>\n",
       "    <tr>\n",
       "      <th>amplicon_3</th>\n",
       "      <td>0.003229</td>\n",
       "      <td>3</td>\n",
       "    </tr>\n",
       "    <tr>\n",
       "      <th>amplicon_4</th>\n",
       "      <td>0.000260</td>\n",
       "      <td>6</td>\n",
       "    </tr>\n",
       "  </tbody>\n",
       "</table>\n",
       "</div>"
      ],
      "text/plain": [
       "            amplicon_factor  phi\n",
       "amplicon                        \n",
       "amplicon_0         0.000029    1\n",
       "amplicon_1         0.000270    4\n",
       "amplicon_2         0.002238    5\n",
       "amplicon_3         0.003229    3\n",
       "amplicon_4         0.000260    6"
      ]
     },
     "execution_count": 1723,
     "metadata": {},
     "output_type": "execute_result"
    }
   ],
   "source": [
    "df_simulated_amplicons"
   ]
  },
  {
   "cell_type": "code",
   "execution_count": 1755,
   "id": "bede1b61-6207-41a3-a303-2a9718344c9e",
   "metadata": {},
   "outputs": [
    {
     "data": {
      "text/plain": [
       "(1955, 21)"
      ]
     },
     "execution_count": 1755,
     "metadata": {},
     "output_type": "execute_result"
    }
   ],
   "source": [
    "df_observed_read_counts.values.shape"
   ]
  },
  {
   "cell_type": "code",
   "execution_count": 1730,
   "id": "dd543bde-7483-4da3-a1fa-07bbd166451c",
   "metadata": {},
   "outputs": [],
   "source": [
    "df_tsv = pd.read_csv('/n/fs/ragr-data/datasets/mskcc_iacobuzio/RA17_22_panel2/old_pipeline/RA17_22_35_1_IGO_12742_2/results/tsv/RA17_22_35_1_IGO_12742_2.tube1.barcode.cell.distribution.tsv', sep='\\t', index_col = 0)\n",
    "df_nb_residual = pd.read_csv('/n/fs/ragr-data/users/palash/mskcc-analysis/panel2_normal_read_counts/panel2_nb_results.csv', index_col = 0)\n",
    "df_nb_residual['phi'] = 1 / df_nb_residual['alpha']\n",
    "curr_gene = 'ARID1A'\n",
    "nclones = 2"
   ]
  },
  {
   "cell_type": "code",
   "execution_count": 1759,
   "id": "9db4022e-de41-4ccc-9745-bac142ad8efc",
   "metadata": {},
   "outputs": [],
   "source": [
    "df_clone_info = pd.DataFrame({'clone_id': list(np.arange(nclones)),\n",
    "                              'cn': list(inferred_cn),\n",
    "                              'props': list(inferred_mixing_props)})"
   ]
  },
  {
   "cell_type": "code",
   "execution_count": 1760,
   "id": "2f7d0606-563a-4cb6-b556-10c71aa6d61b",
   "metadata": {},
   "outputs": [
    {
     "data": {
      "text/html": [
       "<div>\n",
       "<style scoped>\n",
       "    .dataframe tbody tr th:only-of-type {\n",
       "        vertical-align: middle;\n",
       "    }\n",
       "\n",
       "    .dataframe tbody tr th {\n",
       "        vertical-align: top;\n",
       "    }\n",
       "\n",
       "    .dataframe thead th {\n",
       "        text-align: right;\n",
       "    }\n",
       "</style>\n",
       "<table border=\"1\" class=\"dataframe\">\n",
       "  <thead>\n",
       "    <tr style=\"text-align: right;\">\n",
       "      <th></th>\n",
       "      <th>clone_id</th>\n",
       "      <th>cn</th>\n",
       "      <th>props</th>\n",
       "    </tr>\n",
       "  </thead>\n",
       "  <tbody>\n",
       "    <tr>\n",
       "      <th>0</th>\n",
       "      <td>0</td>\n",
       "      <td>1.889991</td>\n",
       "      <td>0.601363</td>\n",
       "    </tr>\n",
       "    <tr>\n",
       "      <th>1</th>\n",
       "      <td>1</td>\n",
       "      <td>2.606450</td>\n",
       "      <td>0.398637</td>\n",
       "    </tr>\n",
       "  </tbody>\n",
       "</table>\n",
       "</div>"
      ],
      "text/plain": [
       "   clone_id        cn     props\n",
       "0         0  1.889991  0.601363\n",
       "1         1  2.606450  0.398637"
      ]
     },
     "execution_count": 1760,
     "metadata": {},
     "output_type": "execute_result"
    }
   ],
   "source": [
    "df_clone_info"
   ]
  },
  {
   "cell_type": "code",
   "execution_count": 1758,
   "id": "adc49025-b539-480d-95a5-63ab806acae5",
   "metadata": {},
   "outputs": [
    {
     "data": {
      "text/plain": [
       "array([1.88999113, 2.60644992])"
      ]
     },
     "execution_count": 1758,
     "metadata": {},
     "output_type": "execute_result"
    }
   ],
   "source": [
    "inferred_cn"
   ]
  },
  {
   "cell_type": "code",
   "execution_count": 1731,
   "id": "4e46d688-dc03-4e3f-bc85-f13f62536795",
   "metadata": {},
   "outputs": [],
   "source": [
    "curr_selected_amplicons = list(df_nb_residual[df_nb_residual['gene'] == curr_gene].index)\n",
    "df_observed_read_counts = df_tsv[curr_selected_amplicons]\n",
    "cell_total_read_counts = df_tsv.sum(axis = 1)\n",
    "df_selected_amplicons = df_nb_residual.loc[curr_selected_amplicons][['amplicon_factor', 'phi']]"
   ]
  },
  {
   "cell_type": "code",
   "execution_count": 1779,
   "id": "13d82979-e59f-4ae4-9b56-6cf3fad60057",
   "metadata": {},
   "outputs": [
    {
     "name": "stdout",
     "output_type": "stream",
     "text": [
      "-223222.34056489923 [0.5, 0.5]\n"
     ]
    },
    {
     "name": "stderr",
     "output_type": "stream",
     "text": [
      "/n/fs/ragr-data/users/palash/anaconda3/lib/python3.8/site-packages/statsmodels/base/model.py:2694: UserWarning: df_model + k_constant differs from nparams\n",
      "  warnings.warn(\"df_model + k_constant differs from nparams\")\n",
      "/n/fs/ragr-data/users/palash/anaconda3/lib/python3.8/site-packages/statsmodels/base/model.py:2696: UserWarning: df_resid differs from nobs - nparams\n",
      "  warnings.warn(\"df_resid differs from nobs - nparams\")\n",
      "/n/fs/ragr-data/users/palash/anaconda3/lib/python3.8/site-packages/statsmodels/base/model.py:1024: ValueWarning: more exog_names than parameters\n",
      "  warnings.warn('more exog_names than parameters', ValueWarning)\n"
     ]
    },
    {
     "name": "stdout",
     "output_type": "stream",
     "text": [
      "-195118.81705213734 [0.99454044 0.00545956]\n"
     ]
    },
    {
     "name": "stderr",
     "output_type": "stream",
     "text": [
      "/n/fs/ragr-data/users/palash/anaconda3/lib/python3.8/site-packages/statsmodels/base/model.py:1024: ValueWarning: more exog_names than parameters\n",
      "  warnings.warn('more exog_names than parameters', ValueWarning)\n"
     ]
    },
    {
     "name": "stdout",
     "output_type": "stream",
     "text": [
      "-194950.86035640794 [0.97526875 0.02473125]\n"
     ]
    },
    {
     "name": "stderr",
     "output_type": "stream",
     "text": [
      "/n/fs/ragr-data/users/palash/anaconda3/lib/python3.8/site-packages/statsmodels/base/model.py:1024: ValueWarning: more exog_names than parameters\n",
      "  warnings.warn('more exog_names than parameters', ValueWarning)\n"
     ]
    },
    {
     "name": "stdout",
     "output_type": "stream",
     "text": [
      "-194891.87432655354 [0.94906715 0.05093285]\n"
     ]
    },
    {
     "name": "stderr",
     "output_type": "stream",
     "text": [
      "/n/fs/ragr-data/users/palash/anaconda3/lib/python3.8/site-packages/statsmodels/base/model.py:1024: ValueWarning: more exog_names than parameters\n",
      "  warnings.warn('more exog_names than parameters', ValueWarning)\n"
     ]
    },
    {
     "name": "stdout",
     "output_type": "stream",
     "text": [
      "-194849.16629967128 [0.9241899 0.0758101]\n"
     ]
    },
    {
     "name": "stderr",
     "output_type": "stream",
     "text": [
      "/n/fs/ragr-data/users/palash/anaconda3/lib/python3.8/site-packages/statsmodels/base/model.py:1024: ValueWarning: more exog_names than parameters\n",
      "  warnings.warn('more exog_names than parameters', ValueWarning)\n"
     ]
    },
    {
     "name": "stdout",
     "output_type": "stream",
     "text": [
      "-194814.9643628843 [0.89833695 0.10166305]\n"
     ]
    },
    {
     "name": "stderr",
     "output_type": "stream",
     "text": [
      "/n/fs/ragr-data/users/palash/anaconda3/lib/python3.8/site-packages/statsmodels/base/model.py:1024: ValueWarning: more exog_names than parameters\n",
      "  warnings.warn('more exog_names than parameters', ValueWarning)\n"
     ]
    },
    {
     "name": "stdout",
     "output_type": "stream",
     "text": [
      "-194787.41734981223 [0.87238652 0.12761348]\n"
     ]
    },
    {
     "name": "stderr",
     "output_type": "stream",
     "text": [
      "/n/fs/ragr-data/users/palash/anaconda3/lib/python3.8/site-packages/statsmodels/base/model.py:1024: ValueWarning: more exog_names than parameters\n",
      "  warnings.warn('more exog_names than parameters', ValueWarning)\n"
     ]
    },
    {
     "name": "stdout",
     "output_type": "stream",
     "text": [
      "-194764.87851856835 [0.84687791 0.15312209]\n"
     ]
    },
    {
     "name": "stderr",
     "output_type": "stream",
     "text": [
      "/n/fs/ragr-data/users/palash/anaconda3/lib/python3.8/site-packages/statsmodels/base/model.py:1024: ValueWarning: more exog_names than parameters\n",
      "  warnings.warn('more exog_names than parameters', ValueWarning)\n"
     ]
    },
    {
     "name": "stdout",
     "output_type": "stream",
     "text": [
      "-194746.0540791094 [0.82201356 0.17798644]\n"
     ]
    },
    {
     "name": "stderr",
     "output_type": "stream",
     "text": [
      "/n/fs/ragr-data/users/palash/anaconda3/lib/python3.8/site-packages/statsmodels/base/model.py:1024: ValueWarning: more exog_names than parameters\n",
      "  warnings.warn('more exog_names than parameters', ValueWarning)\n"
     ]
    },
    {
     "name": "stdout",
     "output_type": "stream",
     "text": [
      "-194730.01040716624 [0.7978527 0.2021473]\n"
     ]
    },
    {
     "name": "stderr",
     "output_type": "stream",
     "text": [
      "/n/fs/ragr-data/users/palash/anaconda3/lib/python3.8/site-packages/statsmodels/base/model.py:1024: ValueWarning: more exog_names than parameters\n",
      "  warnings.warn('more exog_names than parameters', ValueWarning)\n"
     ]
    },
    {
     "name": "stdout",
     "output_type": "stream",
     "text": [
      "-194716.08788416808 [0.77439589 0.22560411]\n"
     ]
    },
    {
     "name": "stderr",
     "output_type": "stream",
     "text": [
      "/n/fs/ragr-data/users/palash/anaconda3/lib/python3.8/site-packages/statsmodels/base/model.py:1024: ValueWarning: more exog_names than parameters\n",
      "  warnings.warn('more exog_names than parameters', ValueWarning)\n"
     ]
    },
    {
     "name": "stdout",
     "output_type": "stream",
     "text": [
      "-194703.84407358113 [0.75161074 0.24838926]\n"
     ]
    },
    {
     "name": "stderr",
     "output_type": "stream",
     "text": [
      "/n/fs/ragr-data/users/palash/anaconda3/lib/python3.8/site-packages/statsmodels/base/model.py:1024: ValueWarning: more exog_names than parameters\n",
      "  warnings.warn('more exog_names than parameters', ValueWarning)\n"
     ]
    },
    {
     "name": "stdout",
     "output_type": "stream",
     "text": [
      "-194692.9421783168 [0.72950199 0.27049801]\n"
     ]
    },
    {
     "name": "stderr",
     "output_type": "stream",
     "text": [
      "/n/fs/ragr-data/users/palash/anaconda3/lib/python3.8/site-packages/statsmodels/base/model.py:1024: ValueWarning: more exog_names than parameters\n",
      "  warnings.warn('more exog_names than parameters', ValueWarning)\n"
     ]
    },
    {
     "name": "stdout",
     "output_type": "stream",
     "text": [
      "-194683.13545563887 [0.70803806 0.29196194]\n"
     ]
    },
    {
     "name": "stderr",
     "output_type": "stream",
     "text": [
      "/n/fs/ragr-data/users/palash/anaconda3/lib/python3.8/site-packages/statsmodels/base/model.py:1024: ValueWarning: more exog_names than parameters\n",
      "  warnings.warn('more exog_names than parameters', ValueWarning)\n"
     ]
    },
    {
     "name": "stdout",
     "output_type": "stream",
     "text": [
      "-194674.22789617628 [0.6871925 0.3128075]\n"
     ]
    },
    {
     "name": "stderr",
     "output_type": "stream",
     "text": [
      "/n/fs/ragr-data/users/palash/anaconda3/lib/python3.8/site-packages/statsmodels/base/model.py:1024: ValueWarning: more exog_names than parameters\n",
      "  warnings.warn('more exog_names than parameters', ValueWarning)\n"
     ]
    },
    {
     "name": "stdout",
     "output_type": "stream",
     "text": [
      "-194666.0801462205 [0.66692144 0.33307856]\n"
     ]
    },
    {
     "name": "stderr",
     "output_type": "stream",
     "text": [
      "/n/fs/ragr-data/users/palash/anaconda3/lib/python3.8/site-packages/statsmodels/base/model.py:1024: ValueWarning: more exog_names than parameters\n",
      "  warnings.warn('more exog_names than parameters', ValueWarning)\n"
     ]
    },
    {
     "name": "stdout",
     "output_type": "stream",
     "text": [
      "-194658.5758572845 [0.64721501 0.35278499]\n"
     ]
    },
    {
     "name": "stderr",
     "output_type": "stream",
     "text": [
      "/n/fs/ragr-data/users/palash/anaconda3/lib/python3.8/site-packages/statsmodels/base/model.py:1024: ValueWarning: more exog_names than parameters\n",
      "  warnings.warn('more exog_names than parameters', ValueWarning)\n"
     ]
    },
    {
     "name": "stdout",
     "output_type": "stream",
     "text": [
      "-194651.60632874334 [0.62805103 0.37194897]\n"
     ]
    },
    {
     "name": "stderr",
     "output_type": "stream",
     "text": [
      "/n/fs/ragr-data/users/palash/anaconda3/lib/python3.8/site-packages/statsmodels/base/model.py:1024: ValueWarning: more exog_names than parameters\n",
      "  warnings.warn('more exog_names than parameters', ValueWarning)\n"
     ]
    },
    {
     "name": "stdout",
     "output_type": "stream",
     "text": [
      "-194645.1080744103 [0.60936616 0.39063384]\n"
     ]
    },
    {
     "name": "stderr",
     "output_type": "stream",
     "text": [
      "/n/fs/ragr-data/users/palash/anaconda3/lib/python3.8/site-packages/statsmodels/base/model.py:1024: ValueWarning: more exog_names than parameters\n",
      "  warnings.warn('more exog_names than parameters', ValueWarning)\n"
     ]
    },
    {
     "name": "stdout",
     "output_type": "stream",
     "text": [
      "-194638.9969032487 [0.59117875 0.40882125]\n"
     ]
    },
    {
     "name": "stderr",
     "output_type": "stream",
     "text": [
      "/n/fs/ragr-data/users/palash/anaconda3/lib/python3.8/site-packages/statsmodels/base/model.py:1024: ValueWarning: more exog_names than parameters\n",
      "  warnings.warn('more exog_names than parameters', ValueWarning)\n"
     ]
    }
   ],
   "source": [
    "inferred_mixing_props, inferred_cn, df_EM = mixed_NB_EM_fixed_dispersion_gene_level(df_observed_read_counts, df_selected_amplicons, cell_total_read_counts,\n",
    "                                                                                    nclones=nclones, seed=0)"
   ]
  },
  {
   "cell_type": "code",
   "execution_count": 1771,
   "id": "b8aad8a6-f2ea-47ea-88b7-7de6008d8e52",
   "metadata": {},
   "outputs": [
    {
     "name": "stdout",
     "output_type": "stream",
     "text": [
      "-223222.34056489923 [0.5, 0.5]\n"
     ]
    },
    {
     "name": "stderr",
     "output_type": "stream",
     "text": [
      "/n/fs/ragr-data/users/palash/anaconda3/lib/python3.8/site-packages/statsmodels/base/model.py:2694: UserWarning: df_model + k_constant differs from nparams\n",
      "  warnings.warn(\"df_model + k_constant differs from nparams\")\n",
      "/n/fs/ragr-data/users/palash/anaconda3/lib/python3.8/site-packages/statsmodels/base/model.py:2696: UserWarning: df_resid differs from nobs - nparams\n",
      "  warnings.warn(\"df_resid differs from nobs - nparams\")\n",
      "/n/fs/ragr-data/users/palash/anaconda3/lib/python3.8/site-packages/statsmodels/base/model.py:1024: ValueWarning: more exog_names than parameters\n",
      "  warnings.warn('more exog_names than parameters', ValueWarning)\n"
     ]
    },
    {
     "name": "stdout",
     "output_type": "stream",
     "text": [
      "-195118.81705213734 [0.99454044 0.00545956]\n"
     ]
    },
    {
     "name": "stderr",
     "output_type": "stream",
     "text": [
      "/n/fs/ragr-data/users/palash/anaconda3/lib/python3.8/site-packages/statsmodels/base/model.py:1024: ValueWarning: more exog_names than parameters\n",
      "  warnings.warn('more exog_names than parameters', ValueWarning)\n"
     ]
    },
    {
     "name": "stdout",
     "output_type": "stream",
     "text": [
      "-194950.86035640794 [0.97526875 0.02473125]\n"
     ]
    },
    {
     "name": "stderr",
     "output_type": "stream",
     "text": [
      "/n/fs/ragr-data/users/palash/anaconda3/lib/python3.8/site-packages/statsmodels/base/model.py:1024: ValueWarning: more exog_names than parameters\n",
      "  warnings.warn('more exog_names than parameters', ValueWarning)\n"
     ]
    },
    {
     "name": "stdout",
     "output_type": "stream",
     "text": [
      "-194891.87432655354 [0.94906715 0.05093285]\n"
     ]
    },
    {
     "name": "stderr",
     "output_type": "stream",
     "text": [
      "/n/fs/ragr-data/users/palash/anaconda3/lib/python3.8/site-packages/statsmodels/base/model.py:1024: ValueWarning: more exog_names than parameters\n",
      "  warnings.warn('more exog_names than parameters', ValueWarning)\n"
     ]
    },
    {
     "name": "stdout",
     "output_type": "stream",
     "text": [
      "-194849.16629967128 [0.9241899 0.0758101]\n"
     ]
    },
    {
     "name": "stderr",
     "output_type": "stream",
     "text": [
      "/n/fs/ragr-data/users/palash/anaconda3/lib/python3.8/site-packages/statsmodels/base/model.py:1024: ValueWarning: more exog_names than parameters\n",
      "  warnings.warn('more exog_names than parameters', ValueWarning)\n"
     ]
    },
    {
     "name": "stdout",
     "output_type": "stream",
     "text": [
      "-194814.9643628843 [0.89833695 0.10166305]\n"
     ]
    },
    {
     "name": "stderr",
     "output_type": "stream",
     "text": [
      "/n/fs/ragr-data/users/palash/anaconda3/lib/python3.8/site-packages/statsmodels/base/model.py:1024: ValueWarning: more exog_names than parameters\n",
      "  warnings.warn('more exog_names than parameters', ValueWarning)\n"
     ]
    },
    {
     "name": "stdout",
     "output_type": "stream",
     "text": [
      "-194787.41734981223 [0.87238652 0.12761348]\n"
     ]
    },
    {
     "name": "stderr",
     "output_type": "stream",
     "text": [
      "/n/fs/ragr-data/users/palash/anaconda3/lib/python3.8/site-packages/statsmodels/base/model.py:1024: ValueWarning: more exog_names than parameters\n",
      "  warnings.warn('more exog_names than parameters', ValueWarning)\n"
     ]
    },
    {
     "name": "stdout",
     "output_type": "stream",
     "text": [
      "-194764.87851856835 [0.84687791 0.15312209]\n"
     ]
    },
    {
     "name": "stderr",
     "output_type": "stream",
     "text": [
      "/n/fs/ragr-data/users/palash/anaconda3/lib/python3.8/site-packages/statsmodels/base/model.py:1024: ValueWarning: more exog_names than parameters\n",
      "  warnings.warn('more exog_names than parameters', ValueWarning)\n"
     ]
    },
    {
     "name": "stdout",
     "output_type": "stream",
     "text": [
      "-194746.0540791094 [0.82201356 0.17798644]\n"
     ]
    },
    {
     "name": "stderr",
     "output_type": "stream",
     "text": [
      "/n/fs/ragr-data/users/palash/anaconda3/lib/python3.8/site-packages/statsmodels/base/model.py:1024: ValueWarning: more exog_names than parameters\n",
      "  warnings.warn('more exog_names than parameters', ValueWarning)\n"
     ]
    },
    {
     "name": "stdout",
     "output_type": "stream",
     "text": [
      "-194730.01040716624 [0.7978527 0.2021473]\n"
     ]
    },
    {
     "name": "stderr",
     "output_type": "stream",
     "text": [
      "/n/fs/ragr-data/users/palash/anaconda3/lib/python3.8/site-packages/statsmodels/base/model.py:1024: ValueWarning: more exog_names than parameters\n",
      "  warnings.warn('more exog_names than parameters', ValueWarning)\n"
     ]
    },
    {
     "name": "stdout",
     "output_type": "stream",
     "text": [
      "-194716.08788416808 [0.77439589 0.22560411]\n"
     ]
    },
    {
     "name": "stderr",
     "output_type": "stream",
     "text": [
      "/n/fs/ragr-data/users/palash/anaconda3/lib/python3.8/site-packages/statsmodels/base/model.py:1024: ValueWarning: more exog_names than parameters\n",
      "  warnings.warn('more exog_names than parameters', ValueWarning)\n"
     ]
    },
    {
     "name": "stdout",
     "output_type": "stream",
     "text": [
      "-194703.84407358113 [0.75161074 0.24838926]\n"
     ]
    },
    {
     "name": "stderr",
     "output_type": "stream",
     "text": [
      "/n/fs/ragr-data/users/palash/anaconda3/lib/python3.8/site-packages/statsmodels/base/model.py:1024: ValueWarning: more exog_names than parameters\n",
      "  warnings.warn('more exog_names than parameters', ValueWarning)\n"
     ]
    },
    {
     "name": "stdout",
     "output_type": "stream",
     "text": [
      "-194692.9421783168 [0.72950199 0.27049801]\n"
     ]
    },
    {
     "name": "stderr",
     "output_type": "stream",
     "text": [
      "/n/fs/ragr-data/users/palash/anaconda3/lib/python3.8/site-packages/statsmodels/base/model.py:1024: ValueWarning: more exog_names than parameters\n",
      "  warnings.warn('more exog_names than parameters', ValueWarning)\n"
     ]
    },
    {
     "name": "stdout",
     "output_type": "stream",
     "text": [
      "-194683.13545563887 [0.70803806 0.29196194]\n"
     ]
    },
    {
     "name": "stderr",
     "output_type": "stream",
     "text": [
      "/n/fs/ragr-data/users/palash/anaconda3/lib/python3.8/site-packages/statsmodels/base/model.py:1024: ValueWarning: more exog_names than parameters\n",
      "  warnings.warn('more exog_names than parameters', ValueWarning)\n"
     ]
    },
    {
     "name": "stdout",
     "output_type": "stream",
     "text": [
      "-194674.22789617628 [0.6871925 0.3128075]\n"
     ]
    },
    {
     "name": "stderr",
     "output_type": "stream",
     "text": [
      "/n/fs/ragr-data/users/palash/anaconda3/lib/python3.8/site-packages/statsmodels/base/model.py:1024: ValueWarning: more exog_names than parameters\n",
      "  warnings.warn('more exog_names than parameters', ValueWarning)\n"
     ]
    },
    {
     "name": "stdout",
     "output_type": "stream",
     "text": [
      "-194666.0801462205 [0.66692144 0.33307856]\n"
     ]
    },
    {
     "name": "stderr",
     "output_type": "stream",
     "text": [
      "/n/fs/ragr-data/users/palash/anaconda3/lib/python3.8/site-packages/statsmodels/base/model.py:1024: ValueWarning: more exog_names than parameters\n",
      "  warnings.warn('more exog_names than parameters', ValueWarning)\n"
     ]
    },
    {
     "name": "stdout",
     "output_type": "stream",
     "text": [
      "-194658.5758572845 [0.64721501 0.35278499]\n"
     ]
    },
    {
     "name": "stderr",
     "output_type": "stream",
     "text": [
      "/n/fs/ragr-data/users/palash/anaconda3/lib/python3.8/site-packages/statsmodels/base/model.py:1024: ValueWarning: more exog_names than parameters\n",
      "  warnings.warn('more exog_names than parameters', ValueWarning)\n"
     ]
    },
    {
     "name": "stdout",
     "output_type": "stream",
     "text": [
      "-194651.60632874334 [0.62805103 0.37194897]\n"
     ]
    },
    {
     "name": "stderr",
     "output_type": "stream",
     "text": [
      "/n/fs/ragr-data/users/palash/anaconda3/lib/python3.8/site-packages/statsmodels/base/model.py:1024: ValueWarning: more exog_names than parameters\n",
      "  warnings.warn('more exog_names than parameters', ValueWarning)\n"
     ]
    },
    {
     "name": "stdout",
     "output_type": "stream",
     "text": [
      "-194645.1080744103 [0.60936616 0.39063384]\n"
     ]
    },
    {
     "name": "stderr",
     "output_type": "stream",
     "text": [
      "/n/fs/ragr-data/users/palash/anaconda3/lib/python3.8/site-packages/statsmodels/base/model.py:1024: ValueWarning: more exog_names than parameters\n",
      "  warnings.warn('more exog_names than parameters', ValueWarning)\n"
     ]
    },
    {
     "name": "stdout",
     "output_type": "stream",
     "text": [
      "-194638.9969032487 [0.59117875 0.40882125]\n"
     ]
    },
    {
     "name": "stderr",
     "output_type": "stream",
     "text": [
      "/n/fs/ragr-data/users/palash/anaconda3/lib/python3.8/site-packages/statsmodels/base/model.py:1024: ValueWarning: more exog_names than parameters\n",
      "  warnings.warn('more exog_names than parameters', ValueWarning)\n"
     ]
    }
   ],
   "source": [
    "inferred_mixing_props, inferred_cn, df_EM = mixed_NB_EM_fixed_dispersion_gene_level(df_observed_read_counts, df_selected_amplicons, cell_total_read_counts,\n",
    "                                                                                    nclones=nclones, seed=0)"
   ]
  },
  {
   "cell_type": "code",
   "execution_count": 1772,
   "id": "190b444b-65d4-40e6-8fdc-754fa496bce9",
   "metadata": {},
   "outputs": [
    {
     "data": {
      "text/plain": [
       "471387.9938064974"
      ]
     },
     "execution_count": 1772,
     "metadata": {},
     "output_type": "execute_result"
    }
   ],
   "source": [
    "2 * np.prod(df_observed_read_counts.values.shape) - 2 * df_EM.iloc[-1]['marginal']"
   ]
  },
  {
   "cell_type": "code",
   "execution_count": 1781,
   "id": "e9a06387-4896-4f02-bbfc-0b37a6887f29",
   "metadata": {},
   "outputs": [
    {
     "name": "stdout",
     "output_type": "stream",
     "text": [
      "-221878.02707705088 [1.0]\n"
     ]
    },
    {
     "name": "stderr",
     "output_type": "stream",
     "text": [
      "/n/fs/ragr-data/users/palash/anaconda3/lib/python3.8/site-packages/statsmodels/base/model.py:2694: UserWarning: df_model + k_constant differs from nparams\n",
      "  warnings.warn(\"df_model + k_constant differs from nparams\")\n",
      "/n/fs/ragr-data/users/palash/anaconda3/lib/python3.8/site-packages/statsmodels/base/model.py:2696: UserWarning: df_resid differs from nobs - nparams\n",
      "  warnings.warn(\"df_resid differs from nobs - nparams\")\n",
      "/n/fs/ragr-data/users/palash/anaconda3/lib/python3.8/site-packages/statsmodels/base/model.py:1024: ValueWarning: more exog_names than parameters\n",
      "  warnings.warn('more exog_names than parameters', ValueWarning)\n"
     ]
    },
    {
     "name": "stdout",
     "output_type": "stream",
     "text": [
      "-195189.5742318573 [1.]\n"
     ]
    },
    {
     "name": "stderr",
     "output_type": "stream",
     "text": [
      "/n/fs/ragr-data/users/palash/anaconda3/lib/python3.8/site-packages/statsmodels/base/model.py:1024: ValueWarning: more exog_names than parameters\n",
      "  warnings.warn('more exog_names than parameters', ValueWarning)\n"
     ]
    },
    {
     "name": "stdout",
     "output_type": "stream",
     "text": [
      "-195189.5742318573 [1.]\n"
     ]
    },
    {
     "name": "stderr",
     "output_type": "stream",
     "text": [
      "/n/fs/ragr-data/users/palash/anaconda3/lib/python3.8/site-packages/statsmodels/base/model.py:1024: ValueWarning: more exog_names than parameters\n",
      "  warnings.warn('more exog_names than parameters', ValueWarning)\n"
     ]
    }
   ],
   "source": [
    "inferred_mixing_props, inferred_cn, df_EM = mixed_NB_EM_fixed_dispersion_gene_level(df_observed_read_counts, df_selected_amplicons, cell_total_read_counts,\n",
    "                                                                                    nclones=1, seed=0)"
   ]
  },
  {
   "cell_type": "code",
   "execution_count": 1782,
   "id": "cfd78f53-0add-4921-9805-073c45de6999",
   "metadata": {},
   "outputs": [
    {
     "data": {
      "text/plain": [
       "-195189.5742318573"
      ]
     },
     "execution_count": 1782,
     "metadata": {},
     "output_type": "execute_result"
    }
   ],
   "source": [
    "df_EM.iloc[-1]['marginal']"
   ]
  },
  {
   "cell_type": "code",
   "execution_count": 1783,
   "id": "742627f1-c222-4601-8143-951ecf4321b3",
   "metadata": {},
   "outputs": [
    {
     "data": {
      "text/plain": [
       "41055"
      ]
     },
     "execution_count": 1783,
     "metadata": {},
     "output_type": "execute_result"
    }
   ],
   "source": [
    "np.prod(df_observed_read_counts.values.shape)"
   ]
  },
  {
   "cell_type": "code",
   "execution_count": 1785,
   "id": "3f57d53c-0888-4fd2-a201-3f78f5c540a8",
   "metadata": {},
   "outputs": [
    {
     "data": {
      "text/plain": [
       "10.622667910142889"
      ]
     },
     "execution_count": 1785,
     "metadata": {},
     "output_type": "execute_result"
    }
   ],
   "source": [
    "np.log(np.prod(df_observed_read_counts.values.shape))"
   ]
  },
  {
   "cell_type": "code",
   "execution_count": 1784,
   "id": "e96977bc-105b-4bcb-aed4-261fa1cf4e72",
   "metadata": {},
   "outputs": [
    {
     "data": {
      "text/plain": [
       "390389.7711316247"
      ]
     },
     "execution_count": 1784,
     "metadata": {},
     "output_type": "execute_result"
    }
   ],
   "source": [
    " 1 * np.log(np.prod(df_observed_read_counts.values.shape)) - 2 * df_EM.iloc[-1]['marginal']"
   ]
  },
  {
   "cell_type": "code",
   "execution_count": 1775,
   "id": "0141b3d6-fb66-493e-9280-fa6c81da621d",
   "metadata": {},
   "outputs": [
    {
     "name": "stdout",
     "output_type": "stream",
     "text": [
      "-213894.81486617768 [0.3333333333333333, 0.3333333333333333, 0.3333333333333333]\n"
     ]
    },
    {
     "name": "stderr",
     "output_type": "stream",
     "text": [
      "/n/fs/ragr-data/users/palash/anaconda3/lib/python3.8/site-packages/statsmodels/base/model.py:2694: UserWarning: df_model + k_constant differs from nparams\n",
      "  warnings.warn(\"df_model + k_constant differs from nparams\")\n",
      "/n/fs/ragr-data/users/palash/anaconda3/lib/python3.8/site-packages/statsmodels/base/model.py:2696: UserWarning: df_resid differs from nobs - nparams\n",
      "  warnings.warn(\"df_resid differs from nobs - nparams\")\n",
      "/n/fs/ragr-data/users/palash/anaconda3/lib/python3.8/site-packages/statsmodels/base/model.py:1024: ValueWarning: more exog_names than parameters\n",
      "  warnings.warn('more exog_names than parameters', ValueWarning)\n"
     ]
    },
    {
     "name": "stdout",
     "output_type": "stream",
     "text": [
      "-194577.07363007276 [0.60501113 0.00479093 0.39019794]\n"
     ]
    },
    {
     "name": "stderr",
     "output_type": "stream",
     "text": [
      "/n/fs/ragr-data/users/palash/anaconda3/lib/python3.8/site-packages/statsmodels/base/model.py:1024: ValueWarning: more exog_names than parameters\n",
      "  warnings.warn('more exog_names than parameters', ValueWarning)\n"
     ]
    },
    {
     "name": "stdout",
     "output_type": "stream",
     "text": [
      "-194529.82823056023 [0.62834616 0.00713784 0.364516  ]\n"
     ]
    },
    {
     "name": "stderr",
     "output_type": "stream",
     "text": [
      "/n/fs/ragr-data/users/palash/anaconda3/lib/python3.8/site-packages/statsmodels/base/model.py:1024: ValueWarning: more exog_names than parameters\n",
      "  warnings.warn('more exog_names than parameters', ValueWarning)\n"
     ]
    },
    {
     "name": "stdout",
     "output_type": "stream",
     "text": [
      "-194499.95064857014 [0.63919641 0.01491581 0.34588779]\n"
     ]
    },
    {
     "name": "stderr",
     "output_type": "stream",
     "text": [
      "/n/fs/ragr-data/users/palash/anaconda3/lib/python3.8/site-packages/statsmodels/base/model.py:1024: ValueWarning: more exog_names than parameters\n",
      "  warnings.warn('more exog_names than parameters', ValueWarning)\n"
     ]
    },
    {
     "name": "stdout",
     "output_type": "stream",
     "text": [
      "-194481.91444071126 [0.65475616 0.02110574 0.3241381 ]\n"
     ]
    },
    {
     "name": "stderr",
     "output_type": "stream",
     "text": [
      "/n/fs/ragr-data/users/palash/anaconda3/lib/python3.8/site-packages/statsmodels/base/model.py:1024: ValueWarning: more exog_names than parameters\n",
      "  warnings.warn('more exog_names than parameters', ValueWarning)\n"
     ]
    },
    {
     "name": "stdout",
     "output_type": "stream",
     "text": [
      "-194464.25894123115 [0.67314871 0.02604295 0.30080834]\n"
     ]
    },
    {
     "name": "stderr",
     "output_type": "stream",
     "text": [
      "/n/fs/ragr-data/users/palash/anaconda3/lib/python3.8/site-packages/statsmodels/base/model.py:1024: ValueWarning: more exog_names than parameters\n",
      "  warnings.warn('more exog_names than parameters', ValueWarning)\n"
     ]
    },
    {
     "name": "stdout",
     "output_type": "stream",
     "text": [
      "-194445.75650260953 [0.69237283 0.03065612 0.27697105]\n"
     ]
    },
    {
     "name": "stderr",
     "output_type": "stream",
     "text": [
      "/n/fs/ragr-data/users/palash/anaconda3/lib/python3.8/site-packages/statsmodels/base/model.py:1024: ValueWarning: more exog_names than parameters\n",
      "  warnings.warn('more exog_names than parameters', ValueWarning)\n"
     ]
    },
    {
     "name": "stdout",
     "output_type": "stream",
     "text": [
      "-194426.05656697613 [0.71177414 0.03520965 0.25301621]\n"
     ]
    },
    {
     "name": "stderr",
     "output_type": "stream",
     "text": [
      "/n/fs/ragr-data/users/palash/anaconda3/lib/python3.8/site-packages/statsmodels/base/model.py:1024: ValueWarning: more exog_names than parameters\n",
      "  warnings.warn('more exog_names than parameters', ValueWarning)\n"
     ]
    },
    {
     "name": "stdout",
     "output_type": "stream",
     "text": [
      "-194405.07672464594 [0.730851   0.03983935 0.22930965]\n"
     ]
    },
    {
     "name": "stderr",
     "output_type": "stream",
     "text": [
      "/n/fs/ragr-data/users/palash/anaconda3/lib/python3.8/site-packages/statsmodels/base/model.py:1024: ValueWarning: more exog_names than parameters\n",
      "  warnings.warn('more exog_names than parameters', ValueWarning)\n"
     ]
    },
    {
     "name": "stdout",
     "output_type": "stream",
     "text": [
      "-194383.05422378326 [0.74905231 0.04465232 0.20629536]\n"
     ]
    },
    {
     "name": "stderr",
     "output_type": "stream",
     "text": [
      "/n/fs/ragr-data/users/palash/anaconda3/lib/python3.8/site-packages/statsmodels/base/model.py:1024: ValueWarning: more exog_names than parameters\n",
      "  warnings.warn('more exog_names than parameters', ValueWarning)\n"
     ]
    },
    {
     "name": "stdout",
     "output_type": "stream",
     "text": [
      "-194360.65915724254 [0.76575862 0.04973072 0.18451066]\n"
     ]
    },
    {
     "name": "stderr",
     "output_type": "stream",
     "text": [
      "/n/fs/ragr-data/users/palash/anaconda3/lib/python3.8/site-packages/statsmodels/base/model.py:1024: ValueWarning: more exog_names than parameters\n",
      "  warnings.warn('more exog_names than parameters', ValueWarning)\n"
     ]
    },
    {
     "name": "stdout",
     "output_type": "stream",
     "text": [
      "-194339.011103076 [0.78031682 0.05513726 0.16454591]\n"
     ]
    },
    {
     "name": "stderr",
     "output_type": "stream",
     "text": [
      "/n/fs/ragr-data/users/palash/anaconda3/lib/python3.8/site-packages/statsmodels/base/model.py:1024: ValueWarning: more exog_names than parameters\n",
      "  warnings.warn('more exog_names than parameters', ValueWarning)\n"
     ]
    },
    {
     "name": "stdout",
     "output_type": "stream",
     "text": [
      "-194319.4703679924 [0.7921549  0.06091206 0.14693304]\n"
     ]
    },
    {
     "name": "stderr",
     "output_type": "stream",
     "text": [
      "/n/fs/ragr-data/users/palash/anaconda3/lib/python3.8/site-packages/statsmodels/base/model.py:1024: ValueWarning: more exog_names than parameters\n",
      "  warnings.warn('more exog_names than parameters', ValueWarning)\n"
     ]
    },
    {
     "name": "stdout",
     "output_type": "stream",
     "text": [
      "-194303.10986949864 [0.80091414 0.0670567  0.13202915]\n"
     ]
    },
    {
     "name": "stderr",
     "output_type": "stream",
     "text": [
      "/n/fs/ragr-data/users/palash/anaconda3/lib/python3.8/site-packages/statsmodels/base/model.py:1024: ValueWarning: more exog_names than parameters\n",
      "  warnings.warn('more exog_names than parameters', ValueWarning)\n"
     ]
    },
    {
     "name": "stdout",
     "output_type": "stream",
     "text": [
      "-194290.3218475281 [0.80655668 0.07353881 0.1199045 ]\n"
     ]
    },
    {
     "name": "stderr",
     "output_type": "stream",
     "text": [
      "/n/fs/ragr-data/users/palash/anaconda3/lib/python3.8/site-packages/statsmodels/base/model.py:1024: ValueWarning: more exog_names than parameters\n",
      "  warnings.warn('more exog_names than parameters', ValueWarning)\n"
     ]
    },
    {
     "name": "stdout",
     "output_type": "stream",
     "text": [
      "-194280.8166921739 [0.80936316 0.08027491 0.11036193]\n"
     ]
    },
    {
     "name": "stderr",
     "output_type": "stream",
     "text": [
      "/n/fs/ragr-data/users/palash/anaconda3/lib/python3.8/site-packages/statsmodels/base/model.py:1024: ValueWarning: more exog_names than parameters\n",
      "  warnings.warn('more exog_names than parameters', ValueWarning)\n"
     ]
    },
    {
     "name": "stdout",
     "output_type": "stream",
     "text": [
      "-194273.93423984345 [0.80979748 0.08716249 0.10304003]\n"
     ]
    },
    {
     "name": "stderr",
     "output_type": "stream",
     "text": [
      "/n/fs/ragr-data/users/palash/anaconda3/lib/python3.8/site-packages/statsmodels/base/model.py:1024: ValueWarning: more exog_names than parameters\n",
      "  warnings.warn('more exog_names than parameters', ValueWarning)\n"
     ]
    },
    {
     "name": "stdout",
     "output_type": "stream",
     "text": [
      "-194268.9488155443 [0.80840406 0.09407547 0.09752046]\n"
     ]
    },
    {
     "name": "stderr",
     "output_type": "stream",
     "text": [
      "/n/fs/ragr-data/users/palash/anaconda3/lib/python3.8/site-packages/statsmodels/base/model.py:1024: ValueWarning: more exog_names than parameters\n",
      "  warnings.warn('more exog_names than parameters', ValueWarning)\n"
     ]
    },
    {
     "name": "stdout",
     "output_type": "stream",
     "text": [
      "-194265.26849547634 [0.80570984 0.10090129 0.09338887]\n"
     ]
    },
    {
     "name": "stderr",
     "output_type": "stream",
     "text": [
      "/n/fs/ragr-data/users/palash/anaconda3/lib/python3.8/site-packages/statsmodels/base/model.py:1024: ValueWarning: more exog_names than parameters\n",
      "  warnings.warn('more exog_names than parameters', ValueWarning)\n"
     ]
    },
    {
     "name": "stdout",
     "output_type": "stream",
     "text": [
      "-194262.47513873497 [0.80217487 0.10753801 0.09028712]\n"
     ]
    },
    {
     "name": "stderr",
     "output_type": "stream",
     "text": [
      "/n/fs/ragr-data/users/palash/anaconda3/lib/python3.8/site-packages/statsmodels/base/model.py:1024: ValueWarning: more exog_names than parameters\n",
      "  warnings.warn('more exog_names than parameters', ValueWarning)\n"
     ]
    }
   ],
   "source": [
    "inferred_mixing_props, inferred_cn, df_EM = mixed_NB_EM_fixed_dispersion_gene_level(df_observed_read_counts, df_selected_amplicons, cell_total_read_counts,\n",
    "                                                                                    nclones=3, seed=0)"
   ]
  },
  {
   "cell_type": "code",
   "execution_count": 1776,
   "id": "454a6d30-c45b-4922-a411-4d2219d2f283",
   "metadata": {},
   "outputs": [
    {
     "data": {
      "text/plain": [
       "511689.95027746994"
      ]
     },
     "execution_count": 1776,
     "metadata": {},
     "output_type": "execute_result"
    }
   ],
   "source": [
    " 3 * np.prod(df_observed_read_counts.values.shape) - 2 * df_EM.iloc[-1]['marginal']"
   ]
  },
  {
   "cell_type": "markdown",
   "id": "6efb140e-debf-46f2-8fbe-ff1c2ac7dbaf",
   "metadata": {
    "tags": []
   },
   "source": [
    "# Brute Force"
   ]
  },
  {
   "cell_type": "code",
   "execution_count": 9,
   "id": "e54420a5-21dc-4b69-a877-c039001edd68",
   "metadata": {},
   "outputs": [],
   "source": [
    "def get_responsibilities_and_marginal_gene_level(df_observed_read_counts, df_gene_amplicons, cell_total_reads, mixing_props, cn):    \n",
    "    ncells = len(df_observed_read_counts)\n",
    "    nclones = len(cn)\n",
    "\n",
    "    coeffs = np.zeros((ncells, nclones))    \n",
    "    \n",
    "    for clone_idx in range(nclones):\n",
    "        mu = cn[clone_idx] * cell_total_reads.values[:, np.newaxis] * df_gene_amplicons['amplicon_factor'].values[np.newaxis, :]\n",
    "        phi_matrix = np.array([1]*ncells)[:, np.newaxis] * df_gene_amplicons['phi'].values[np.newaxis, :]\n",
    "        prob = phi_matrix / (phi_matrix + mu)\n",
    "        coeff_ij = nbinom.pmf(df_observed_read_counts.values, phi_matrix, prob)\n",
    "\n",
    "        coeffs[:, clone_idx] =  mixing_props[clone_idx] * np.prod(coeff_ij, axis=1)    \n",
    "        \n",
    "    marginal = np.sum(np.log(np.sum(coeffs, axis = 1)))\n",
    "    responsibilities = coeffs / np.sum(coeffs, axis = 1)[:, np.newaxis]        \n",
    "    \n",
    "    return responsibilities, marginal\n"
   ]
  },
  {
   "cell_type": "code",
   "execution_count": 10,
   "id": "858a92b6-11f7-4678-b10a-af72afa62874",
   "metadata": {},
   "outputs": [],
   "source": [
    "def get_cn_string(cn_list, max_cn):\n",
    "    cn_string = ['0']*(max_cn+1)\n",
    "    for cn in cn_list:\n",
    "        cn_string[cn] = '1'    \n",
    "    return ''.join(cn_string)"
   ]
  },
  {
   "cell_type": "code",
   "execution_count": 11,
   "id": "1ae6dcd2-a3ed-437f-a963-51b5b0f2860a",
   "metadata": {},
   "outputs": [],
   "source": [
    "tumor_tsv_file_dict = {'primary1': '/n/fs/ragr-data/datasets/mskcc_iacobuzio/RA17_22_panel2/old_pipeline/RA17_22_32_1_IGO_12742_B_2/results/tsv/RA17_22_32_1_IGO_12742_B_2.tube1.barcode.cell.distribution.tsv',\n",
    "                       'primary2': '/n/fs/ragr-data/datasets/mskcc_iacobuzio/RA17_22_panel2/old_pipeline/RA17_22_35_1_IGO_12742_2/results/tsv/RA17_22_35_1_IGO_12742_2.tube1.barcode.cell.distribution.tsv',\n",
    "                       'liver': '/n/fs/ragr-data/datasets/mskcc_iacobuzio/RA17_22_panel2/old_pipeline/RA17_22_39_6_IGO_12742_1/results/tsv/RA17_22_39_6_IGO_12742_1.tube1.barcode.cell.distribution.tsv',\n",
    "                       'lung': '/n/fs/ragr-data/datasets/mskcc_iacobuzio/RA17_22_panel2/old_pipeline/RA17_22_06_2_IGO_12742_C_2/results/tsv/RA17_22_06_2_IGO_12742_C_2.tube1.barcode.cell.distribution.tsv',\n",
    "                       'retroperitoneum': '/n/fs/ragr-data/datasets/mskcc_iacobuzio/RA17_22_panel2/old_pipeline/RA17_22_42_2_IGO_12742_C_1/results/tsv/RA17_22_42_2_IGO_12742_C_1.tube1.barcode.cell.distribution.tsv',\n",
    "                       'peritoneum': '/n/fs/ragr-data/datasets/mskcc_iacobuzio/RA17_22_panel2/old_pipeline/RA17_22_27_2_IGO_12742_B_1/results/tsv/RA17_22_27_2_IGO_12742_B_1.tube1.barcode.cell.distribution.tsv',\n",
    "                       'diaphragm': '/n/fs/ragr-data/datasets/mskcc_iacobuzio/RA17_22_panel2/old_pipeline/RA17_22-11_1/RA17_22_11_1_IGO_12742_D_2.barcode.cell.distribution.merged.tsv',\n",
    "                       'primary3': '/n/fs/ragr-data/datasets/mskcc_iacobuzio/RA17_22_panel2/old_pipeline/RA17_22_33_2/RA17_22_33_2_IGO_12742_D_1.barcode.cell.distribution.merged.tsv' }"
   ]
  },
  {
   "cell_type": "code",
   "execution_count": 12,
   "id": "054522fc-89df-4d18-b377-3102392dda2c",
   "metadata": {},
   "outputs": [
    {
     "data": {
      "text/plain": [
       "(1, 2)"
      ]
     },
     "execution_count": 12,
     "metadata": {},
     "output_type": "execute_result"
    }
   ],
   "source": [
    "cn_list"
   ]
  },
  {
   "cell_type": "code",
   "execution_count": 13,
   "id": "056ccf3a-ac8d-45cc-b76c-e8eb80e89cce",
   "metadata": {},
   "outputs": [
    {
     "data": {
      "text/plain": [
       "array([0.06094251, 0.93905749])"
      ]
     },
     "execution_count": 13,
     "metadata": {},
     "output_type": "execute_result"
    }
   ],
   "source": [
    "mixing_props"
   ]
  },
  {
   "cell_type": "code",
   "execution_count": 14,
   "id": "a11c47c3-fe4f-4ba1-b24c-22d33a7de880",
   "metadata": {},
   "outputs": [],
   "source": [
    "df_cn_info = pd.DataFrame({'cn': cn_list[::-1], 'props': mixing_props})"
   ]
  },
  {
   "cell_type": "code",
   "execution_count": 15,
   "id": "9d36690d-6ec1-44ed-8edc-7c4dd8504503",
   "metadata": {},
   "outputs": [
    {
     "data": {
      "text/html": [
       "<div>\n",
       "<style scoped>\n",
       "    .dataframe tbody tr th:only-of-type {\n",
       "        vertical-align: middle;\n",
       "    }\n",
       "\n",
       "    .dataframe tbody tr th {\n",
       "        vertical-align: top;\n",
       "    }\n",
       "\n",
       "    .dataframe thead th {\n",
       "        text-align: right;\n",
       "    }\n",
       "</style>\n",
       "<table border=\"1\" class=\"dataframe\">\n",
       "  <thead>\n",
       "    <tr style=\"text-align: right;\">\n",
       "      <th></th>\n",
       "      <th>cn</th>\n",
       "      <th>props</th>\n",
       "    </tr>\n",
       "  </thead>\n",
       "  <tbody>\n",
       "    <tr>\n",
       "      <th>0</th>\n",
       "      <td>2</td>\n",
       "      <td>0.060943</td>\n",
       "    </tr>\n",
       "    <tr>\n",
       "      <th>1</th>\n",
       "      <td>1</td>\n",
       "      <td>0.939057</td>\n",
       "    </tr>\n",
       "  </tbody>\n",
       "</table>\n",
       "</div>"
      ],
      "text/plain": [
       "   cn     props\n",
       "0   2  0.060943\n",
       "1   1  0.939057"
      ]
     },
     "execution_count": 15,
     "metadata": {},
     "output_type": "execute_result"
    }
   ],
   "source": [
    "df_cn_info"
   ]
  },
  {
   "cell_type": "code",
   "execution_count": 16,
   "id": "053e674c-1fcc-486e-ab1e-1f2dd2e6c998",
   "metadata": {},
   "outputs": [
    {
     "data": {
      "text/html": [
       "<div>\n",
       "<style scoped>\n",
       "    .dataframe tbody tr th:only-of-type {\n",
       "        vertical-align: middle;\n",
       "    }\n",
       "\n",
       "    .dataframe tbody tr th {\n",
       "        vertical-align: top;\n",
       "    }\n",
       "\n",
       "    .dataframe thead th {\n",
       "        text-align: right;\n",
       "    }\n",
       "</style>\n",
       "<table border=\"1\" class=\"dataframe\">\n",
       "  <thead>\n",
       "    <tr style=\"text-align: right;\">\n",
       "      <th></th>\n",
       "      <th>cn</th>\n",
       "      <th>props</th>\n",
       "    </tr>\n",
       "  </thead>\n",
       "  <tbody>\n",
       "    <tr>\n",
       "      <th>1</th>\n",
       "      <td>1</td>\n",
       "      <td>0.939057</td>\n",
       "    </tr>\n",
       "    <tr>\n",
       "      <th>0</th>\n",
       "      <td>2</td>\n",
       "      <td>0.060943</td>\n",
       "    </tr>\n",
       "  </tbody>\n",
       "</table>\n",
       "</div>"
      ],
      "text/plain": [
       "   cn     props\n",
       "1   1  0.939057\n",
       "0   2  0.060943"
      ]
     },
     "execution_count": 16,
     "metadata": {},
     "output_type": "execute_result"
    }
   ],
   "source": [
    "df_cn_info.sort_values('cn')"
   ]
  },
  {
   "cell_type": "code",
   "execution_count": 21,
   "id": "589818d1-c159-4241-a4dc-7aafaeb6b703",
   "metadata": {},
   "outputs": [
    {
     "name": "stderr",
     "output_type": "stream",
     "text": [
      "/tmp/ipykernel_41549/1994200555.py:15: RuntimeWarning: divide by zero encountered in log\n",
      "  marginal = np.sum(np.log(np.sum(coeffs, axis = 1)))\n",
      "/tmp/ipykernel_41549/1994200555.py:16: RuntimeWarning: invalid value encountered in true_divide\n",
      "  responsibilities = coeffs / np.sum(coeffs, axis = 1)[:, np.newaxis]\n",
      "/tmp/ipykernel_41549/1994200555.py:15: RuntimeWarning: divide by zero encountered in log\n",
      "  marginal = np.sum(np.log(np.sum(coeffs, axis = 1)))\n",
      "/tmp/ipykernel_41549/1994200555.py:16: RuntimeWarning: invalid value encountered in true_divide\n",
      "  responsibilities = coeffs / np.sum(coeffs, axis = 1)[:, np.newaxis]\n",
      "/tmp/ipykernel_41549/1994200555.py:15: RuntimeWarning: divide by zero encountered in log\n",
      "  marginal = np.sum(np.log(np.sum(coeffs, axis = 1)))\n",
      "/tmp/ipykernel_41549/1994200555.py:16: RuntimeWarning: invalid value encountered in true_divide\n",
      "  responsibilities = coeffs / np.sum(coeffs, axis = 1)[:, np.newaxis]\n",
      "/tmp/ipykernel_41549/1994200555.py:15: RuntimeWarning: divide by zero encountered in log\n",
      "  marginal = np.sum(np.log(np.sum(coeffs, axis = 1)))\n",
      "/tmp/ipykernel_41549/1994200555.py:16: RuntimeWarning: invalid value encountered in true_divide\n",
      "  responsibilities = coeffs / np.sum(coeffs, axis = 1)[:, np.newaxis]\n",
      "/tmp/ipykernel_41549/1994200555.py:15: RuntimeWarning: divide by zero encountered in log\n",
      "  marginal = np.sum(np.log(np.sum(coeffs, axis = 1)))\n",
      "/tmp/ipykernel_41549/1994200555.py:16: RuntimeWarning: invalid value encountered in true_divide\n",
      "  responsibilities = coeffs / np.sum(coeffs, axis = 1)[:, np.newaxis]\n",
      "/tmp/ipykernel_41549/1994200555.py:15: RuntimeWarning: divide by zero encountered in log\n",
      "  marginal = np.sum(np.log(np.sum(coeffs, axis = 1)))\n",
      "/tmp/ipykernel_41549/1994200555.py:16: RuntimeWarning: invalid value encountered in true_divide\n",
      "  responsibilities = coeffs / np.sum(coeffs, axis = 1)[:, np.newaxis]\n",
      "/tmp/ipykernel_41549/1994200555.py:15: RuntimeWarning: divide by zero encountered in log\n",
      "  marginal = np.sum(np.log(np.sum(coeffs, axis = 1)))\n",
      "/tmp/ipykernel_41549/1994200555.py:16: RuntimeWarning: invalid value encountered in true_divide\n",
      "  responsibilities = coeffs / np.sum(coeffs, axis = 1)[:, np.newaxis]\n",
      "/tmp/ipykernel_41549/1994200555.py:15: RuntimeWarning: divide by zero encountered in log\n",
      "  marginal = np.sum(np.log(np.sum(coeffs, axis = 1)))\n",
      "/tmp/ipykernel_41549/1994200555.py:16: RuntimeWarning: invalid value encountered in true_divide\n",
      "  responsibilities = coeffs / np.sum(coeffs, axis = 1)[:, np.newaxis]\n",
      "/tmp/ipykernel_41549/1994200555.py:15: RuntimeWarning: divide by zero encountered in log\n",
      "  marginal = np.sum(np.log(np.sum(coeffs, axis = 1)))\n",
      "/tmp/ipykernel_41549/1994200555.py:16: RuntimeWarning: invalid value encountered in true_divide\n",
      "  responsibilities = coeffs / np.sum(coeffs, axis = 1)[:, np.newaxis]\n",
      "/tmp/ipykernel_41549/1994200555.py:15: RuntimeWarning: divide by zero encountered in log\n",
      "  marginal = np.sum(np.log(np.sum(coeffs, axis = 1)))\n",
      "/tmp/ipykernel_41549/1994200555.py:16: RuntimeWarning: invalid value encountered in true_divide\n",
      "  responsibilities = coeffs / np.sum(coeffs, axis = 1)[:, np.newaxis]\n"
     ]
    }
   ],
   "source": [
    "# prepare the input data\n",
    "seed = 0\n",
    "np.random.seed(seed)\n",
    "sample = 'primary1'\n",
    "df_tsv = pd.read_csv(tumor_tsv_file_dict[sample], sep='\\t', index_col = 0)\n",
    "df_nb_residual = pd.read_csv('/n/fs/ragr-data/users/palash/mskcc-analysis/panel2_normal_read_counts/panel2_nb_results.csv', index_col = 0)\n",
    "df_nb_residual['phi'] = 1 / df_nb_residual['alpha']\n",
    "curr_gene = 'ARID1A'\n",
    "\n",
    "curr_selected_amplicons = list(df_nb_residual[df_nb_residual['gene'] == curr_gene].index)\n",
    "df_observed_read_counts = df_tsv[curr_selected_amplicons]\n",
    "cell_total_read_counts = df_tsv.sum(axis = 1)\n",
    "df_selected_amplicons = df_nb_residual.loc[curr_selected_amplicons][['amplicon_factor', 'phi']]\n",
    "\n",
    "# enumerate all possible combination of copy number clones\n",
    "max_cn = 4\n",
    "max_nclones = 5\n",
    "ncells = len(df_observed_read_counts)\n",
    "\n",
    "# multiple restarts of EM\n",
    "nsamples = np.prod(df_observed_read_counts.values.shape)\n",
    "nrestarts = 10\n",
    "seed_list = np.random.permutation(np.arange(100))[:nrestarts]\n",
    "tol = 1e-6\n",
    "maxiter = 20\n",
    "cn_list_idx = 0\n",
    "result_data = []\n",
    "\n",
    "for nclones in range(1, max_nclones+1):\n",
    "    for cn_list in itertools.combinations(np.arange(max_cn+1), nclones):\n",
    "        prop_string = ''\n",
    "        cn_string = get_cn_string(cn_list, max_cn)\n",
    "        final_mixing_props = [None]\n",
    "        for restart_idx in range(nrestarts):\n",
    "            np.random.seed(seed_list[restart_idx])\n",
    "\n",
    "            # initial guess\n",
    "            mixing_props = np.random.dirichlet([1]*nclones)\n",
    "\n",
    "            relative_marginal_gain = np.inf\n",
    "            old_marginal = -np.inf\n",
    "            iter_count = 0\n",
    "            em_data = []\n",
    "            max_marginal = -np.inf\n",
    "\n",
    "            while (iter_count < maxiter) & (relative_marginal_gain >= tol):\n",
    "                responsibilities, new_marginal = get_responsibilities_and_marginal_gene_level(df_observed_read_counts, df_selected_amplicons, cell_total_read_counts,\n",
    "                                                                                              mixing_props, cn_list)\n",
    "                new_mixing_props = responsibilities.sum(axis=0) / ncells\n",
    "\n",
    "                if iter_count > 0:\n",
    "                    relative_marginal_gain = (new_marginal - old_marginal) / np.abs(old_marginal)\n",
    "\n",
    "                em_data.append([sample, curr_gene, nclones,\n",
    "                                iter_count, old_marginal, new_marginal, relative_marginal_gain])\n",
    "\n",
    "                if (relative_marginal_gain > 0) | (np.abs(new_marginal) == np.inf) | (np.abs(old_marginal) == np.inf):\n",
    "                    old_marginal = new_marginal\n",
    "                    mixing_props = new_mixing_props\n",
    "\n",
    "                    iter_count += 1\n",
    "                    if np.isnan(relative_marginal_gain):\n",
    "                        relative_marginal_gain = np.inf\n",
    "                else:\n",
    "                    break\n",
    "\n",
    "            df_EM = pd.DataFrame(em_data, columns = ['sample', 'gene', 'nclones',\n",
    "                                                     'iterations', 'old_marginal', 'marginal', 'relative_marginal_gain'])\n",
    "\n",
    "            curr_max_marginal = df_EM.iloc[-1]['marginal']\n",
    "\n",
    "            if curr_max_marginal > max_marginal:\n",
    "                final_df_EM = df_EM\n",
    "                final_mixing_props = mixing_props\n",
    "                final_cn = cn_list\n",
    "                max_marginal = curr_max_marginal\n",
    "\n",
    "        prop_string = '|'.join(map(str, final_mixing_props))\n",
    "\n",
    "        bic = 2 * nclones * np.log(nsamples) - 2 * max_marginal\n",
    "        aic = 2 * 2 * nclones - 2 * max_marginal\n",
    "        result_data.append([sample, curr_gene, nclones, seed, cn_string, prop_string, max_marginal, bic, aic])\n",
    "\n",
    "# write the output\n",
    "# prefix = args.prefix\n",
    "\n",
    "df_result = pd.DataFrame(result_data,\n",
    "                         columns = ['sample', 'gene', 'nclones', 'seed',\n",
    "                                    'cn_string', 'prop_string', 'marginal', 'BIC', 'AIC'])"
   ]
  },
  {
   "cell_type": "code",
   "execution_count": 22,
   "id": "eaf2beac-dc05-4986-8669-56c8281d306b",
   "metadata": {},
   "outputs": [
    {
     "data": {
      "text/html": [
       "<div>\n",
       "<style scoped>\n",
       "    .dataframe tbody tr th:only-of-type {\n",
       "        vertical-align: middle;\n",
       "    }\n",
       "\n",
       "    .dataframe tbody tr th {\n",
       "        vertical-align: top;\n",
       "    }\n",
       "\n",
       "    .dataframe thead th {\n",
       "        text-align: right;\n",
       "    }\n",
       "</style>\n",
       "<table border=\"1\" class=\"dataframe\">\n",
       "  <thead>\n",
       "    <tr style=\"text-align: right;\">\n",
       "      <th></th>\n",
       "      <th>sample</th>\n",
       "      <th>gene</th>\n",
       "      <th>nclones</th>\n",
       "      <th>seed</th>\n",
       "      <th>cn_string</th>\n",
       "      <th>prop_string</th>\n",
       "      <th>marginal</th>\n",
       "      <th>BIC</th>\n",
       "      <th>AIC</th>\n",
       "    </tr>\n",
       "  </thead>\n",
       "  <tbody>\n",
       "    <tr>\n",
       "      <th>0</th>\n",
       "      <td>primary1</td>\n",
       "      <td>ARID1A</td>\n",
       "      <td>1</td>\n",
       "      <td>0</td>\n",
       "      <td>10000</td>\n",
       "      <td>None</td>\n",
       "      <td>-inf</td>\n",
       "      <td>inf</td>\n",
       "      <td>inf</td>\n",
       "    </tr>\n",
       "    <tr>\n",
       "      <th>1</th>\n",
       "      <td>primary1</td>\n",
       "      <td>ARID1A</td>\n",
       "      <td>1</td>\n",
       "      <td>0</td>\n",
       "      <td>01000</td>\n",
       "      <td>1.0</td>\n",
       "      <td>-2.645752e+05</td>\n",
       "      <td>5.291716e+05</td>\n",
       "      <td>5.291545e+05</td>\n",
       "    </tr>\n",
       "    <tr>\n",
       "      <th>2</th>\n",
       "      <td>primary1</td>\n",
       "      <td>ARID1A</td>\n",
       "      <td>1</td>\n",
       "      <td>0</td>\n",
       "      <td>00100</td>\n",
       "      <td>1.0</td>\n",
       "      <td>-2.368917e+05</td>\n",
       "      <td>4.738046e+05</td>\n",
       "      <td>4.737875e+05</td>\n",
       "    </tr>\n",
       "    <tr>\n",
       "      <th>3</th>\n",
       "      <td>primary1</td>\n",
       "      <td>ARID1A</td>\n",
       "      <td>1</td>\n",
       "      <td>0</td>\n",
       "      <td>00010</td>\n",
       "      <td>1.0</td>\n",
       "      <td>-2.439909e+05</td>\n",
       "      <td>4.880029e+05</td>\n",
       "      <td>4.879858e+05</td>\n",
       "    </tr>\n",
       "    <tr>\n",
       "      <th>4</th>\n",
       "      <td>primary1</td>\n",
       "      <td>ARID1A</td>\n",
       "      <td>1</td>\n",
       "      <td>0</td>\n",
       "      <td>00001</td>\n",
       "      <td>1.0</td>\n",
       "      <td>-2.555804e+05</td>\n",
       "      <td>5.111820e+05</td>\n",
       "      <td>5.111649e+05</td>\n",
       "    </tr>\n",
       "    <tr>\n",
       "      <th>5</th>\n",
       "      <td>primary1</td>\n",
       "      <td>ARID1A</td>\n",
       "      <td>2</td>\n",
       "      <td>0</td>\n",
       "      <td>11000</td>\n",
       "      <td>0.0|1.0</td>\n",
       "      <td>-2.645752e+05</td>\n",
       "      <td>5.291927e+05</td>\n",
       "      <td>5.291585e+05</td>\n",
       "    </tr>\n",
       "    <tr>\n",
       "      <th>6</th>\n",
       "      <td>primary1</td>\n",
       "      <td>ARID1A</td>\n",
       "      <td>2</td>\n",
       "      <td>0</td>\n",
       "      <td>10100</td>\n",
       "      <td>0.0|1.0</td>\n",
       "      <td>-2.368917e+05</td>\n",
       "      <td>4.738257e+05</td>\n",
       "      <td>4.737915e+05</td>\n",
       "    </tr>\n",
       "    <tr>\n",
       "      <th>7</th>\n",
       "      <td>primary1</td>\n",
       "      <td>ARID1A</td>\n",
       "      <td>2</td>\n",
       "      <td>0</td>\n",
       "      <td>10010</td>\n",
       "      <td>0.0|1.0</td>\n",
       "      <td>-2.439909e+05</td>\n",
       "      <td>4.880240e+05</td>\n",
       "      <td>4.879898e+05</td>\n",
       "    </tr>\n",
       "    <tr>\n",
       "      <th>8</th>\n",
       "      <td>primary1</td>\n",
       "      <td>ARID1A</td>\n",
       "      <td>2</td>\n",
       "      <td>0</td>\n",
       "      <td>10001</td>\n",
       "      <td>0.0|1.0</td>\n",
       "      <td>-2.555804e+05</td>\n",
       "      <td>5.112031e+05</td>\n",
       "      <td>5.111689e+05</td>\n",
       "    </tr>\n",
       "    <tr>\n",
       "      <th>9</th>\n",
       "      <td>primary1</td>\n",
       "      <td>ARID1A</td>\n",
       "      <td>2</td>\n",
       "      <td>0</td>\n",
       "      <td>01100</td>\n",
       "      <td>0.060942505164398676|0.9390574948356029</td>\n",
       "      <td>-2.364242e+05</td>\n",
       "      <td>4.728906e+05</td>\n",
       "      <td>4.728565e+05</td>\n",
       "    </tr>\n",
       "    <tr>\n",
       "      <th>10</th>\n",
       "      <td>primary1</td>\n",
       "      <td>ARID1A</td>\n",
       "      <td>2</td>\n",
       "      <td>0</td>\n",
       "      <td>01010</td>\n",
       "      <td>0.20124382633765986|0.7987561736623381</td>\n",
       "      <td>-2.411901e+05</td>\n",
       "      <td>4.824224e+05</td>\n",
       "      <td>4.823882e+05</td>\n",
       "    </tr>\n",
       "    <tr>\n",
       "      <th>11</th>\n",
       "      <td>primary1</td>\n",
       "      <td>ARID1A</td>\n",
       "      <td>2</td>\n",
       "      <td>0</td>\n",
       "      <td>01001</td>\n",
       "      <td>0.3776817934066842|0.6223182065933163</td>\n",
       "      <td>-2.483051e+05</td>\n",
       "      <td>4.966523e+05</td>\n",
       "      <td>4.966181e+05</td>\n",
       "    </tr>\n",
       "    <tr>\n",
       "      <th>12</th>\n",
       "      <td>primary1</td>\n",
       "      <td>ARID1A</td>\n",
       "      <td>2</td>\n",
       "      <td>0</td>\n",
       "      <td>00110</td>\n",
       "      <td>0.9299973419643189|0.07000265803568227</td>\n",
       "      <td>-2.367186e+05</td>\n",
       "      <td>4.734794e+05</td>\n",
       "      <td>4.734452e+05</td>\n",
       "    </tr>\n",
       "    <tr>\n",
       "      <th>13</th>\n",
       "      <td>primary1</td>\n",
       "      <td>ARID1A</td>\n",
       "      <td>2</td>\n",
       "      <td>0</td>\n",
       "      <td>00101</td>\n",
       "      <td>0.9836211692235491|0.016378830776450602</td>\n",
       "      <td>-2.368229e+05</td>\n",
       "      <td>4.736879e+05</td>\n",
       "      <td>4.736537e+05</td>\n",
       "    </tr>\n",
       "    <tr>\n",
       "      <th>14</th>\n",
       "      <td>primary1</td>\n",
       "      <td>ARID1A</td>\n",
       "      <td>2</td>\n",
       "      <td>0</td>\n",
       "      <td>00011</td>\n",
       "      <td>0.9998584771330314|0.00014152286696846557</td>\n",
       "      <td>-2.439910e+05</td>\n",
       "      <td>4.880241e+05</td>\n",
       "      <td>4.879900e+05</td>\n",
       "    </tr>\n",
       "    <tr>\n",
       "      <th>15</th>\n",
       "      <td>primary1</td>\n",
       "      <td>ARID1A</td>\n",
       "      <td>3</td>\n",
       "      <td>0</td>\n",
       "      <td>11100</td>\n",
       "      <td>0.0|0.06102937858708647|0.938970621412914</td>\n",
       "      <td>-2.364242e+05</td>\n",
       "      <td>4.729117e+05</td>\n",
       "      <td>4.728605e+05</td>\n",
       "    </tr>\n",
       "    <tr>\n",
       "      <th>16</th>\n",
       "      <td>primary1</td>\n",
       "      <td>ARID1A</td>\n",
       "      <td>3</td>\n",
       "      <td>0</td>\n",
       "      <td>11010</td>\n",
       "      <td>0.0|0.20119273342136185|0.7988072665786378</td>\n",
       "      <td>-2.411901e+05</td>\n",
       "      <td>4.824435e+05</td>\n",
       "      <td>4.823922e+05</td>\n",
       "    </tr>\n",
       "    <tr>\n",
       "      <th>17</th>\n",
       "      <td>primary1</td>\n",
       "      <td>ARID1A</td>\n",
       "      <td>3</td>\n",
       "      <td>0</td>\n",
       "      <td>11001</td>\n",
       "      <td>0.0|0.3776176855400164|0.6223823144599845</td>\n",
       "      <td>-2.483051e+05</td>\n",
       "      <td>4.966734e+05</td>\n",
       "      <td>4.966221e+05</td>\n",
       "    </tr>\n",
       "    <tr>\n",
       "      <th>18</th>\n",
       "      <td>primary1</td>\n",
       "      <td>ARID1A</td>\n",
       "      <td>3</td>\n",
       "      <td>0</td>\n",
       "      <td>10110</td>\n",
       "      <td>0.0|0.9301154066979214|0.0698845933020789</td>\n",
       "      <td>-2.367186e+05</td>\n",
       "      <td>4.735004e+05</td>\n",
       "      <td>4.734492e+05</td>\n",
       "    </tr>\n",
       "    <tr>\n",
       "      <th>19</th>\n",
       "      <td>primary1</td>\n",
       "      <td>ARID1A</td>\n",
       "      <td>3</td>\n",
       "      <td>0</td>\n",
       "      <td>10101</td>\n",
       "      <td>0.0|0.9837146576692223|0.016285342330777063</td>\n",
       "      <td>-2.368228e+05</td>\n",
       "      <td>4.737090e+05</td>\n",
       "      <td>4.736577e+05</td>\n",
       "    </tr>\n",
       "    <tr>\n",
       "      <th>20</th>\n",
       "      <td>primary1</td>\n",
       "      <td>ARID1A</td>\n",
       "      <td>3</td>\n",
       "      <td>0</td>\n",
       "      <td>10011</td>\n",
       "      <td>0.0|0.9998344747464624|0.00016552525353862824</td>\n",
       "      <td>-2.439910e+05</td>\n",
       "      <td>4.880453e+05</td>\n",
       "      <td>4.879940e+05</td>\n",
       "    </tr>\n",
       "    <tr>\n",
       "      <th>21</th>\n",
       "      <td>primary1</td>\n",
       "      <td>ARID1A</td>\n",
       "      <td>3</td>\n",
       "      <td>0</td>\n",
       "      <td>01110</td>\n",
       "      <td>0.061879076943489306|0.8651220088300412|0.0729...</td>\n",
       "      <td>-2.362426e+05</td>\n",
       "      <td>4.725485e+05</td>\n",
       "      <td>4.724973e+05</td>\n",
       "    </tr>\n",
       "    <tr>\n",
       "      <th>22</th>\n",
       "      <td>primary1</td>\n",
       "      <td>ARID1A</td>\n",
       "      <td>3</td>\n",
       "      <td>0</td>\n",
       "      <td>01101</td>\n",
       "      <td>0.061138883613352825|0.92209178164333|0.016769...</td>\n",
       "      <td>-2.363534e+05</td>\n",
       "      <td>4.727701e+05</td>\n",
       "      <td>4.727189e+05</td>\n",
       "    </tr>\n",
       "    <tr>\n",
       "      <th>23</th>\n",
       "      <td>primary1</td>\n",
       "      <td>ARID1A</td>\n",
       "      <td>3</td>\n",
       "      <td>0</td>\n",
       "      <td>01011</td>\n",
       "      <td>0.20122537675138988|0.7985559556022084|0.00021...</td>\n",
       "      <td>-2.411902e+05</td>\n",
       "      <td>4.824436e+05</td>\n",
       "      <td>4.823923e+05</td>\n",
       "    </tr>\n",
       "    <tr>\n",
       "      <th>24</th>\n",
       "      <td>primary1</td>\n",
       "      <td>ARID1A</td>\n",
       "      <td>3</td>\n",
       "      <td>0</td>\n",
       "      <td>00111</td>\n",
       "      <td>0.9306859812802251|0.06864087871497003|0.00067...</td>\n",
       "      <td>-2.367167e+05</td>\n",
       "      <td>4.734966e+05</td>\n",
       "      <td>4.734453e+05</td>\n",
       "    </tr>\n",
       "    <tr>\n",
       "      <th>25</th>\n",
       "      <td>primary1</td>\n",
       "      <td>ARID1A</td>\n",
       "      <td>4</td>\n",
       "      <td>0</td>\n",
       "      <td>11110</td>\n",
       "      <td>0.0|0.061877579259449256|0.8651411515685404|0....</td>\n",
       "      <td>-2.362426e+05</td>\n",
       "      <td>4.725696e+05</td>\n",
       "      <td>4.725013e+05</td>\n",
       "    </tr>\n",
       "    <tr>\n",
       "      <th>26</th>\n",
       "      <td>primary1</td>\n",
       "      <td>ARID1A</td>\n",
       "      <td>4</td>\n",
       "      <td>0</td>\n",
       "      <td>11101</td>\n",
       "      <td>0.0|0.06114327895439284|0.922012464216042|0.01...</td>\n",
       "      <td>-2.363534e+05</td>\n",
       "      <td>4.727913e+05</td>\n",
       "      <td>4.727229e+05</td>\n",
       "    </tr>\n",
       "    <tr>\n",
       "      <th>27</th>\n",
       "      <td>primary1</td>\n",
       "      <td>ARID1A</td>\n",
       "      <td>4</td>\n",
       "      <td>0</td>\n",
       "      <td>11011</td>\n",
       "      <td>0.0|0.2012166104733115|0.798591516206259|0.000...</td>\n",
       "      <td>-2.411901e+05</td>\n",
       "      <td>4.824646e+05</td>\n",
       "      <td>4.823963e+05</td>\n",
       "    </tr>\n",
       "    <tr>\n",
       "      <th>28</th>\n",
       "      <td>primary1</td>\n",
       "      <td>ARID1A</td>\n",
       "      <td>4</td>\n",
       "      <td>0</td>\n",
       "      <td>10111</td>\n",
       "      <td>0.0|0.9304921604828701|0.0688453845647988|0.00...</td>\n",
       "      <td>-2.367167e+05</td>\n",
       "      <td>4.735177e+05</td>\n",
       "      <td>4.734494e+05</td>\n",
       "    </tr>\n",
       "    <tr>\n",
       "      <th>29</th>\n",
       "      <td>primary1</td>\n",
       "      <td>ARID1A</td>\n",
       "      <td>4</td>\n",
       "      <td>0</td>\n",
       "      <td>01111</td>\n",
       "      <td>0.06187436394054432|0.8654973686736828|0.07197...</td>\n",
       "      <td>-2.362408e+05</td>\n",
       "      <td>4.725659e+05</td>\n",
       "      <td>4.724975e+05</td>\n",
       "    </tr>\n",
       "    <tr>\n",
       "      <th>30</th>\n",
       "      <td>primary1</td>\n",
       "      <td>ARID1A</td>\n",
       "      <td>5</td>\n",
       "      <td>0</td>\n",
       "      <td>11111</td>\n",
       "      <td>0.0|0.06187101030613456|0.8655648167432678|0.0...</td>\n",
       "      <td>-2.362408e+05</td>\n",
       "      <td>4.725870e+05</td>\n",
       "      <td>4.725015e+05</td>\n",
       "    </tr>\n",
       "  </tbody>\n",
       "</table>\n",
       "</div>"
      ],
      "text/plain": [
       "      sample    gene  nclones  seed cn_string  \\\n",
       "0   primary1  ARID1A        1     0     10000   \n",
       "1   primary1  ARID1A        1     0     01000   \n",
       "2   primary1  ARID1A        1     0     00100   \n",
       "3   primary1  ARID1A        1     0     00010   \n",
       "4   primary1  ARID1A        1     0     00001   \n",
       "5   primary1  ARID1A        2     0     11000   \n",
       "6   primary1  ARID1A        2     0     10100   \n",
       "7   primary1  ARID1A        2     0     10010   \n",
       "8   primary1  ARID1A        2     0     10001   \n",
       "9   primary1  ARID1A        2     0     01100   \n",
       "10  primary1  ARID1A        2     0     01010   \n",
       "11  primary1  ARID1A        2     0     01001   \n",
       "12  primary1  ARID1A        2     0     00110   \n",
       "13  primary1  ARID1A        2     0     00101   \n",
       "14  primary1  ARID1A        2     0     00011   \n",
       "15  primary1  ARID1A        3     0     11100   \n",
       "16  primary1  ARID1A        3     0     11010   \n",
       "17  primary1  ARID1A        3     0     11001   \n",
       "18  primary1  ARID1A        3     0     10110   \n",
       "19  primary1  ARID1A        3     0     10101   \n",
       "20  primary1  ARID1A        3     0     10011   \n",
       "21  primary1  ARID1A        3     0     01110   \n",
       "22  primary1  ARID1A        3     0     01101   \n",
       "23  primary1  ARID1A        3     0     01011   \n",
       "24  primary1  ARID1A        3     0     00111   \n",
       "25  primary1  ARID1A        4     0     11110   \n",
       "26  primary1  ARID1A        4     0     11101   \n",
       "27  primary1  ARID1A        4     0     11011   \n",
       "28  primary1  ARID1A        4     0     10111   \n",
       "29  primary1  ARID1A        4     0     01111   \n",
       "30  primary1  ARID1A        5     0     11111   \n",
       "\n",
       "                                          prop_string      marginal  \\\n",
       "0                                                None          -inf   \n",
       "1                                                 1.0 -2.645752e+05   \n",
       "2                                                 1.0 -2.368917e+05   \n",
       "3                                                 1.0 -2.439909e+05   \n",
       "4                                                 1.0 -2.555804e+05   \n",
       "5                                             0.0|1.0 -2.645752e+05   \n",
       "6                                             0.0|1.0 -2.368917e+05   \n",
       "7                                             0.0|1.0 -2.439909e+05   \n",
       "8                                             0.0|1.0 -2.555804e+05   \n",
       "9             0.060942505164398676|0.9390574948356029 -2.364242e+05   \n",
       "10             0.20124382633765986|0.7987561736623381 -2.411901e+05   \n",
       "11              0.3776817934066842|0.6223182065933163 -2.483051e+05   \n",
       "12             0.9299973419643189|0.07000265803568227 -2.367186e+05   \n",
       "13            0.9836211692235491|0.016378830776450602 -2.368229e+05   \n",
       "14          0.9998584771330314|0.00014152286696846557 -2.439910e+05   \n",
       "15          0.0|0.06102937858708647|0.938970621412914 -2.364242e+05   \n",
       "16         0.0|0.20119273342136185|0.7988072665786378 -2.411901e+05   \n",
       "17          0.0|0.3776176855400164|0.6223823144599845 -2.483051e+05   \n",
       "18          0.0|0.9301154066979214|0.0698845933020789 -2.367186e+05   \n",
       "19        0.0|0.9837146576692223|0.016285342330777063 -2.368228e+05   \n",
       "20      0.0|0.9998344747464624|0.00016552525353862824 -2.439910e+05   \n",
       "21  0.061879076943489306|0.8651220088300412|0.0729... -2.362426e+05   \n",
       "22  0.061138883613352825|0.92209178164333|0.016769... -2.363534e+05   \n",
       "23  0.20122537675138988|0.7985559556022084|0.00021... -2.411902e+05   \n",
       "24  0.9306859812802251|0.06864087871497003|0.00067... -2.367167e+05   \n",
       "25  0.0|0.061877579259449256|0.8651411515685404|0.... -2.362426e+05   \n",
       "26  0.0|0.06114327895439284|0.922012464216042|0.01... -2.363534e+05   \n",
       "27  0.0|0.2012166104733115|0.798591516206259|0.000... -2.411901e+05   \n",
       "28  0.0|0.9304921604828701|0.0688453845647988|0.00... -2.367167e+05   \n",
       "29  0.06187436394054432|0.8654973686736828|0.07197... -2.362408e+05   \n",
       "30  0.0|0.06187101030613456|0.8655648167432678|0.0... -2.362408e+05   \n",
       "\n",
       "             BIC           AIC  \n",
       "0            inf           inf  \n",
       "1   5.291716e+05  5.291545e+05  \n",
       "2   4.738046e+05  4.737875e+05  \n",
       "3   4.880029e+05  4.879858e+05  \n",
       "4   5.111820e+05  5.111649e+05  \n",
       "5   5.291927e+05  5.291585e+05  \n",
       "6   4.738257e+05  4.737915e+05  \n",
       "7   4.880240e+05  4.879898e+05  \n",
       "8   5.112031e+05  5.111689e+05  \n",
       "9   4.728906e+05  4.728565e+05  \n",
       "10  4.824224e+05  4.823882e+05  \n",
       "11  4.966523e+05  4.966181e+05  \n",
       "12  4.734794e+05  4.734452e+05  \n",
       "13  4.736879e+05  4.736537e+05  \n",
       "14  4.880241e+05  4.879900e+05  \n",
       "15  4.729117e+05  4.728605e+05  \n",
       "16  4.824435e+05  4.823922e+05  \n",
       "17  4.966734e+05  4.966221e+05  \n",
       "18  4.735004e+05  4.734492e+05  \n",
       "19  4.737090e+05  4.736577e+05  \n",
       "20  4.880453e+05  4.879940e+05  \n",
       "21  4.725485e+05  4.724973e+05  \n",
       "22  4.727701e+05  4.727189e+05  \n",
       "23  4.824436e+05  4.823923e+05  \n",
       "24  4.734966e+05  4.734453e+05  \n",
       "25  4.725696e+05  4.725013e+05  \n",
       "26  4.727913e+05  4.727229e+05  \n",
       "27  4.824646e+05  4.823963e+05  \n",
       "28  4.735177e+05  4.734494e+05  \n",
       "29  4.725659e+05  4.724975e+05  \n",
       "30  4.725870e+05  4.725015e+05  "
      ]
     },
     "execution_count": 22,
     "metadata": {},
     "output_type": "execute_result"
    }
   ],
   "source": [
    "df_result"
   ]
  },
  {
   "cell_type": "code",
   "execution_count": 26,
   "id": "1278dc38-827d-4ea7-8a41-56d7e17d8e19",
   "metadata": {},
   "outputs": [
    {
     "data": {
      "text/plain": [
       "sample                                          primary1\n",
       "gene                                              ARID1A\n",
       "nclones                                                3\n",
       "seed                                                   0\n",
       "cn_string                                          11100\n",
       "prop_string    0.0|0.06102937858708647|0.938970621412914\n",
       "marginal                                   -236424.23061\n",
       "BIC                                        472911.734848\n",
       "AIC                                         472860.46122\n",
       "Name: 15, dtype: object"
      ]
     },
     "execution_count": 26,
     "metadata": {},
     "output_type": "execute_result"
    }
   ],
   "source": [
    "df_result.iloc[15]"
   ]
  },
  {
   "cell_type": "code",
   "execution_count": 25,
   "id": "fe312a0d-8204-4d95-bcac-4232c66d3305",
   "metadata": {},
   "outputs": [
    {
     "data": {
      "text/plain": [
       "sample                                                  primary1\n",
       "gene                                                      ARID1A\n",
       "nclones                                                        3\n",
       "seed                                                           0\n",
       "cn_string                                                  01110\n",
       "prop_string    0.061879076943489306|0.8651220088300412|0.0729...\n",
       "marginal                                          -236242.630905\n",
       "BIC                                                472548.535437\n",
       "AIC                                                 472497.26181\n",
       "Name: 21, dtype: object"
      ]
     },
     "execution_count": 25,
     "metadata": {},
     "output_type": "execute_result"
    }
   ],
   "source": [
    "df_result.loc[df_result['BIC'].idxmin()]"
   ]
  },
  {
   "cell_type": "markdown",
   "id": "778426c9-b71b-4039-9622-34270ee871a7",
   "metadata": {},
   "source": [
    "# Simulate panel-level read counts"
   ]
  },
  {
   "cell_type": "code",
   "execution_count": 309,
   "id": "b7bfab0a-7bd5-46df-8ca3-a93d17fe8c87",
   "metadata": {},
   "outputs": [],
   "source": [
    "tsv_file_dir = '/n/fs/ragr-data/users/palash/mskcc-analysis/panel2_normal_read_counts'\n",
    "normal_tsv_file = 'RA17-37_39_1_IGO_12881_1/results/tsv/RA17-37_39_1_IGO_12881_1.tube1.barcode.cell.distribution.tsv'\n",
    "\n",
    "df_tsv = pd.read_csv(f'{tsv_file_dir}/{normal_tsv_file}', sep='\\t').set_index('cell_barcode')"
   ]
  },
  {
   "cell_type": "code",
   "execution_count": 702,
   "id": "4f79728b-b658-4d34-9a5c-07dda05e0f28",
   "metadata": {},
   "outputs": [],
   "source": [
    "def simulate_mixed_NB_panel_level(cell_total_reads, ngene = 10, gene_namplicon = 10, namplicon = 500, nclones = 2, cn_max = 8, seed = 0):\n",
    "\n",
    "    np.random.seed(seed)\n",
    "    nobservations = len(cell_total_reads)\n",
    "    amplicon_factors = (np.random.dirichlet([1]*namplicon) / 2)[:ngene*gene_namplicon].reshape((ngene, gene_namplicon))\n",
    "\n",
    "    dispersion_parameters = np.random.randint(10, size=(ngene, gene_namplicon)) + 1\n",
    "    # dispersion_parameters = np.array([100]*gene_namplicon)\n",
    "    \n",
    "    mixture_proportions = np.random.dirichlet([1]*nclones)\n",
    "    cn_profiles = np.random.randint(cn_max - 1, size=(nclones, ngene)) + 1\n",
    "    \n",
    "    observed_read_counts = []\n",
    "    clone_ids = []\n",
    "    flag = 0\n",
    "    for total_reads in cell_total_reads:\n",
    "        # clone_idx = np.random.randint(nclones)\n",
    "        clone_idx = np.argmax(np.random.multinomial(1, mixture_proportions, size=1))\n",
    "\n",
    "        clone_ids.append(clone_idx)\n",
    "        curr_cn_profile = cn_profiles[clone_idx, :]\n",
    "\n",
    "        cell_observed_read_counts = []\n",
    "        \n",
    "        for gene_idx in range(ngene):\n",
    "            copy_number = curr_cn_profile[gene_idx]\n",
    "            \n",
    "            for amplicon_idx in range(gene_namplicon):\n",
    "                mu = copy_number*amplicon_factors[gene_idx, amplicon_idx]*total_reads\n",
    "                nb_p = 1 - mu / (dispersion_parameters[gene_idx, amplicon_idx] + mu)\n",
    "                read_count_draw = np.random.negative_binomial(dispersion_parameters[gene_idx, amplicon_idx], nb_p)\n",
    "                \n",
    "                cell_observed_read_counts.append(read_count_draw)\n",
    "        \n",
    "        #         if flag == 0:\n",
    "        #             print(gene_idx, amplicon_idx, amplicon_factors[gene_idx, amplicon_idx], dispersion_parameters[gene_idx, amplicon_idx] )\n",
    "        # flag = 1\n",
    "        observed_read_counts.append(cell_observed_read_counts)\n",
    "            \n",
    "    df_observed_read_counts = pd.DataFrame(observed_read_counts, index = cell_total_reads.index,\n",
    "                                           columns = [f'amplicon_{gene_idx}_{amplicon_idx}' for gene_idx in range(ngene) for amplicon_idx in range(gene_namplicon)])\n",
    "    \n",
    "    hidden_clone_ids = pd.Series(clone_ids, index = cell_total_reads.index)\n",
    "    df_simulated_amplicons = pd.DataFrame({'amplicon': [f'amplicon_{gene_idx}_{amplicon_idx}' for gene_idx in range(ngene) for amplicon_idx in range(gene_namplicon)],\n",
    "                                           'amplicon_factor': list(amplicon_factors.flatten()),\n",
    "                                           'phi': list(dispersion_parameters.flatten()),\n",
    "                                           'gene': [f'gene_{gene_idx}' for gene_idx in range(ngene) for amplicon_idx in range(gene_namplicon)]})\n",
    "    \n",
    "    return df_observed_read_counts, hidden_clone_ids, cn_profiles, mixture_proportions, df_simulated_amplicons.set_index('amplicon')"
   ]
  },
  {
   "cell_type": "code",
   "execution_count": 655,
   "id": "093652d6-3adb-4d17-8343-87750424fbd4",
   "metadata": {},
   "outputs": [],
   "source": [
    "cell_total_reads = df_tsv.sum(axis = 1)\n",
    "nclones = 3\n",
    "namplicon = 500\n",
    "gene_namplicon = 10\n",
    "ngene = 20\n",
    "\n",
    "df_observed_read_counts, hidden_clone_ids, gt_cn_profiles, gt_mixture_proportions, df_simulated_amplicons = simulate_mixed_NB_panel_level(cell_total_reads,\n",
    "                                                                                                                                 ngene,\n",
    "                                                                                                                                 gene_namplicon,\n",
    "                                                                                                                                 nclones = nclones, seed=0)\n",
    "\n",
    "genelist = [f'gene_{gene_idx}' for gene_idx in range(ngene)]"
   ]
  },
  {
   "cell_type": "code",
   "execution_count": 703,
   "id": "bb374a11-a48c-49bf-b45f-ebf80e8d7aa8",
   "metadata": {},
   "outputs": [],
   "source": [
    "cell_total_reads = df_tsv.sum(axis = 1)\n",
    "nclones = 4\n",
    "namplicon = 500\n",
    "gene_namplicon = 10\n",
    "ngene = 30\n",
    "\n",
    "df_observed_read_counts, hidden_clone_ids, gt_cn_profiles, gt_mixture_proportions, df_simulated_amplicons = simulate_mixed_NB_panel_level(cell_total_reads,\n",
    "                                                                                                                                 ngene,\n",
    "                                                                                                                                 gene_namplicon,\n",
    "                                                                                                                                 nclones = nclones, seed=0)\n",
    "\n",
    "genelist = [f'gene_{gene_idx}' for gene_idx in range(ngene)]"
   ]
  },
  {
   "cell_type": "code",
   "execution_count": 704,
   "id": "72c5a31c-a0c8-4009-a4c5-5071a9c435f7",
   "metadata": {},
   "outputs": [
    {
     "data": {
      "text/html": [
       "<div>\n",
       "<style scoped>\n",
       "    .dataframe tbody tr th:only-of-type {\n",
       "        vertical-align: middle;\n",
       "    }\n",
       "\n",
       "    .dataframe tbody tr th {\n",
       "        vertical-align: top;\n",
       "    }\n",
       "\n",
       "    .dataframe thead th {\n",
       "        text-align: right;\n",
       "    }\n",
       "</style>\n",
       "<table border=\"1\" class=\"dataframe\">\n",
       "  <thead>\n",
       "    <tr style=\"text-align: right;\">\n",
       "      <th></th>\n",
       "      <th>amplicon_0_0</th>\n",
       "      <th>amplicon_0_1</th>\n",
       "      <th>amplicon_0_2</th>\n",
       "      <th>amplicon_0_3</th>\n",
       "      <th>amplicon_0_4</th>\n",
       "      <th>amplicon_0_5</th>\n",
       "      <th>amplicon_0_6</th>\n",
       "      <th>amplicon_0_7</th>\n",
       "      <th>amplicon_0_8</th>\n",
       "      <th>amplicon_0_9</th>\n",
       "      <th>...</th>\n",
       "      <th>amplicon_29_0</th>\n",
       "      <th>amplicon_29_1</th>\n",
       "      <th>amplicon_29_2</th>\n",
       "      <th>amplicon_29_3</th>\n",
       "      <th>amplicon_29_4</th>\n",
       "      <th>amplicon_29_5</th>\n",
       "      <th>amplicon_29_6</th>\n",
       "      <th>amplicon_29_7</th>\n",
       "      <th>amplicon_29_8</th>\n",
       "      <th>amplicon_29_9</th>\n",
       "    </tr>\n",
       "    <tr>\n",
       "      <th>cell_barcode</th>\n",
       "      <th></th>\n",
       "      <th></th>\n",
       "      <th></th>\n",
       "      <th></th>\n",
       "      <th></th>\n",
       "      <th></th>\n",
       "      <th></th>\n",
       "      <th></th>\n",
       "      <th></th>\n",
       "      <th></th>\n",
       "      <th></th>\n",
       "      <th></th>\n",
       "      <th></th>\n",
       "      <th></th>\n",
       "      <th></th>\n",
       "      <th></th>\n",
       "      <th></th>\n",
       "      <th></th>\n",
       "      <th></th>\n",
       "      <th></th>\n",
       "      <th></th>\n",
       "    </tr>\n",
       "  </thead>\n",
       "  <tbody>\n",
       "    <tr>\n",
       "      <th>ACCGTCCTATCCTTCAAC-1</th>\n",
       "      <td>725</td>\n",
       "      <td>1626</td>\n",
       "      <td>595</td>\n",
       "      <td>1195</td>\n",
       "      <td>470</td>\n",
       "      <td>1668</td>\n",
       "      <td>36</td>\n",
       "      <td>5242</td>\n",
       "      <td>4142</td>\n",
       "      <td>382</td>\n",
       "      <td>...</td>\n",
       "      <td>431</td>\n",
       "      <td>154</td>\n",
       "      <td>469</td>\n",
       "      <td>298</td>\n",
       "      <td>134</td>\n",
       "      <td>95</td>\n",
       "      <td>279</td>\n",
       "      <td>1698</td>\n",
       "      <td>1049</td>\n",
       "      <td>2005</td>\n",
       "    </tr>\n",
       "    <tr>\n",
       "      <th>AGCAAGTCCAAGAGAGAG-1</th>\n",
       "      <td>186</td>\n",
       "      <td>775</td>\n",
       "      <td>277</td>\n",
       "      <td>399</td>\n",
       "      <td>434</td>\n",
       "      <td>380</td>\n",
       "      <td>64</td>\n",
       "      <td>338</td>\n",
       "      <td>606</td>\n",
       "      <td>473</td>\n",
       "      <td>...</td>\n",
       "      <td>430</td>\n",
       "      <td>35</td>\n",
       "      <td>2770</td>\n",
       "      <td>68</td>\n",
       "      <td>633</td>\n",
       "      <td>98</td>\n",
       "      <td>24</td>\n",
       "      <td>1320</td>\n",
       "      <td>405</td>\n",
       "      <td>1766</td>\n",
       "    </tr>\n",
       "    <tr>\n",
       "      <th>CGCACTCTTTGACCTCCT-1</th>\n",
       "      <td>391</td>\n",
       "      <td>2245</td>\n",
       "      <td>1189</td>\n",
       "      <td>1190</td>\n",
       "      <td>590</td>\n",
       "      <td>2061</td>\n",
       "      <td>1327</td>\n",
       "      <td>1887</td>\n",
       "      <td>4461</td>\n",
       "      <td>617</td>\n",
       "      <td>...</td>\n",
       "      <td>282</td>\n",
       "      <td>126</td>\n",
       "      <td>3500</td>\n",
       "      <td>46</td>\n",
       "      <td>755</td>\n",
       "      <td>404</td>\n",
       "      <td>20</td>\n",
       "      <td>891</td>\n",
       "      <td>655</td>\n",
       "      <td>4068</td>\n",
       "    </tr>\n",
       "    <tr>\n",
       "      <th>TCGTAGGAATCGACGTTG-1</th>\n",
       "      <td>947</td>\n",
       "      <td>941</td>\n",
       "      <td>1386</td>\n",
       "      <td>984</td>\n",
       "      <td>444</td>\n",
       "      <td>975</td>\n",
       "      <td>1011</td>\n",
       "      <td>4167</td>\n",
       "      <td>1900</td>\n",
       "      <td>215</td>\n",
       "      <td>...</td>\n",
       "      <td>333</td>\n",
       "      <td>114</td>\n",
       "      <td>2134</td>\n",
       "      <td>16</td>\n",
       "      <td>829</td>\n",
       "      <td>73</td>\n",
       "      <td>101</td>\n",
       "      <td>345</td>\n",
       "      <td>2347</td>\n",
       "      <td>3060</td>\n",
       "    </tr>\n",
       "    <tr>\n",
       "      <th>TTCCAGGAGCAATACCAC-1</th>\n",
       "      <td>788</td>\n",
       "      <td>862</td>\n",
       "      <td>613</td>\n",
       "      <td>370</td>\n",
       "      <td>523</td>\n",
       "      <td>1235</td>\n",
       "      <td>220</td>\n",
       "      <td>2192</td>\n",
       "      <td>5868</td>\n",
       "      <td>961</td>\n",
       "      <td>...</td>\n",
       "      <td>277</td>\n",
       "      <td>94</td>\n",
       "      <td>993</td>\n",
       "      <td>72</td>\n",
       "      <td>575</td>\n",
       "      <td>167</td>\n",
       "      <td>81</td>\n",
       "      <td>2225</td>\n",
       "      <td>3688</td>\n",
       "      <td>3539</td>\n",
       "    </tr>\n",
       "    <tr>\n",
       "      <th>...</th>\n",
       "      <td>...</td>\n",
       "      <td>...</td>\n",
       "      <td>...</td>\n",
       "      <td>...</td>\n",
       "      <td>...</td>\n",
       "      <td>...</td>\n",
       "      <td>...</td>\n",
       "      <td>...</td>\n",
       "      <td>...</td>\n",
       "      <td>...</td>\n",
       "      <td>...</td>\n",
       "      <td>...</td>\n",
       "      <td>...</td>\n",
       "      <td>...</td>\n",
       "      <td>...</td>\n",
       "      <td>...</td>\n",
       "      <td>...</td>\n",
       "      <td>...</td>\n",
       "      <td>...</td>\n",
       "      <td>...</td>\n",
       "      <td>...</td>\n",
       "    </tr>\n",
       "    <tr>\n",
       "      <th>CAGCACGTGTGGTGCCTG-1</th>\n",
       "      <td>47</td>\n",
       "      <td>55</td>\n",
       "      <td>174</td>\n",
       "      <td>41</td>\n",
       "      <td>36</td>\n",
       "      <td>75</td>\n",
       "      <td>2</td>\n",
       "      <td>130</td>\n",
       "      <td>175</td>\n",
       "      <td>20</td>\n",
       "      <td>...</td>\n",
       "      <td>14</td>\n",
       "      <td>3</td>\n",
       "      <td>31</td>\n",
       "      <td>2</td>\n",
       "      <td>44</td>\n",
       "      <td>18</td>\n",
       "      <td>10</td>\n",
       "      <td>116</td>\n",
       "      <td>166</td>\n",
       "      <td>133</td>\n",
       "    </tr>\n",
       "    <tr>\n",
       "      <th>GACCGGTAGTCCTTCGTA-1</th>\n",
       "      <td>16</td>\n",
       "      <td>20</td>\n",
       "      <td>11</td>\n",
       "      <td>29</td>\n",
       "      <td>24</td>\n",
       "      <td>38</td>\n",
       "      <td>0</td>\n",
       "      <td>82</td>\n",
       "      <td>195</td>\n",
       "      <td>15</td>\n",
       "      <td>...</td>\n",
       "      <td>11</td>\n",
       "      <td>4</td>\n",
       "      <td>32</td>\n",
       "      <td>9</td>\n",
       "      <td>16</td>\n",
       "      <td>11</td>\n",
       "      <td>0</td>\n",
       "      <td>55</td>\n",
       "      <td>43</td>\n",
       "      <td>45</td>\n",
       "    </tr>\n",
       "    <tr>\n",
       "      <th>CCGGATTGCGTGCGTTCC-1</th>\n",
       "      <td>29</td>\n",
       "      <td>24</td>\n",
       "      <td>35</td>\n",
       "      <td>39</td>\n",
       "      <td>11</td>\n",
       "      <td>22</td>\n",
       "      <td>3</td>\n",
       "      <td>31</td>\n",
       "      <td>39</td>\n",
       "      <td>21</td>\n",
       "      <td>...</td>\n",
       "      <td>12</td>\n",
       "      <td>2</td>\n",
       "      <td>42</td>\n",
       "      <td>2</td>\n",
       "      <td>13</td>\n",
       "      <td>5</td>\n",
       "      <td>0</td>\n",
       "      <td>2</td>\n",
       "      <td>91</td>\n",
       "      <td>74</td>\n",
       "    </tr>\n",
       "    <tr>\n",
       "      <th>AGATCGAGTTCTACAGTT-1</th>\n",
       "      <td>38</td>\n",
       "      <td>50</td>\n",
       "      <td>39</td>\n",
       "      <td>8</td>\n",
       "      <td>6</td>\n",
       "      <td>41</td>\n",
       "      <td>44</td>\n",
       "      <td>64</td>\n",
       "      <td>131</td>\n",
       "      <td>19</td>\n",
       "      <td>...</td>\n",
       "      <td>11</td>\n",
       "      <td>4</td>\n",
       "      <td>32</td>\n",
       "      <td>6</td>\n",
       "      <td>8</td>\n",
       "      <td>10</td>\n",
       "      <td>1</td>\n",
       "      <td>38</td>\n",
       "      <td>107</td>\n",
       "      <td>58</td>\n",
       "    </tr>\n",
       "    <tr>\n",
       "      <th>CAGTGAGGAGACCGTAGT-1</th>\n",
       "      <td>22</td>\n",
       "      <td>39</td>\n",
       "      <td>83</td>\n",
       "      <td>3</td>\n",
       "      <td>10</td>\n",
       "      <td>29</td>\n",
       "      <td>45</td>\n",
       "      <td>144</td>\n",
       "      <td>163</td>\n",
       "      <td>26</td>\n",
       "      <td>...</td>\n",
       "      <td>18</td>\n",
       "      <td>1</td>\n",
       "      <td>63</td>\n",
       "      <td>9</td>\n",
       "      <td>58</td>\n",
       "      <td>1</td>\n",
       "      <td>5</td>\n",
       "      <td>49</td>\n",
       "      <td>66</td>\n",
       "      <td>76</td>\n",
       "    </tr>\n",
       "  </tbody>\n",
       "</table>\n",
       "<p>4286 rows × 300 columns</p>\n",
       "</div>"
      ],
      "text/plain": [
       "                      amplicon_0_0  amplicon_0_1  amplicon_0_2  amplicon_0_3  \\\n",
       "cell_barcode                                                                   \n",
       "ACCGTCCTATCCTTCAAC-1           725          1626           595          1195   \n",
       "AGCAAGTCCAAGAGAGAG-1           186           775           277           399   \n",
       "CGCACTCTTTGACCTCCT-1           391          2245          1189          1190   \n",
       "TCGTAGGAATCGACGTTG-1           947           941          1386           984   \n",
       "TTCCAGGAGCAATACCAC-1           788           862           613           370   \n",
       "...                            ...           ...           ...           ...   \n",
       "CAGCACGTGTGGTGCCTG-1            47            55           174            41   \n",
       "GACCGGTAGTCCTTCGTA-1            16            20            11            29   \n",
       "CCGGATTGCGTGCGTTCC-1            29            24            35            39   \n",
       "AGATCGAGTTCTACAGTT-1            38            50            39             8   \n",
       "CAGTGAGGAGACCGTAGT-1            22            39            83             3   \n",
       "\n",
       "                      amplicon_0_4  amplicon_0_5  amplicon_0_6  amplicon_0_7  \\\n",
       "cell_barcode                                                                   \n",
       "ACCGTCCTATCCTTCAAC-1           470          1668            36          5242   \n",
       "AGCAAGTCCAAGAGAGAG-1           434           380            64           338   \n",
       "CGCACTCTTTGACCTCCT-1           590          2061          1327          1887   \n",
       "TCGTAGGAATCGACGTTG-1           444           975          1011          4167   \n",
       "TTCCAGGAGCAATACCAC-1           523          1235           220          2192   \n",
       "...                            ...           ...           ...           ...   \n",
       "CAGCACGTGTGGTGCCTG-1            36            75             2           130   \n",
       "GACCGGTAGTCCTTCGTA-1            24            38             0            82   \n",
       "CCGGATTGCGTGCGTTCC-1            11            22             3            31   \n",
       "AGATCGAGTTCTACAGTT-1             6            41            44            64   \n",
       "CAGTGAGGAGACCGTAGT-1            10            29            45           144   \n",
       "\n",
       "                      amplicon_0_8  amplicon_0_9  ...  amplicon_29_0  \\\n",
       "cell_barcode                                      ...                  \n",
       "ACCGTCCTATCCTTCAAC-1          4142           382  ...            431   \n",
       "AGCAAGTCCAAGAGAGAG-1           606           473  ...            430   \n",
       "CGCACTCTTTGACCTCCT-1          4461           617  ...            282   \n",
       "TCGTAGGAATCGACGTTG-1          1900           215  ...            333   \n",
       "TTCCAGGAGCAATACCAC-1          5868           961  ...            277   \n",
       "...                            ...           ...  ...            ...   \n",
       "CAGCACGTGTGGTGCCTG-1           175            20  ...             14   \n",
       "GACCGGTAGTCCTTCGTA-1           195            15  ...             11   \n",
       "CCGGATTGCGTGCGTTCC-1            39            21  ...             12   \n",
       "AGATCGAGTTCTACAGTT-1           131            19  ...             11   \n",
       "CAGTGAGGAGACCGTAGT-1           163            26  ...             18   \n",
       "\n",
       "                      amplicon_29_1  amplicon_29_2  amplicon_29_3  \\\n",
       "cell_barcode                                                        \n",
       "ACCGTCCTATCCTTCAAC-1            154            469            298   \n",
       "AGCAAGTCCAAGAGAGAG-1             35           2770             68   \n",
       "CGCACTCTTTGACCTCCT-1            126           3500             46   \n",
       "TCGTAGGAATCGACGTTG-1            114           2134             16   \n",
       "TTCCAGGAGCAATACCAC-1             94            993             72   \n",
       "...                             ...            ...            ...   \n",
       "CAGCACGTGTGGTGCCTG-1              3             31              2   \n",
       "GACCGGTAGTCCTTCGTA-1              4             32              9   \n",
       "CCGGATTGCGTGCGTTCC-1              2             42              2   \n",
       "AGATCGAGTTCTACAGTT-1              4             32              6   \n",
       "CAGTGAGGAGACCGTAGT-1              1             63              9   \n",
       "\n",
       "                      amplicon_29_4  amplicon_29_5  amplicon_29_6  \\\n",
       "cell_barcode                                                        \n",
       "ACCGTCCTATCCTTCAAC-1            134             95            279   \n",
       "AGCAAGTCCAAGAGAGAG-1            633             98             24   \n",
       "CGCACTCTTTGACCTCCT-1            755            404             20   \n",
       "TCGTAGGAATCGACGTTG-1            829             73            101   \n",
       "TTCCAGGAGCAATACCAC-1            575            167             81   \n",
       "...                             ...            ...            ...   \n",
       "CAGCACGTGTGGTGCCTG-1             44             18             10   \n",
       "GACCGGTAGTCCTTCGTA-1             16             11              0   \n",
       "CCGGATTGCGTGCGTTCC-1             13              5              0   \n",
       "AGATCGAGTTCTACAGTT-1              8             10              1   \n",
       "CAGTGAGGAGACCGTAGT-1             58              1              5   \n",
       "\n",
       "                      amplicon_29_7  amplicon_29_8  amplicon_29_9  \n",
       "cell_barcode                                                       \n",
       "ACCGTCCTATCCTTCAAC-1           1698           1049           2005  \n",
       "AGCAAGTCCAAGAGAGAG-1           1320            405           1766  \n",
       "CGCACTCTTTGACCTCCT-1            891            655           4068  \n",
       "TCGTAGGAATCGACGTTG-1            345           2347           3060  \n",
       "TTCCAGGAGCAATACCAC-1           2225           3688           3539  \n",
       "...                             ...            ...            ...  \n",
       "CAGCACGTGTGGTGCCTG-1            116            166            133  \n",
       "GACCGGTAGTCCTTCGTA-1             55             43             45  \n",
       "CCGGATTGCGTGCGTTCC-1              2             91             74  \n",
       "AGATCGAGTTCTACAGTT-1             38            107             58  \n",
       "CAGTGAGGAGACCGTAGT-1             49             66             76  \n",
       "\n",
       "[4286 rows x 300 columns]"
      ]
     },
     "execution_count": 704,
     "metadata": {},
     "output_type": "execute_result"
    }
   ],
   "source": [
    "df_observed_read_counts"
   ]
  },
  {
   "cell_type": "code",
   "execution_count": 705,
   "id": "b6ec7ab0-c779-48dc-820f-f92ee10f29b2",
   "metadata": {},
   "outputs": [
    {
     "data": {
      "text/plain": [
       "array([[5, 7, 1, 6, 4, 4, 2, 5, 6, 3, 5, 2, 1, 7, 6, 7, 4, 1, 1, 2, 3, 1,\n",
       "        4, 4, 3, 3, 2, 7, 5, 4],\n",
       "       [1, 2, 3, 1, 5, 6, 3, 7, 7, 5, 5, 4, 6, 4, 5, 6, 4, 6, 7, 6, 7, 3,\n",
       "        5, 5, 2, 2, 2, 2, 1, 2],\n",
       "       [3, 1, 3, 2, 5, 7, 1, 7, 5, 7, 3, 3, 1, 7, 7, 6, 3, 6, 1, 3, 5, 4,\n",
       "        2, 2, 4, 4, 1, 3, 5, 2],\n",
       "       [4, 6, 7, 6, 7, 4, 7, 4, 3, 6, 5, 4, 5, 2, 1, 1, 2, 1, 4, 6, 7, 3,\n",
       "        1, 2, 3, 2, 4, 2, 6, 4]])"
      ]
     },
     "execution_count": 705,
     "metadata": {},
     "output_type": "execute_result"
    }
   ],
   "source": [
    "gt_cn_profiles"
   ]
  },
  {
   "cell_type": "code",
   "execution_count": 706,
   "id": "51e9b953-c904-4187-ae93-eff13df4d0ae",
   "metadata": {},
   "outputs": [
    {
     "data": {
      "text/plain": [
       "array([0.12304009, 0.27882696, 0.46594053, 0.13219242])"
      ]
     },
     "execution_count": 706,
     "metadata": {},
     "output_type": "execute_result"
    }
   ],
   "source": [
    "gt_mixture_proportions"
   ]
  },
  {
   "cell_type": "code",
   "execution_count": 707,
   "id": "6b2ce62e-699b-40d9-ae0e-33d769308daf",
   "metadata": {},
   "outputs": [
    {
     "data": {
      "text/html": [
       "<div>\n",
       "<style scoped>\n",
       "    .dataframe tbody tr th:only-of-type {\n",
       "        vertical-align: middle;\n",
       "    }\n",
       "\n",
       "    .dataframe tbody tr th {\n",
       "        vertical-align: top;\n",
       "    }\n",
       "\n",
       "    .dataframe thead th {\n",
       "        text-align: right;\n",
       "    }\n",
       "</style>\n",
       "<table border=\"1\" class=\"dataframe\">\n",
       "  <thead>\n",
       "    <tr style=\"text-align: right;\">\n",
       "      <th></th>\n",
       "      <th>amplicon_factor</th>\n",
       "      <th>phi</th>\n",
       "      <th>gene</th>\n",
       "    </tr>\n",
       "    <tr>\n",
       "      <th>amplicon</th>\n",
       "      <th></th>\n",
       "      <th></th>\n",
       "      <th></th>\n",
       "    </tr>\n",
       "  </thead>\n",
       "  <tbody>\n",
       "    <tr>\n",
       "      <th>amplicon_0_0</th>\n",
       "      <td>0.000789</td>\n",
       "      <td>8</td>\n",
       "      <td>gene_0</td>\n",
       "    </tr>\n",
       "    <tr>\n",
       "      <th>amplicon_0_1</th>\n",
       "      <td>0.001245</td>\n",
       "      <td>9</td>\n",
       "      <td>gene_0</td>\n",
       "    </tr>\n",
       "    <tr>\n",
       "      <th>amplicon_0_2</th>\n",
       "      <td>0.000915</td>\n",
       "      <td>3</td>\n",
       "      <td>gene_0</td>\n",
       "    </tr>\n",
       "    <tr>\n",
       "      <th>amplicon_0_3</th>\n",
       "      <td>0.000780</td>\n",
       "      <td>4</td>\n",
       "      <td>gene_0</td>\n",
       "    </tr>\n",
       "    <tr>\n",
       "      <th>amplicon_0_4</th>\n",
       "      <td>0.000546</td>\n",
       "      <td>4</td>\n",
       "      <td>gene_0</td>\n",
       "    </tr>\n",
       "    <tr>\n",
       "      <th>...</th>\n",
       "      <td>...</td>\n",
       "      <td>...</td>\n",
       "      <td>...</td>\n",
       "    </tr>\n",
       "    <tr>\n",
       "      <th>amplicon_29_5</th>\n",
       "      <td>0.000252</td>\n",
       "      <td>2</td>\n",
       "      <td>gene_29</td>\n",
       "    </tr>\n",
       "    <tr>\n",
       "      <th>amplicon_29_6</th>\n",
       "      <td>0.000102</td>\n",
       "      <td>1</td>\n",
       "      <td>gene_29</td>\n",
       "    </tr>\n",
       "    <tr>\n",
       "      <th>amplicon_29_7</th>\n",
       "      <td>0.001965</td>\n",
       "      <td>2</td>\n",
       "      <td>gene_29</td>\n",
       "    </tr>\n",
       "    <tr>\n",
       "      <th>amplicon_29_8</th>\n",
       "      <td>0.003578</td>\n",
       "      <td>2</td>\n",
       "      <td>gene_29</td>\n",
       "    </tr>\n",
       "    <tr>\n",
       "      <th>amplicon_29_9</th>\n",
       "      <td>0.003212</td>\n",
       "      <td>7</td>\n",
       "      <td>gene_29</td>\n",
       "    </tr>\n",
       "  </tbody>\n",
       "</table>\n",
       "<p>300 rows × 3 columns</p>\n",
       "</div>"
      ],
      "text/plain": [
       "               amplicon_factor  phi     gene\n",
       "amplicon                                    \n",
       "amplicon_0_0          0.000789    8   gene_0\n",
       "amplicon_0_1          0.001245    9   gene_0\n",
       "amplicon_0_2          0.000915    3   gene_0\n",
       "amplicon_0_3          0.000780    4   gene_0\n",
       "amplicon_0_4          0.000546    4   gene_0\n",
       "...                        ...  ...      ...\n",
       "amplicon_29_5         0.000252    2  gene_29\n",
       "amplicon_29_6         0.000102    1  gene_29\n",
       "amplicon_29_7         0.001965    2  gene_29\n",
       "amplicon_29_8         0.003578    2  gene_29\n",
       "amplicon_29_9         0.003212    7  gene_29\n",
       "\n",
       "[300 rows x 3 columns]"
      ]
     },
     "execution_count": 707,
     "metadata": {},
     "output_type": "execute_result"
    }
   ],
   "source": [
    "df_simulated_amplicons"
   ]
  },
  {
   "cell_type": "markdown",
   "id": "ec4772d2-bd29-4fb3-8e23-696a0424900c",
   "metadata": {},
   "source": [
    "# Panel level copy number calling"
   ]
  },
  {
   "cell_type": "code",
   "execution_count": 708,
   "id": "abbe0001-4dfe-49cc-b753-c6d04d9a5b80",
   "metadata": {},
   "outputs": [],
   "source": [
    "def get_responsibilities_and_marginal_panel_level(df_observed_read_counts, df_amplicons, cell_total_reads, genelist, mixing_props, cn_profiles):    \n",
    "    ncells = len(df_observed_read_counts)\n",
    "    nclones = cn_profiles.shape[0]\n",
    "    ngenes = cn_profiles.shape[1]\n",
    "    namplicons = len(df_amplicons)\n",
    "    \n",
    "    expanded_cn_profile = np.zeros((nclones, namplicons))\n",
    "    for amplicon_idx, amplicon in enumerate(df_observed_read_counts):\n",
    "        curr_gene = df_amplicons.loc[amplicon]['gene']\n",
    "        gene_idx = genelist.index(curr_gene)\n",
    "        expanded_cn_profile[:, amplicon_idx] = cn_profiles[:, gene_idx]    \n",
    "    \n",
    "    logcoeffs = np.zeros((ncells, nclones))\n",
    "    # coeffs = np.zeros((ncells, nclones))\n",
    "    \n",
    "    for clone_idx in range(nclones):\n",
    "        mu = expanded_cn_profile[clone_idx, :] * cell_total_reads.values[:, np.newaxis] * df_amplicons['amplicon_factor'].values[np.newaxis, :]\n",
    "        phi_matrix = np.array([1]*ncells)[:, np.newaxis] * df_amplicons['phi'].values[np.newaxis, :]\n",
    "\n",
    "        prob = phi_matrix / (phi_matrix + mu)\n",
    "        coeff_ij = nbinom.pmf(df_observed_read_counts.values, phi_matrix, prob)\n",
    "        \n",
    "        logcoeffs[:, clone_idx] =  np.log(mixing_props[clone_idx]) + np.sum(np.log(coeff_ij), axis=1)        \n",
    "        # coeffs[:, clone_idx] =  mixing_props[clone_idx] * np.prod(coeff_ij, axis=1)    \n",
    "        \n",
    "    marginal = np.sum(logsumexp(logcoeffs, axis=1))    \n",
    "    responsibilities = np.exp(logcoeffs - logsumexp(logcoeffs, axis=1)[:, np.newaxis])\n",
    "    \n",
    "    return responsibilities, marginal"
   ]
  },
  {
   "cell_type": "code",
   "execution_count": 709,
   "id": "e7d2c680-f0be-42b0-b6e4-fb7b7182741d",
   "metadata": {},
   "outputs": [],
   "source": [
    "responsibilities, new_marginal = get_responsibilities_and_marginal_panel_level(df_observed_read_counts, df_simulated_amplicons, cell_total_reads, genelist,\n",
    "                                                                               gt_mixture_proportions, gt_cn_profiles)"
   ]
  },
  {
   "cell_type": "code",
   "execution_count": 710,
   "id": "c0d73d3a-2a90-441d-a01e-0a12768e4dbe",
   "metadata": {},
   "outputs": [
    {
     "data": {
      "text/plain": [
       "-6000510.503703635"
      ]
     },
     "execution_count": 710,
     "metadata": {},
     "output_type": "execute_result"
    }
   ],
   "source": [
    "new_marginal"
   ]
  },
  {
   "cell_type": "code",
   "execution_count": 711,
   "id": "72df2db2-e76c-4fba-ae96-e4bd90be67d4",
   "metadata": {},
   "outputs": [
    {
     "data": {
      "text/plain": [
       "(4286, 4)"
      ]
     },
     "execution_count": 711,
     "metadata": {},
     "output_type": "execute_result"
    }
   ],
   "source": [
    "responsibilities.shape"
   ]
  },
  {
   "cell_type": "code",
   "execution_count": 712,
   "id": "611fb3fe-df6e-48ac-b73f-8cc67e627f70",
   "metadata": {},
   "outputs": [
    {
     "data": {
      "text/plain": [
       "array([[4.94243589e-220, 4.80168163e-207, 1.00000000e+000,\n",
       "        0.00000000e+000],\n",
       "       [0.00000000e+000, 1.00000000e+000, 5.77903343e-288,\n",
       "        0.00000000e+000],\n",
       "       [2.34483842e-230, 3.44043001e-173, 1.00000000e+000,\n",
       "        0.00000000e+000],\n",
       "       ...,\n",
       "       [2.05924598e-128, 6.86260573e-126, 1.00000000e+000,\n",
       "        2.23759147e-280],\n",
       "       [1.10533174e-133, 6.70534210e-142, 1.00000000e+000,\n",
       "        3.03461100e-284],\n",
       "       [1.00000000e+000, 3.23386714e-246, 3.69730184e-135,\n",
       "        8.45215169e-239]])"
      ]
     },
     "execution_count": 712,
     "metadata": {},
     "output_type": "execute_result"
    }
   ],
   "source": [
    "responsibilities"
   ]
  },
  {
   "cell_type": "code",
   "execution_count": 713,
   "id": "a26fc29d-37c0-41ad-a53e-85edd6e5be4e",
   "metadata": {},
   "outputs": [],
   "source": [
    "def get_optimal_cn_profile(df_observed_read_counts, df_amplicons, cell_total_reads, genelist, responsibilities, maxcn = 8):\n",
    "    ncells = len(df_observed_read_counts)\n",
    "    nclones = responsibilities.shape[1]\n",
    "    ngenes = len(genelist)\n",
    "    namplicons = len(df_amplicons)\n",
    "\n",
    "    cn_profile = np.zeros((nclones, ngenes))\n",
    "    \n",
    "    for gene_idx, gene in enumerate(genelist):\n",
    "        curr_amplicons = list(df_amplicons[df_amplicons['gene'] == gene].index)\n",
    "        df_gene_observed_read_counts = df_observed_read_counts[curr_amplicons]\n",
    "        df_gene_amplicons = df_amplicons[df_amplicons['gene'] == gene]\n",
    "        \n",
    "        for clone_idx in range(nclones):\n",
    "            max_coeff = -np.inf\n",
    "            for cn in range(maxcn + 1):\n",
    "                curr_coeff = evaluate_coeff(responsibilities[:, clone_idx],\n",
    "                                            df_gene_observed_read_counts,\n",
    "                                            df_gene_amplicons,\n",
    "                                            cell_total_reads, cn)\n",
    "                \n",
    "                # print(curr_coeff, gene_idx, clone_idx, cn)\n",
    "                if curr_coeff > max_coeff:\n",
    "                    max_coeff = curr_coeff\n",
    "                    cn_profile[clone_idx, gene_idx] = cn\n",
    "            \n",
    "            # print('updated', gene_idx, clone_idx, cn_profile[clone_idx, gene_idx])\n",
    "\n",
    "    return cn_profile"
   ]
  },
  {
   "cell_type": "code",
   "execution_count": 714,
   "id": "442700aa-90ad-46ce-a926-4a7a35e71d07",
   "metadata": {},
   "outputs": [],
   "source": [
    "def evaluate_coeff(responsibilities, df_gene_observed_read_counts, df_gene_amplicons, cell_total_reads, cn):\n",
    "    ll = 0\n",
    "    ncells = len(df_gene_observed_read_counts)\n",
    "    \n",
    "    mu = cn * cell_total_reads.values[:, np.newaxis] * df_gene_amplicons['amplicon_factor'].values[np.newaxis, :]\n",
    "    phi_matrix = np.array([1]*ncells)[:, np.newaxis] * df_gene_amplicons['phi'].values[np.newaxis, :]\n",
    "    prob = phi_matrix / (phi_matrix + mu)\n",
    "    \n",
    "    psi = nbinom.logpmf(df_gene_observed_read_counts.values, phi_matrix, prob)\n",
    "    \n",
    "    # print(psi.shape, responsibilities.shape, np.sum(psi, axis=1).shape, sum(responsibilities * np.sum(psi, axis=1)).shape)\n",
    "    \n",
    "    # print(np.sum(np.isnan(psi)), np.sum(np.isnan(responsibilities)))\n",
    "    return sum(responsibilities * np.sum(psi, axis=1))"
   ]
  },
  {
   "cell_type": "code",
   "execution_count": 715,
   "id": "a265d890-4489-41c0-8fe7-9ce68442b43c",
   "metadata": {},
   "outputs": [],
   "source": [
    "def mixed_NB_EM_fixed_dispersion_panel_level(df_observed_read_counts, df_amplicons, cell_total_reads, genelist, nclones=1, cn_max=8, maxiter=20, seed=0, tol = 1e-6):\n",
    "    \n",
    "    df_amplicons = df_amplicons.loc[df_observed_read_counts.columns]\n",
    "    \n",
    "    \n",
    "    np.random.seed(seed)\n",
    "    ncells = len(df_observed_read_counts)\n",
    "    ngenes = len(genelist)\n",
    "    \n",
    "    # initial guess\n",
    "    mixing_props = [1/nclones]*nclones\n",
    "    cn_profiles = np.random.randint(cn_max - 1, size=(nclones, ngenes)) + 1\n",
    "\n",
    "    print(cn_profiles)\n",
    "    \n",
    "    relative_marginal_gain = np.inf\n",
    "    old_marginal = np.inf\n",
    "    iter_count = 0\n",
    "    em_data = []\n",
    "    \n",
    "    while (iter_count < maxiter) & (relative_marginal_gain >= tol):\n",
    "    # while (iter_count < maxiter):\n",
    "        \n",
    "        # E-step\n",
    "        responsibilities, new_marginal = get_responsibilities_and_marginal_panel_level(df_observed_read_counts, df_amplicons, cell_total_reads, genelist,\n",
    "                                                                                       mixing_props, cn_profiles)\n",
    "        \n",
    "        print(new_marginal, mixing_props)\n",
    "        \n",
    "        # M-step\n",
    "        new_mixing_props = responsibilities.sum(axis=0) / ncells\n",
    "\n",
    "        new_cn_profiles = get_optimal_cn_profile(df_observed_read_counts, df_amplicons, cell_total_reads, genelist, responsibilities, cn_max)\n",
    "        \n",
    "        # print(np.sum(np.isnan(responsibilities)))\n",
    "        # print(responsibilities.shape)\n",
    "        \n",
    "        if iter_count > 0:\n",
    "            relative_marginal_gain = (new_marginal - old_marginal) / np.abs(old_marginal)\n",
    "            \n",
    "        em_data.append([iter_count, old_marginal, new_marginal, relative_marginal_gain])\n",
    "        \n",
    "        if (relative_marginal_gain > 0) | (np.abs(new_marginal) == np.inf) | (np.abs(old_marginal) == np.inf):\n",
    "            old_marginal = new_marginal\n",
    "            cn_profiles = new_cn_profiles\n",
    "            mixing_props = new_mixing_props\n",
    "            \n",
    "            iter_count += 1\n",
    "            if np.isnan(relative_marginal_gain):\n",
    "                relative_marginal_gain = np.inf\n",
    "        else:\n",
    "            break\n",
    "        \n",
    "    df_EM = pd.DataFrame(em_data, columns = ['iterations', 'old_marginal', 'marginal', 'relative_marginal_gain'])\n",
    "    \n",
    "    return mixing_props, cn_profiles, df_EM"
   ]
  },
  {
   "cell_type": "code",
   "execution_count": 716,
   "id": "9aaaf997-1c18-4ae7-8e10-5ea4655487f5",
   "metadata": {},
   "outputs": [
    {
     "data": {
      "text/plain": [
       "array([[5, 7, 1, 6, 4, 4, 2, 5, 6, 3, 5, 2, 1, 7, 6, 7, 4, 1, 1, 2, 3, 1,\n",
       "        4, 4, 3, 3, 2, 7, 5, 4],\n",
       "       [1, 2, 3, 1, 5, 6, 3, 7, 7, 5, 5, 4, 6, 4, 5, 6, 4, 6, 7, 6, 7, 3,\n",
       "        5, 5, 2, 2, 2, 2, 1, 2],\n",
       "       [3, 1, 3, 2, 5, 7, 1, 7, 5, 7, 3, 3, 1, 7, 7, 6, 3, 6, 1, 3, 5, 4,\n",
       "        2, 2, 4, 4, 1, 3, 5, 2],\n",
       "       [4, 6, 7, 6, 7, 4, 7, 4, 3, 6, 5, 4, 5, 2, 1, 1, 2, 1, 4, 6, 7, 3,\n",
       "        1, 2, 3, 2, 4, 2, 6, 4]])"
      ]
     },
     "execution_count": 716,
     "metadata": {},
     "output_type": "execute_result"
    }
   ],
   "source": [
    "gt_cn_profiles"
   ]
  },
  {
   "cell_type": "code",
   "execution_count": 717,
   "id": "532bc83a-fa1f-47b4-9a16-9287483910ba",
   "metadata": {},
   "outputs": [
    {
     "name": "stdout",
     "output_type": "stream",
     "text": [
      "[[2 6 5 1 2 4 5 2 6 1 6 2 3 1 2 1 3 1 7 5 4 1 5 4 7 1 4 3 7 2]\n",
      " [1 5 7 2 4 7 6 6 6 4 2 7 6 5 7 7 7 2 5 2 2 5 4 3 6 6 7 7 1 4]\n",
      " [5 3 1 2 3 1 7 1 4 2 7 4 5 2 5 3 1 1 5 6 5 1 1 3 5 7 3 1 6 1]\n",
      " [6 7 7 6 3 7 4 1 5 5 1 7 7 2 2 5 1 3 6 2 4 2 3 6 1 2 2 6 1 3]]\n",
      "-7920753.268334076 [0.25, 0.25, 0.25, 0.25]\n"
     ]
    },
    {
     "name": "stderr",
     "output_type": "stream",
     "text": [
      "/tmp/ipykernel_41549/182635753.py:14: RuntimeWarning: invalid value encountered in multiply\n",
      "  return sum(responsibilities * np.sum(psi, axis=1))\n",
      "/tmp/ipykernel_41549/182635753.py:14: RuntimeWarning: invalid value encountered in multiply\n",
      "  return sum(responsibilities * np.sum(psi, axis=1))\n",
      "/tmp/ipykernel_41549/182635753.py:14: RuntimeWarning: invalid value encountered in multiply\n",
      "  return sum(responsibilities * np.sum(psi, axis=1))\n",
      "/tmp/ipykernel_41549/182635753.py:14: RuntimeWarning: invalid value encountered in multiply\n",
      "  return sum(responsibilities * np.sum(psi, axis=1))\n",
      "/tmp/ipykernel_41549/182635753.py:14: RuntimeWarning: invalid value encountered in multiply\n",
      "  return sum(responsibilities * np.sum(psi, axis=1))\n",
      "/tmp/ipykernel_41549/182635753.py:14: RuntimeWarning: invalid value encountered in multiply\n",
      "  return sum(responsibilities * np.sum(psi, axis=1))\n",
      "/tmp/ipykernel_41549/182635753.py:14: RuntimeWarning: invalid value encountered in multiply\n",
      "  return sum(responsibilities * np.sum(psi, axis=1))\n",
      "/tmp/ipykernel_41549/182635753.py:14: RuntimeWarning: invalid value encountered in multiply\n",
      "  return sum(responsibilities * np.sum(psi, axis=1))\n",
      "/tmp/ipykernel_41549/182635753.py:14: RuntimeWarning: invalid value encountered in multiply\n",
      "  return sum(responsibilities * np.sum(psi, axis=1))\n",
      "/tmp/ipykernel_41549/182635753.py:14: RuntimeWarning: invalid value encountered in multiply\n",
      "  return sum(responsibilities * np.sum(psi, axis=1))\n",
      "/tmp/ipykernel_41549/182635753.py:14: RuntimeWarning: invalid value encountered in multiply\n",
      "  return sum(responsibilities * np.sum(psi, axis=1))\n",
      "/tmp/ipykernel_41549/182635753.py:14: RuntimeWarning: invalid value encountered in multiply\n",
      "  return sum(responsibilities * np.sum(psi, axis=1))\n",
      "/tmp/ipykernel_41549/182635753.py:14: RuntimeWarning: invalid value encountered in multiply\n",
      "  return sum(responsibilities * np.sum(psi, axis=1))\n",
      "/tmp/ipykernel_41549/182635753.py:14: RuntimeWarning: invalid value encountered in multiply\n",
      "  return sum(responsibilities * np.sum(psi, axis=1))\n",
      "/tmp/ipykernel_41549/182635753.py:14: RuntimeWarning: invalid value encountered in multiply\n",
      "  return sum(responsibilities * np.sum(psi, axis=1))\n",
      "/tmp/ipykernel_41549/182635753.py:14: RuntimeWarning: invalid value encountered in multiply\n",
      "  return sum(responsibilities * np.sum(psi, axis=1))\n",
      "/tmp/ipykernel_41549/182635753.py:14: RuntimeWarning: invalid value encountered in multiply\n",
      "  return sum(responsibilities * np.sum(psi, axis=1))\n",
      "/tmp/ipykernel_41549/182635753.py:14: RuntimeWarning: invalid value encountered in multiply\n",
      "  return sum(responsibilities * np.sum(psi, axis=1))\n",
      "/tmp/ipykernel_41549/182635753.py:14: RuntimeWarning: invalid value encountered in multiply\n",
      "  return sum(responsibilities * np.sum(psi, axis=1))\n",
      "/tmp/ipykernel_41549/182635753.py:14: RuntimeWarning: invalid value encountered in multiply\n",
      "  return sum(responsibilities * np.sum(psi, axis=1))\n",
      "/tmp/ipykernel_41549/182635753.py:14: RuntimeWarning: invalid value encountered in multiply\n",
      "  return sum(responsibilities * np.sum(psi, axis=1))\n",
      "/tmp/ipykernel_41549/182635753.py:14: RuntimeWarning: invalid value encountered in multiply\n",
      "  return sum(responsibilities * np.sum(psi, axis=1))\n",
      "/tmp/ipykernel_41549/182635753.py:14: RuntimeWarning: invalid value encountered in multiply\n",
      "  return sum(responsibilities * np.sum(psi, axis=1))\n",
      "/tmp/ipykernel_41549/182635753.py:14: RuntimeWarning: invalid value encountered in multiply\n",
      "  return sum(responsibilities * np.sum(psi, axis=1))\n",
      "/tmp/ipykernel_41549/182635753.py:14: RuntimeWarning: invalid value encountered in multiply\n",
      "  return sum(responsibilities * np.sum(psi, axis=1))\n",
      "/tmp/ipykernel_41549/182635753.py:14: RuntimeWarning: invalid value encountered in multiply\n",
      "  return sum(responsibilities * np.sum(psi, axis=1))\n",
      "/tmp/ipykernel_41549/182635753.py:14: RuntimeWarning: invalid value encountered in multiply\n",
      "  return sum(responsibilities * np.sum(psi, axis=1))\n",
      "/tmp/ipykernel_41549/182635753.py:14: RuntimeWarning: invalid value encountered in multiply\n",
      "  return sum(responsibilities * np.sum(psi, axis=1))\n",
      "/tmp/ipykernel_41549/182635753.py:14: RuntimeWarning: invalid value encountered in multiply\n",
      "  return sum(responsibilities * np.sum(psi, axis=1))\n",
      "/tmp/ipykernel_41549/182635753.py:14: RuntimeWarning: invalid value encountered in multiply\n",
      "  return sum(responsibilities * np.sum(psi, axis=1))\n"
     ]
    },
    {
     "name": "stdout",
     "output_type": "stream",
     "text": [
      "-6445740.951285351 [0.10671365 0.86726125 0.00195281 0.02407229]\n"
     ]
    },
    {
     "name": "stderr",
     "output_type": "stream",
     "text": [
      "/tmp/ipykernel_41549/182635753.py:14: RuntimeWarning: invalid value encountered in multiply\n",
      "  return sum(responsibilities * np.sum(psi, axis=1))\n",
      "/tmp/ipykernel_41549/182635753.py:14: RuntimeWarning: invalid value encountered in multiply\n",
      "  return sum(responsibilities * np.sum(psi, axis=1))\n",
      "/tmp/ipykernel_41549/182635753.py:14: RuntimeWarning: invalid value encountered in multiply\n",
      "  return sum(responsibilities * np.sum(psi, axis=1))\n",
      "/tmp/ipykernel_41549/182635753.py:14: RuntimeWarning: invalid value encountered in multiply\n",
      "  return sum(responsibilities * np.sum(psi, axis=1))\n",
      "/tmp/ipykernel_41549/182635753.py:14: RuntimeWarning: invalid value encountered in multiply\n",
      "  return sum(responsibilities * np.sum(psi, axis=1))\n",
      "/tmp/ipykernel_41549/182635753.py:14: RuntimeWarning: invalid value encountered in multiply\n",
      "  return sum(responsibilities * np.sum(psi, axis=1))\n",
      "/tmp/ipykernel_41549/182635753.py:14: RuntimeWarning: invalid value encountered in multiply\n",
      "  return sum(responsibilities * np.sum(psi, axis=1))\n",
      "/tmp/ipykernel_41549/182635753.py:14: RuntimeWarning: invalid value encountered in multiply\n",
      "  return sum(responsibilities * np.sum(psi, axis=1))\n",
      "/tmp/ipykernel_41549/182635753.py:14: RuntimeWarning: invalid value encountered in multiply\n",
      "  return sum(responsibilities * np.sum(psi, axis=1))\n",
      "/tmp/ipykernel_41549/182635753.py:14: RuntimeWarning: invalid value encountered in multiply\n",
      "  return sum(responsibilities * np.sum(psi, axis=1))\n",
      "/tmp/ipykernel_41549/182635753.py:14: RuntimeWarning: invalid value encountered in multiply\n",
      "  return sum(responsibilities * np.sum(psi, axis=1))\n",
      "/tmp/ipykernel_41549/182635753.py:14: RuntimeWarning: invalid value encountered in multiply\n",
      "  return sum(responsibilities * np.sum(psi, axis=1))\n",
      "/tmp/ipykernel_41549/182635753.py:14: RuntimeWarning: invalid value encountered in multiply\n",
      "  return sum(responsibilities * np.sum(psi, axis=1))\n",
      "/tmp/ipykernel_41549/182635753.py:14: RuntimeWarning: invalid value encountered in multiply\n",
      "  return sum(responsibilities * np.sum(psi, axis=1))\n",
      "/tmp/ipykernel_41549/182635753.py:14: RuntimeWarning: invalid value encountered in multiply\n",
      "  return sum(responsibilities * np.sum(psi, axis=1))\n",
      "/tmp/ipykernel_41549/182635753.py:14: RuntimeWarning: invalid value encountered in multiply\n",
      "  return sum(responsibilities * np.sum(psi, axis=1))\n",
      "/tmp/ipykernel_41549/182635753.py:14: RuntimeWarning: invalid value encountered in multiply\n",
      "  return sum(responsibilities * np.sum(psi, axis=1))\n",
      "/tmp/ipykernel_41549/182635753.py:14: RuntimeWarning: invalid value encountered in multiply\n",
      "  return sum(responsibilities * np.sum(psi, axis=1))\n",
      "/tmp/ipykernel_41549/182635753.py:14: RuntimeWarning: invalid value encountered in multiply\n",
      "  return sum(responsibilities * np.sum(psi, axis=1))\n",
      "/tmp/ipykernel_41549/182635753.py:14: RuntimeWarning: invalid value encountered in multiply\n",
      "  return sum(responsibilities * np.sum(psi, axis=1))\n",
      "/tmp/ipykernel_41549/182635753.py:14: RuntimeWarning: invalid value encountered in multiply\n",
      "  return sum(responsibilities * np.sum(psi, axis=1))\n",
      "/tmp/ipykernel_41549/182635753.py:14: RuntimeWarning: invalid value encountered in multiply\n",
      "  return sum(responsibilities * np.sum(psi, axis=1))\n",
      "/tmp/ipykernel_41549/182635753.py:14: RuntimeWarning: invalid value encountered in multiply\n",
      "  return sum(responsibilities * np.sum(psi, axis=1))\n",
      "/tmp/ipykernel_41549/182635753.py:14: RuntimeWarning: invalid value encountered in multiply\n",
      "  return sum(responsibilities * np.sum(psi, axis=1))\n",
      "/tmp/ipykernel_41549/182635753.py:14: RuntimeWarning: invalid value encountered in multiply\n",
      "  return sum(responsibilities * np.sum(psi, axis=1))\n",
      "/tmp/ipykernel_41549/182635753.py:14: RuntimeWarning: invalid value encountered in multiply\n",
      "  return sum(responsibilities * np.sum(psi, axis=1))\n",
      "/tmp/ipykernel_41549/182635753.py:14: RuntimeWarning: invalid value encountered in multiply\n",
      "  return sum(responsibilities * np.sum(psi, axis=1))\n",
      "/tmp/ipykernel_41549/182635753.py:14: RuntimeWarning: invalid value encountered in multiply\n",
      "  return sum(responsibilities * np.sum(psi, axis=1))\n",
      "/tmp/ipykernel_41549/182635753.py:14: RuntimeWarning: invalid value encountered in multiply\n",
      "  return sum(responsibilities * np.sum(psi, axis=1))\n",
      "/tmp/ipykernel_41549/182635753.py:14: RuntimeWarning: invalid value encountered in multiply\n",
      "  return sum(responsibilities * np.sum(psi, axis=1))\n"
     ]
    },
    {
     "name": "stdout",
     "output_type": "stream",
     "text": [
      "-6445714.534323778 [1.18650700e-01 8.67242184e-01 7.30470614e-04 1.33766456e-02]\n"
     ]
    },
    {
     "name": "stderr",
     "output_type": "stream",
     "text": [
      "/tmp/ipykernel_41549/182635753.py:14: RuntimeWarning: invalid value encountered in multiply\n",
      "  return sum(responsibilities * np.sum(psi, axis=1))\n",
      "/tmp/ipykernel_41549/182635753.py:14: RuntimeWarning: invalid value encountered in multiply\n",
      "  return sum(responsibilities * np.sum(psi, axis=1))\n",
      "/tmp/ipykernel_41549/182635753.py:14: RuntimeWarning: invalid value encountered in multiply\n",
      "  return sum(responsibilities * np.sum(psi, axis=1))\n",
      "/tmp/ipykernel_41549/182635753.py:14: RuntimeWarning: invalid value encountered in multiply\n",
      "  return sum(responsibilities * np.sum(psi, axis=1))\n",
      "/tmp/ipykernel_41549/182635753.py:14: RuntimeWarning: invalid value encountered in multiply\n",
      "  return sum(responsibilities * np.sum(psi, axis=1))\n",
      "/tmp/ipykernel_41549/182635753.py:14: RuntimeWarning: invalid value encountered in multiply\n",
      "  return sum(responsibilities * np.sum(psi, axis=1))\n",
      "/tmp/ipykernel_41549/182635753.py:14: RuntimeWarning: invalid value encountered in multiply\n",
      "  return sum(responsibilities * np.sum(psi, axis=1))\n",
      "/tmp/ipykernel_41549/182635753.py:14: RuntimeWarning: invalid value encountered in multiply\n",
      "  return sum(responsibilities * np.sum(psi, axis=1))\n",
      "/tmp/ipykernel_41549/182635753.py:14: RuntimeWarning: invalid value encountered in multiply\n",
      "  return sum(responsibilities * np.sum(psi, axis=1))\n",
      "/tmp/ipykernel_41549/182635753.py:14: RuntimeWarning: invalid value encountered in multiply\n",
      "  return sum(responsibilities * np.sum(psi, axis=1))\n",
      "/tmp/ipykernel_41549/182635753.py:14: RuntimeWarning: invalid value encountered in multiply\n",
      "  return sum(responsibilities * np.sum(psi, axis=1))\n",
      "/tmp/ipykernel_41549/182635753.py:14: RuntimeWarning: invalid value encountered in multiply\n",
      "  return sum(responsibilities * np.sum(psi, axis=1))\n",
      "/tmp/ipykernel_41549/182635753.py:14: RuntimeWarning: invalid value encountered in multiply\n",
      "  return sum(responsibilities * np.sum(psi, axis=1))\n",
      "/tmp/ipykernel_41549/182635753.py:14: RuntimeWarning: invalid value encountered in multiply\n",
      "  return sum(responsibilities * np.sum(psi, axis=1))\n",
      "/tmp/ipykernel_41549/182635753.py:14: RuntimeWarning: invalid value encountered in multiply\n",
      "  return sum(responsibilities * np.sum(psi, axis=1))\n",
      "/tmp/ipykernel_41549/182635753.py:14: RuntimeWarning: invalid value encountered in multiply\n",
      "  return sum(responsibilities * np.sum(psi, axis=1))\n",
      "/tmp/ipykernel_41549/182635753.py:14: RuntimeWarning: invalid value encountered in multiply\n",
      "  return sum(responsibilities * np.sum(psi, axis=1))\n",
      "/tmp/ipykernel_41549/182635753.py:14: RuntimeWarning: invalid value encountered in multiply\n",
      "  return sum(responsibilities * np.sum(psi, axis=1))\n",
      "/tmp/ipykernel_41549/182635753.py:14: RuntimeWarning: invalid value encountered in multiply\n",
      "  return sum(responsibilities * np.sum(psi, axis=1))\n",
      "/tmp/ipykernel_41549/182635753.py:14: RuntimeWarning: invalid value encountered in multiply\n",
      "  return sum(responsibilities * np.sum(psi, axis=1))\n",
      "/tmp/ipykernel_41549/182635753.py:14: RuntimeWarning: invalid value encountered in multiply\n",
      "  return sum(responsibilities * np.sum(psi, axis=1))\n",
      "/tmp/ipykernel_41549/182635753.py:14: RuntimeWarning: invalid value encountered in multiply\n",
      "  return sum(responsibilities * np.sum(psi, axis=1))\n",
      "/tmp/ipykernel_41549/182635753.py:14: RuntimeWarning: invalid value encountered in multiply\n",
      "  return sum(responsibilities * np.sum(psi, axis=1))\n",
      "/tmp/ipykernel_41549/182635753.py:14: RuntimeWarning: invalid value encountered in multiply\n",
      "  return sum(responsibilities * np.sum(psi, axis=1))\n",
      "/tmp/ipykernel_41549/182635753.py:14: RuntimeWarning: invalid value encountered in multiply\n",
      "  return sum(responsibilities * np.sum(psi, axis=1))\n",
      "/tmp/ipykernel_41549/182635753.py:14: RuntimeWarning: invalid value encountered in multiply\n",
      "  return sum(responsibilities * np.sum(psi, axis=1))\n",
      "/tmp/ipykernel_41549/182635753.py:14: RuntimeWarning: invalid value encountered in multiply\n",
      "  return sum(responsibilities * np.sum(psi, axis=1))\n",
      "/tmp/ipykernel_41549/182635753.py:14: RuntimeWarning: invalid value encountered in multiply\n",
      "  return sum(responsibilities * np.sum(psi, axis=1))\n",
      "/tmp/ipykernel_41549/182635753.py:14: RuntimeWarning: invalid value encountered in multiply\n",
      "  return sum(responsibilities * np.sum(psi, axis=1))\n",
      "/tmp/ipykernel_41549/182635753.py:14: RuntimeWarning: invalid value encountered in multiply\n",
      "  return sum(responsibilities * np.sum(psi, axis=1))\n"
     ]
    },
    {
     "name": "stdout",
     "output_type": "stream",
     "text": [
      "-6445706.258414682 [1.23851698e-01 8.67242184e-01 4.89969008e-04 8.41614942e-03]\n"
     ]
    },
    {
     "name": "stderr",
     "output_type": "stream",
     "text": [
      "/tmp/ipykernel_41549/182635753.py:14: RuntimeWarning: invalid value encountered in multiply\n",
      "  return sum(responsibilities * np.sum(psi, axis=1))\n",
      "/tmp/ipykernel_41549/182635753.py:14: RuntimeWarning: invalid value encountered in multiply\n",
      "  return sum(responsibilities * np.sum(psi, axis=1))\n",
      "/tmp/ipykernel_41549/182635753.py:14: RuntimeWarning: invalid value encountered in multiply\n",
      "  return sum(responsibilities * np.sum(psi, axis=1))\n",
      "/tmp/ipykernel_41549/182635753.py:14: RuntimeWarning: invalid value encountered in multiply\n",
      "  return sum(responsibilities * np.sum(psi, axis=1))\n",
      "/tmp/ipykernel_41549/182635753.py:14: RuntimeWarning: invalid value encountered in multiply\n",
      "  return sum(responsibilities * np.sum(psi, axis=1))\n",
      "/tmp/ipykernel_41549/182635753.py:14: RuntimeWarning: invalid value encountered in multiply\n",
      "  return sum(responsibilities * np.sum(psi, axis=1))\n",
      "/tmp/ipykernel_41549/182635753.py:14: RuntimeWarning: invalid value encountered in multiply\n",
      "  return sum(responsibilities * np.sum(psi, axis=1))\n",
      "/tmp/ipykernel_41549/182635753.py:14: RuntimeWarning: invalid value encountered in multiply\n",
      "  return sum(responsibilities * np.sum(psi, axis=1))\n",
      "/tmp/ipykernel_41549/182635753.py:14: RuntimeWarning: invalid value encountered in multiply\n",
      "  return sum(responsibilities * np.sum(psi, axis=1))\n",
      "/tmp/ipykernel_41549/182635753.py:14: RuntimeWarning: invalid value encountered in multiply\n",
      "  return sum(responsibilities * np.sum(psi, axis=1))\n",
      "/tmp/ipykernel_41549/182635753.py:14: RuntimeWarning: invalid value encountered in multiply\n",
      "  return sum(responsibilities * np.sum(psi, axis=1))\n",
      "/tmp/ipykernel_41549/182635753.py:14: RuntimeWarning: invalid value encountered in multiply\n",
      "  return sum(responsibilities * np.sum(psi, axis=1))\n",
      "/tmp/ipykernel_41549/182635753.py:14: RuntimeWarning: invalid value encountered in multiply\n",
      "  return sum(responsibilities * np.sum(psi, axis=1))\n",
      "/tmp/ipykernel_41549/182635753.py:14: RuntimeWarning: invalid value encountered in multiply\n",
      "  return sum(responsibilities * np.sum(psi, axis=1))\n",
      "/tmp/ipykernel_41549/182635753.py:14: RuntimeWarning: invalid value encountered in multiply\n",
      "  return sum(responsibilities * np.sum(psi, axis=1))\n",
      "/tmp/ipykernel_41549/182635753.py:14: RuntimeWarning: invalid value encountered in multiply\n",
      "  return sum(responsibilities * np.sum(psi, axis=1))\n",
      "/tmp/ipykernel_41549/182635753.py:14: RuntimeWarning: invalid value encountered in multiply\n",
      "  return sum(responsibilities * np.sum(psi, axis=1))\n",
      "/tmp/ipykernel_41549/182635753.py:14: RuntimeWarning: invalid value encountered in multiply\n",
      "  return sum(responsibilities * np.sum(psi, axis=1))\n",
      "/tmp/ipykernel_41549/182635753.py:14: RuntimeWarning: invalid value encountered in multiply\n",
      "  return sum(responsibilities * np.sum(psi, axis=1))\n",
      "/tmp/ipykernel_41549/182635753.py:14: RuntimeWarning: invalid value encountered in multiply\n",
      "  return sum(responsibilities * np.sum(psi, axis=1))\n",
      "/tmp/ipykernel_41549/182635753.py:14: RuntimeWarning: invalid value encountered in multiply\n",
      "  return sum(responsibilities * np.sum(psi, axis=1))\n",
      "/tmp/ipykernel_41549/182635753.py:14: RuntimeWarning: invalid value encountered in multiply\n",
      "  return sum(responsibilities * np.sum(psi, axis=1))\n",
      "/tmp/ipykernel_41549/182635753.py:14: RuntimeWarning: invalid value encountered in multiply\n",
      "  return sum(responsibilities * np.sum(psi, axis=1))\n",
      "/tmp/ipykernel_41549/182635753.py:14: RuntimeWarning: invalid value encountered in multiply\n",
      "  return sum(responsibilities * np.sum(psi, axis=1))\n",
      "/tmp/ipykernel_41549/182635753.py:14: RuntimeWarning: invalid value encountered in multiply\n",
      "  return sum(responsibilities * np.sum(psi, axis=1))\n",
      "/tmp/ipykernel_41549/182635753.py:14: RuntimeWarning: invalid value encountered in multiply\n",
      "  return sum(responsibilities * np.sum(psi, axis=1))\n",
      "/tmp/ipykernel_41549/182635753.py:14: RuntimeWarning: invalid value encountered in multiply\n",
      "  return sum(responsibilities * np.sum(psi, axis=1))\n",
      "/tmp/ipykernel_41549/182635753.py:14: RuntimeWarning: invalid value encountered in multiply\n",
      "  return sum(responsibilities * np.sum(psi, axis=1))\n",
      "/tmp/ipykernel_41549/182635753.py:14: RuntimeWarning: invalid value encountered in multiply\n",
      "  return sum(responsibilities * np.sum(psi, axis=1))\n",
      "/tmp/ipykernel_41549/182635753.py:14: RuntimeWarning: invalid value encountered in multiply\n",
      "  return sum(responsibilities * np.sum(psi, axis=1))\n"
     ]
    },
    {
     "name": "stdout",
     "output_type": "stream",
     "text": [
      "-6445702.849507669 [1.26548866e-01 8.67242184e-01 3.53525568e-04 5.85542455e-03]\n"
     ]
    },
    {
     "name": "stderr",
     "output_type": "stream",
     "text": [
      "/tmp/ipykernel_41549/182635753.py:14: RuntimeWarning: invalid value encountered in multiply\n",
      "  return sum(responsibilities * np.sum(psi, axis=1))\n",
      "/tmp/ipykernel_41549/182635753.py:14: RuntimeWarning: invalid value encountered in multiply\n",
      "  return sum(responsibilities * np.sum(psi, axis=1))\n",
      "/tmp/ipykernel_41549/182635753.py:14: RuntimeWarning: invalid value encountered in multiply\n",
      "  return sum(responsibilities * np.sum(psi, axis=1))\n",
      "/tmp/ipykernel_41549/182635753.py:14: RuntimeWarning: invalid value encountered in multiply\n",
      "  return sum(responsibilities * np.sum(psi, axis=1))\n",
      "/tmp/ipykernel_41549/182635753.py:14: RuntimeWarning: invalid value encountered in multiply\n",
      "  return sum(responsibilities * np.sum(psi, axis=1))\n",
      "/tmp/ipykernel_41549/182635753.py:14: RuntimeWarning: invalid value encountered in multiply\n",
      "  return sum(responsibilities * np.sum(psi, axis=1))\n",
      "/tmp/ipykernel_41549/182635753.py:14: RuntimeWarning: invalid value encountered in multiply\n",
      "  return sum(responsibilities * np.sum(psi, axis=1))\n",
      "/tmp/ipykernel_41549/182635753.py:14: RuntimeWarning: invalid value encountered in multiply\n",
      "  return sum(responsibilities * np.sum(psi, axis=1))\n",
      "/tmp/ipykernel_41549/182635753.py:14: RuntimeWarning: invalid value encountered in multiply\n",
      "  return sum(responsibilities * np.sum(psi, axis=1))\n",
      "/tmp/ipykernel_41549/182635753.py:14: RuntimeWarning: invalid value encountered in multiply\n",
      "  return sum(responsibilities * np.sum(psi, axis=1))\n",
      "/tmp/ipykernel_41549/182635753.py:14: RuntimeWarning: invalid value encountered in multiply\n",
      "  return sum(responsibilities * np.sum(psi, axis=1))\n",
      "/tmp/ipykernel_41549/182635753.py:14: RuntimeWarning: invalid value encountered in multiply\n",
      "  return sum(responsibilities * np.sum(psi, axis=1))\n",
      "/tmp/ipykernel_41549/182635753.py:14: RuntimeWarning: invalid value encountered in multiply\n",
      "  return sum(responsibilities * np.sum(psi, axis=1))\n",
      "/tmp/ipykernel_41549/182635753.py:14: RuntimeWarning: invalid value encountered in multiply\n",
      "  return sum(responsibilities * np.sum(psi, axis=1))\n",
      "/tmp/ipykernel_41549/182635753.py:14: RuntimeWarning: invalid value encountered in multiply\n",
      "  return sum(responsibilities * np.sum(psi, axis=1))\n",
      "/tmp/ipykernel_41549/182635753.py:14: RuntimeWarning: invalid value encountered in multiply\n",
      "  return sum(responsibilities * np.sum(psi, axis=1))\n",
      "/tmp/ipykernel_41549/182635753.py:14: RuntimeWarning: invalid value encountered in multiply\n",
      "  return sum(responsibilities * np.sum(psi, axis=1))\n",
      "/tmp/ipykernel_41549/182635753.py:14: RuntimeWarning: invalid value encountered in multiply\n",
      "  return sum(responsibilities * np.sum(psi, axis=1))\n",
      "/tmp/ipykernel_41549/182635753.py:14: RuntimeWarning: invalid value encountered in multiply\n",
      "  return sum(responsibilities * np.sum(psi, axis=1))\n",
      "/tmp/ipykernel_41549/182635753.py:14: RuntimeWarning: invalid value encountered in multiply\n",
      "  return sum(responsibilities * np.sum(psi, axis=1))\n",
      "/tmp/ipykernel_41549/182635753.py:14: RuntimeWarning: invalid value encountered in multiply\n",
      "  return sum(responsibilities * np.sum(psi, axis=1))\n",
      "/tmp/ipykernel_41549/182635753.py:14: RuntimeWarning: invalid value encountered in multiply\n",
      "  return sum(responsibilities * np.sum(psi, axis=1))\n",
      "/tmp/ipykernel_41549/182635753.py:14: RuntimeWarning: invalid value encountered in multiply\n",
      "  return sum(responsibilities * np.sum(psi, axis=1))\n",
      "/tmp/ipykernel_41549/182635753.py:14: RuntimeWarning: invalid value encountered in multiply\n",
      "  return sum(responsibilities * np.sum(psi, axis=1))\n",
      "/tmp/ipykernel_41549/182635753.py:14: RuntimeWarning: invalid value encountered in multiply\n",
      "  return sum(responsibilities * np.sum(psi, axis=1))\n",
      "/tmp/ipykernel_41549/182635753.py:14: RuntimeWarning: invalid value encountered in multiply\n",
      "  return sum(responsibilities * np.sum(psi, axis=1))\n",
      "/tmp/ipykernel_41549/182635753.py:14: RuntimeWarning: invalid value encountered in multiply\n",
      "  return sum(responsibilities * np.sum(psi, axis=1))\n",
      "/tmp/ipykernel_41549/182635753.py:14: RuntimeWarning: invalid value encountered in multiply\n",
      "  return sum(responsibilities * np.sum(psi, axis=1))\n",
      "/tmp/ipykernel_41549/182635753.py:14: RuntimeWarning: invalid value encountered in multiply\n",
      "  return sum(responsibilities * np.sum(psi, axis=1))\n",
      "/tmp/ipykernel_41549/182635753.py:14: RuntimeWarning: invalid value encountered in multiply\n",
      "  return sum(responsibilities * np.sum(psi, axis=1))\n"
     ]
    }
   ],
   "source": [
    "inferred_mixing_props, inferred_cn, df_EM = mixed_NB_EM_fixed_dispersion_panel_level(df_observed_read_counts, df_simulated_amplicons, cell_total_reads, genelist,\n",
    "                                                                                     nclones=4, seed=10)"
   ]
  },
  {
   "cell_type": "code",
   "execution_count": null,
   "id": "e30d8334-408f-4dc0-8284-901747de1ec4",
   "metadata": {},
   "outputs": [],
   "source": []
  },
  {
   "cell_type": "code",
   "execution_count": 718,
   "id": "0e3fb5ee-3bbf-4776-a7e8-b48b11b0f277",
   "metadata": {},
   "outputs": [
    {
     "data": {
      "text/html": [
       "<div>\n",
       "<style scoped>\n",
       "    .dataframe tbody tr th:only-of-type {\n",
       "        vertical-align: middle;\n",
       "    }\n",
       "\n",
       "    .dataframe tbody tr th {\n",
       "        vertical-align: top;\n",
       "    }\n",
       "\n",
       "    .dataframe thead th {\n",
       "        text-align: right;\n",
       "    }\n",
       "</style>\n",
       "<table border=\"1\" class=\"dataframe\">\n",
       "  <thead>\n",
       "    <tr style=\"text-align: right;\">\n",
       "      <th></th>\n",
       "      <th>iterations</th>\n",
       "      <th>old_marginal</th>\n",
       "      <th>marginal</th>\n",
       "      <th>relative_marginal_gain</th>\n",
       "    </tr>\n",
       "  </thead>\n",
       "  <tbody>\n",
       "    <tr>\n",
       "      <th>0</th>\n",
       "      <td>0</td>\n",
       "      <td>inf</td>\n",
       "      <td>-7.920753e+06</td>\n",
       "      <td>inf</td>\n",
       "    </tr>\n",
       "    <tr>\n",
       "      <th>1</th>\n",
       "      <td>1</td>\n",
       "      <td>-7.920753e+06</td>\n",
       "      <td>-6.445741e+06</td>\n",
       "      <td>1.862212e-01</td>\n",
       "    </tr>\n",
       "    <tr>\n",
       "      <th>2</th>\n",
       "      <td>2</td>\n",
       "      <td>-6.445741e+06</td>\n",
       "      <td>-6.445715e+06</td>\n",
       "      <td>4.098359e-06</td>\n",
       "    </tr>\n",
       "    <tr>\n",
       "      <th>3</th>\n",
       "      <td>3</td>\n",
       "      <td>-6.445715e+06</td>\n",
       "      <td>-6.445706e+06</td>\n",
       "      <td>1.283940e-06</td>\n",
       "    </tr>\n",
       "    <tr>\n",
       "      <th>4</th>\n",
       "      <td>4</td>\n",
       "      <td>-6.445706e+06</td>\n",
       "      <td>-6.445703e+06</td>\n",
       "      <td>5.288648e-07</td>\n",
       "    </tr>\n",
       "  </tbody>\n",
       "</table>\n",
       "</div>"
      ],
      "text/plain": [
       "   iterations  old_marginal      marginal  relative_marginal_gain\n",
       "0           0           inf -7.920753e+06                     inf\n",
       "1           1 -7.920753e+06 -6.445741e+06            1.862212e-01\n",
       "2           2 -6.445741e+06 -6.445715e+06            4.098359e-06\n",
       "3           3 -6.445715e+06 -6.445706e+06            1.283940e-06\n",
       "4           4 -6.445706e+06 -6.445703e+06            5.288648e-07"
      ]
     },
     "execution_count": 718,
     "metadata": {},
     "output_type": "execute_result"
    }
   ],
   "source": [
    "df_EM"
   ]
  },
  {
   "cell_type": "code",
   "execution_count": 719,
   "id": "716ac6b6-c374-42c4-9830-eebdb06d8a5a",
   "metadata": {},
   "outputs": [
    {
     "data": {
      "text/plain": [
       "array([[4., 6., 7., 6., 7., 4., 7., 4., 3., 6., 5., 4., 5., 2., 1., 1.,\n",
       "        2., 1., 4., 6., 7., 3., 1., 2., 3., 2., 4., 2., 6., 4.],\n",
       "       [3., 2., 3., 2., 5., 6., 2., 7., 6., 6., 4., 3., 3., 6., 6., 6.,\n",
       "        4., 5., 3., 4., 5., 3., 3., 3., 3., 3., 2., 3., 4., 2.],\n",
       "       [4., 6., 6., 7., 7., 3., 7., 4., 3., 7., 5., 4., 5., 2., 1., 1.,\n",
       "        2., 1., 4., 6., 7., 3., 1., 2., 3., 2., 4., 2., 6., 4.],\n",
       "       [4., 6., 7., 7., 7., 4., 7., 4., 3., 7., 5., 4., 5., 2., 1., 1.,\n",
       "        2., 1., 4., 6., 7., 3., 1., 2., 3., 2., 4., 2., 5., 4.]])"
      ]
     },
     "execution_count": 719,
     "metadata": {},
     "output_type": "execute_result"
    }
   ],
   "source": [
    "inferred_cn"
   ]
  },
  {
   "cell_type": "code",
   "execution_count": 720,
   "id": "b169c394-eae4-43a6-a4d6-994ba230b853",
   "metadata": {},
   "outputs": [
    {
     "data": {
      "text/plain": [
       "array([1.28098991e-01, 8.67242184e-01, 2.68909163e-04, 4.38991558e-03])"
      ]
     },
     "execution_count": 720,
     "metadata": {},
     "output_type": "execute_result"
    }
   ],
   "source": [
    "inferred_mixing_props"
   ]
  },
  {
   "cell_type": "code",
   "execution_count": 721,
   "id": "f4dfe994-b9f0-4d34-a90d-7d3cf3de0dbe",
   "metadata": {},
   "outputs": [
    {
     "data": {
      "text/plain": [
       "array([[5, 7, 1, 6, 4, 4, 2, 5, 6, 3, 5, 2, 1, 7, 6, 7, 4, 1, 1, 2, 3, 1,\n",
       "        4, 4, 3, 3, 2, 7, 5, 4],\n",
       "       [1, 2, 3, 1, 5, 6, 3, 7, 7, 5, 5, 4, 6, 4, 5, 6, 4, 6, 7, 6, 7, 3,\n",
       "        5, 5, 2, 2, 2, 2, 1, 2],\n",
       "       [3, 1, 3, 2, 5, 7, 1, 7, 5, 7, 3, 3, 1, 7, 7, 6, 3, 6, 1, 3, 5, 4,\n",
       "        2, 2, 4, 4, 1, 3, 5, 2],\n",
       "       [4, 6, 7, 6, 7, 4, 7, 4, 3, 6, 5, 4, 5, 2, 1, 1, 2, 1, 4, 6, 7, 3,\n",
       "        1, 2, 3, 2, 4, 2, 6, 4]])"
      ]
     },
     "execution_count": 721,
     "metadata": {},
     "output_type": "execute_result"
    }
   ],
   "source": [
    "gt_cn_profiles"
   ]
  },
  {
   "cell_type": "code",
   "execution_count": 722,
   "id": "6a173de5-922d-4c15-9e08-33d9805796a1",
   "metadata": {},
   "outputs": [
    {
     "data": {
      "text/plain": [
       "array([0.12304009, 0.27882696, 0.46594053, 0.13219242])"
      ]
     },
     "execution_count": 722,
     "metadata": {},
     "output_type": "execute_result"
    }
   ],
   "source": [
    "gt_mixture_proportions"
   ]
  },
  {
   "cell_type": "code",
   "execution_count": null,
   "id": "fb713506-0fd7-49d4-a1a8-cc2e3ea2cdc2",
   "metadata": {},
   "outputs": [],
   "source": []
  },
  {
   "cell_type": "code",
   "execution_count": 421,
   "id": "a4786760-34f2-4ffb-8e0b-6727a34c257d",
   "metadata": {},
   "outputs": [
    {
     "data": {
      "text/plain": [
       "(4286, 10)"
      ]
     },
     "execution_count": 421,
     "metadata": {},
     "output_type": "execute_result"
    }
   ],
   "source": [
    "df_observed_read_counts.shape"
   ]
  },
  {
   "cell_type": "code",
   "execution_count": null,
   "id": "09f652fc-0a38-4c1e-ab08-853eb6e4d256",
   "metadata": {},
   "outputs": [],
   "source": []
  },
  {
   "cell_type": "code",
   "execution_count": 1838,
   "id": "3da7e7cf-9710-49f6-b872-0be4904d70a1",
   "metadata": {},
   "outputs": [],
   "source": [
    "cn_list = [1,2,3]"
   ]
  },
  {
   "cell_type": "code",
   "execution_count": 1840,
   "id": "4d1be923-c568-4f7e-9403-3adc1865d611",
   "metadata": {},
   "outputs": [],
   "source": []
  },
  {
   "cell_type": "code",
   "execution_count": 1841,
   "id": "fde90386-cd0c-45b8-8ce7-00270e63530d",
   "metadata": {},
   "outputs": [
    {
     "data": {
      "text/plain": [
       "['0', '0', '0', '0', '0', '0', '0', '0', '0']"
      ]
     },
     "execution_count": 1841,
     "metadata": {},
     "output_type": "execute_result"
    }
   ],
   "source": [
    "cn_string"
   ]
  },
  {
   "cell_type": "code",
   "execution_count": 1834,
   "id": "f89fede3-5f5a-47bf-932f-f6b2dd3f2f18",
   "metadata": {},
   "outputs": [],
   "source": []
  },
  {
   "cell_type": "code",
   "execution_count": 1836,
   "id": "675f6f51-bf94-4083-92a9-a1f9bf184e81",
   "metadata": {},
   "outputs": [
    {
     "data": {
      "text/plain": [
       "'01110000'"
      ]
     },
     "execution_count": 1836,
     "metadata": {},
     "output_type": "execute_result"
    }
   ],
   "source": []
  },
  {
   "cell_type": "code",
   "execution_count": 1842,
   "id": "ed81f8b2-68c2-4d70-acb9-efea1d9f8571",
   "metadata": {},
   "outputs": [
    {
     "data": {
      "text/plain": [
       "array([0.5, 0.5])"
      ]
     },
     "execution_count": 1842,
     "metadata": {},
     "output_type": "execute_result"
    }
   ],
   "source": [
    "mixing_props"
   ]
  },
  {
   "cell_type": "code",
   "execution_count": 1843,
   "id": "f506ee73-ab84-441f-bcab-d1087ce762c8",
   "metadata": {},
   "outputs": [
    {
     "data": {
      "text/plain": [
       "'0.5|0.5'"
      ]
     },
     "execution_count": 1843,
     "metadata": {},
     "output_type": "execute_result"
    }
   ],
   "source": []
  }
 ],
 "metadata": {
  "kernelspec": {
   "display_name": "Python 3 (ipykernel)",
   "language": "python",
   "name": "python3"
  },
  "language_info": {
   "codemirror_mode": {
    "name": "ipython",
    "version": 3
   },
   "file_extension": ".py",
   "mimetype": "text/x-python",
   "name": "python",
   "nbconvert_exporter": "python",
   "pygments_lexer": "ipython3",
   "version": "3.8.13"
  }
 },
 "nbformat": 4,
 "nbformat_minor": 5
}
