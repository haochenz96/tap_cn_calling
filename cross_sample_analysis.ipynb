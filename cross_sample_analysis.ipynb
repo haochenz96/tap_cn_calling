{
 "cells": [
  {
   "cell_type": "code",
   "execution_count": 1,
   "id": "d63c5394-a3a0-4a56-9bff-f8bc26dadf5f",
   "metadata": {},
   "outputs": [],
   "source": [
    "import allel\n",
    "import loompy\n",
    "import numpy as np\n",
    "import pandas as pd\n",
    "import pysam\n",
    "import seaborn as sns\n",
    "import matplotlib.pyplot as plt\n",
    "import math\n",
    "import itertools\n",
    "from collections import Counter\n",
    "from collections import defaultdict\n",
    "\n",
    "from matplotlib_venn import venn2_unweighted, venn2, venn3\n",
    "\n",
    "import mb_funcs as mb\n",
    "%load_ext autoreload\n",
    "%autoreload 2\n",
    "\n",
    "plt.rcParams['xtick.labelsize'] = 20\n",
    "plt.rcParams['ytick.labelsize'] = 20\n",
    "plt.rcParams['axes.labelsize'] = 20"
   ]
  },
  {
   "cell_type": "markdown",
   "id": "c5cece84-c61e-42c0-81a6-47175231c353",
   "metadata": {},
   "source": [
    "# intersection of mutations in primary tumor and the liver metastasis"
   ]
  },
  {
   "cell_type": "code",
   "execution_count": 2,
   "id": "a897d418-7fb2-4643-8067-819f18e67924",
   "metadata": {},
   "outputs": [
    {
     "data": {
      "text/plain": [
       "'/n/fs/ragr-data/users/palash/mskcc-analysis'"
      ]
     },
     "execution_count": 2,
     "metadata": {},
     "output_type": "execute_result"
    }
   ],
   "source": [
    "pwd"
   ]
  },
  {
   "cell_type": "code",
   "execution_count": 6,
   "id": "f4ef76fd-16f9-4b38-bd87-2ef508aaeed4",
   "metadata": {},
   "outputs": [],
   "source": [
    "df_primary = pd.read_csv('data_old_panel1//primary_pos_indices.csv', sep=',')\n",
    "df_liver_met = pd.read_csv('data_old_panel1//liver_met_pos_indices.csv', sep=',')\n",
    "df_e1 = pd.read_csv('data_old_panel1//E1_pos_indices.csv', sep=',')"
   ]
  },
  {
   "cell_type": "code",
   "execution_count": 7,
   "id": "1ce129ec-05bf-4081-bfaa-540e8fab47b0",
   "metadata": {},
   "outputs": [],
   "source": [
    "# df_primary = pd.read_csv('data/primary_selected_pos_indices.csv', sep=',')\n",
    "# df_liver_met = pd.read_csv('data/liver_met_selected_pos_indices.csv', sep=',')\n",
    "# df_e1 = pd.read_csv('data/E1_selected_pos_indices.csv', sep=',')"
   ]
  },
  {
   "cell_type": "code",
   "execution_count": 8,
   "id": "0866a24a-de50-4098-bc11-c829820bf5e5",
   "metadata": {},
   "outputs": [
    {
     "data": {
      "image/png": "[encoded data removed]",
      "text/plain": [
       "<Figure size 432x432 with 1 Axes>"
      ]
     },
     "metadata": {},
     "output_type": "display_data"
    }
   ],
   "source": [
    "fig, ax = plt.subplots(1,1,figsize=(6,6))\n",
    "venn3([set(df_primary['pos']), set(df_liver_met['pos']), set(df_e1['pos'])], set_labels=('primary', 'liver_met', 'E1'))\n",
    "fig.patch.set_facecolor('white')\n",
    "# plt.savefig('figures/patient2_snv_venn_diagram_new.pdf', bbox_inches='tight')"
   ]
  },
  {
   "cell_type": "code",
   "execution_count": 8,
   "id": "db249d55-3bd4-48d1-be3b-1cfda3a111d3",
   "metadata": {},
   "outputs": [],
   "source": [
    "# fig, ax = plt.subplots(1,1,figsize=(6,6))\n",
    "# venn3([set(df_primary['pos']), set(df_liver_met['pos']), set(df_e1['pos'])], set_labels=('primary', 'liver_met', 'E1'))\n",
    "# plt.savefig('figures/patient2_snv_venn_diagram.pdf', bbox_inches='tight')"
   ]
  },
  {
   "cell_type": "code",
   "execution_count": 9,
   "id": "99eb297a-4db1-4cf6-adf7-7e9e9a8c3949",
   "metadata": {},
   "outputs": [
    {
     "data": {
      "text/html": [
       "<div>\n",
       "<style scoped>\n",
       "    .dataframe tbody tr th:only-of-type {\n",
       "        vertical-align: middle;\n",
       "    }\n",
       "\n",
       "    .dataframe tbody tr th {\n",
       "        vertical-align: top;\n",
       "    }\n",
       "\n",
       "    .dataframe thead th {\n",
       "        text-align: right;\n",
       "    }\n",
       "</style>\n",
       "<table border=\"1\" class=\"dataframe\">\n",
       "  <thead>\n",
       "    <tr style=\"text-align: right;\">\n",
       "      <th></th>\n",
       "      <th>index</th>\n",
       "      <th>pos</th>\n",
       "      <th>chrom</th>\n",
       "      <th>amplicon</th>\n",
       "      <th>ref</th>\n",
       "      <th>alt</th>\n",
       "      <th>gene</th>\n",
       "    </tr>\n",
       "  </thead>\n",
       "  <tbody>\n",
       "    <tr>\n",
       "      <th>0</th>\n",
       "      <td>5727</td>\n",
       "      <td>347184</td>\n",
       "      <td>16</td>\n",
       "      <td>AMPL87363</td>\n",
       "      <td>A</td>\n",
       "      <td>G</td>\n",
       "      <td>AXIN1</td>\n",
       "    </tr>\n",
       "    <tr>\n",
       "      <th>1</th>\n",
       "      <td>2556</td>\n",
       "      <td>7229346</td>\n",
       "      <td>6</td>\n",
       "      <td>AMPL87293</td>\n",
       "      <td>T</td>\n",
       "      <td>C</td>\n",
       "      <td>RREB1</td>\n",
       "    </tr>\n",
       "    <tr>\n",
       "      <th>2</th>\n",
       "      <td>2591</td>\n",
       "      <td>7229619</td>\n",
       "      <td>6</td>\n",
       "      <td>AMPL87294</td>\n",
       "      <td>G</td>\n",
       "      <td>A</td>\n",
       "      <td>RREB1_1</td>\n",
       "    </tr>\n",
       "    <tr>\n",
       "      <th>3</th>\n",
       "      <td>6013</td>\n",
       "      <td>7572865</td>\n",
       "      <td>17</td>\n",
       "      <td>AMPL40059</td>\n",
       "      <td>A</td>\n",
       "      <td>C</td>\n",
       "      <td>EIF4A1</td>\n",
       "    </tr>\n",
       "    <tr>\n",
       "      <th>4</th>\n",
       "      <td>6014</td>\n",
       "      <td>7572865</td>\n",
       "      <td>17</td>\n",
       "      <td>AMPL40059</td>\n",
       "      <td>A</td>\n",
       "      <td>T</td>\n",
       "      <td>EIF4A1_1</td>\n",
       "    </tr>\n",
       "    <tr>\n",
       "      <th>...</th>\n",
       "      <td>...</td>\n",
       "      <td>...</td>\n",
       "      <td>...</td>\n",
       "      <td>...</td>\n",
       "      <td>...</td>\n",
       "      <td>...</td>\n",
       "      <td>...</td>\n",
       "    </tr>\n",
       "    <tr>\n",
       "      <th>100</th>\n",
       "      <td>1746</td>\n",
       "      <td>169998036</td>\n",
       "      <td>3</td>\n",
       "      <td>AMPL70415</td>\n",
       "      <td>G</td>\n",
       "      <td>A</td>\n",
       "      <td>1746</td>\n",
       "    </tr>\n",
       "    <tr>\n",
       "      <th>101</th>\n",
       "      <td>1747</td>\n",
       "      <td>169998037</td>\n",
       "      <td>3</td>\n",
       "      <td>AMPL70415</td>\n",
       "      <td>G</td>\n",
       "      <td>A</td>\n",
       "      <td>1747</td>\n",
       "    </tr>\n",
       "    <tr>\n",
       "      <th>102</th>\n",
       "      <td>15190</td>\n",
       "      <td>169998033</td>\n",
       "      <td>3</td>\n",
       "      <td>AMPL70415</td>\n",
       "      <td>A</td>\n",
       "      <td>G</td>\n",
       "      <td>15190</td>\n",
       "    </tr>\n",
       "    <tr>\n",
       "      <th>103</th>\n",
       "      <td>15192</td>\n",
       "      <td>169998035</td>\n",
       "      <td>3</td>\n",
       "      <td>AMPL70415</td>\n",
       "      <td>T</td>\n",
       "      <td>C</td>\n",
       "      <td>15192</td>\n",
       "    </tr>\n",
       "    <tr>\n",
       "      <th>104</th>\n",
       "      <td>15193</td>\n",
       "      <td>169998038</td>\n",
       "      <td>3</td>\n",
       "      <td>AMPL70415</td>\n",
       "      <td>C</td>\n",
       "      <td>T</td>\n",
       "      <td>15193</td>\n",
       "    </tr>\n",
       "  </tbody>\n",
       "</table>\n",
       "<p>105 rows × 7 columns</p>\n",
       "</div>"
      ],
      "text/plain": [
       "     index        pos chrom   amplicon ref alt      gene\n",
       "0     5727     347184    16  AMPL87363   A   G     AXIN1\n",
       "1     2556    7229346     6  AMPL87293   T   C     RREB1\n",
       "2     2591    7229619     6  AMPL87294   G   A   RREB1_1\n",
       "3     6013    7572865    17  AMPL40059   A   C    EIF4A1\n",
       "4     6014    7572865    17  AMPL40059   A   T  EIF4A1_1\n",
       "..     ...        ...   ...        ...  ..  ..       ...\n",
       "100   1746  169998036     3  AMPL70415   G   A      1746\n",
       "101   1747  169998037     3  AMPL70415   G   A      1747\n",
       "102  15190  169998033     3  AMPL70415   A   G     15190\n",
       "103  15192  169998035     3  AMPL70415   T   C     15192\n",
       "104  15193  169998038     3  AMPL70415   C   T     15193\n",
       "\n",
       "[105 rows x 7 columns]"
      ]
     },
     "execution_count": 9,
     "metadata": {},
     "output_type": "execute_result"
    }
   ],
   "source": [
    "df_primary"
   ]
  },
  {
   "cell_type": "code",
   "execution_count": 10,
   "id": "6a4cd103-3a72-4b24-9181-22d41bc0d842",
   "metadata": {},
   "outputs": [
    {
     "data": {
      "text/html": [
       "<div>\n",
       "<style scoped>\n",
       "    .dataframe tbody tr th:only-of-type {\n",
       "        vertical-align: middle;\n",
       "    }\n",
       "\n",
       "    .dataframe tbody tr th {\n",
       "        vertical-align: top;\n",
       "    }\n",
       "\n",
       "    .dataframe thead th {\n",
       "        text-align: right;\n",
       "    }\n",
       "</style>\n",
       "<table border=\"1\" class=\"dataframe\">\n",
       "  <thead>\n",
       "    <tr style=\"text-align: right;\">\n",
       "      <th></th>\n",
       "      <th>index</th>\n",
       "      <th>pos</th>\n",
       "      <th>chrom</th>\n",
       "      <th>amplicon</th>\n",
       "      <th>ref</th>\n",
       "      <th>alt</th>\n",
       "      <th>gene</th>\n",
       "    </tr>\n",
       "  </thead>\n",
       "  <tbody>\n",
       "    <tr>\n",
       "      <th>0</th>\n",
       "      <td>7466</td>\n",
       "      <td>347184</td>\n",
       "      <td>16</td>\n",
       "      <td>AMPL87363</td>\n",
       "      <td>A</td>\n",
       "      <td>G</td>\n",
       "      <td>AXIN1</td>\n",
       "    </tr>\n",
       "    <tr>\n",
       "      <th>1</th>\n",
       "      <td>3151</td>\n",
       "      <td>7229346</td>\n",
       "      <td>6</td>\n",
       "      <td>AMPL87293</td>\n",
       "      <td>T</td>\n",
       "      <td>C</td>\n",
       "      <td>RREB1</td>\n",
       "    </tr>\n",
       "    <tr>\n",
       "      <th>2</th>\n",
       "      <td>7907</td>\n",
       "      <td>7572865</td>\n",
       "      <td>17</td>\n",
       "      <td>AMPL40059</td>\n",
       "      <td>A</td>\n",
       "      <td>C</td>\n",
       "      <td>EIF4A1</td>\n",
       "    </tr>\n",
       "    <tr>\n",
       "      <th>3</th>\n",
       "      <td>7908</td>\n",
       "      <td>7572865</td>\n",
       "      <td>17</td>\n",
       "      <td>AMPL40059</td>\n",
       "      <td>A</td>\n",
       "      <td>G</td>\n",
       "      <td>EIF4A1_1</td>\n",
       "    </tr>\n",
       "    <tr>\n",
       "      <th>4</th>\n",
       "      <td>7911</td>\n",
       "      <td>7572870</td>\n",
       "      <td>17</td>\n",
       "      <td>AMPL40059</td>\n",
       "      <td>A</td>\n",
       "      <td>T</td>\n",
       "      <td>EIF4A1_2</td>\n",
       "    </tr>\n",
       "    <tr>\n",
       "      <th>...</th>\n",
       "      <td>...</td>\n",
       "      <td>...</td>\n",
       "      <td>...</td>\n",
       "      <td>...</td>\n",
       "      <td>...</td>\n",
       "      <td>...</td>\n",
       "      <td>...</td>\n",
       "    </tr>\n",
       "    <tr>\n",
       "      <th>60</th>\n",
       "      <td>24741</td>\n",
       "      <td>151884280</td>\n",
       "      <td>7</td>\n",
       "      <td>AMPL87311</td>\n",
       "      <td>A</td>\n",
       "      <td>T</td>\n",
       "      <td>24741</td>\n",
       "    </tr>\n",
       "    <tr>\n",
       "      <th>61</th>\n",
       "      <td>4411</td>\n",
       "      <td>151962055</td>\n",
       "      <td>7</td>\n",
       "      <td>AMPL87312</td>\n",
       "      <td>C</td>\n",
       "      <td>T</td>\n",
       "      <td>GALNTL5</td>\n",
       "    </tr>\n",
       "    <tr>\n",
       "      <th>62</th>\n",
       "      <td>4415</td>\n",
       "      <td>151962062</td>\n",
       "      <td>7</td>\n",
       "      <td>AMPL87312</td>\n",
       "      <td>A</td>\n",
       "      <td>G</td>\n",
       "      <td>GALNTL5_1</td>\n",
       "    </tr>\n",
       "    <tr>\n",
       "      <th>63</th>\n",
       "      <td>4416</td>\n",
       "      <td>151962068</td>\n",
       "      <td>7</td>\n",
       "      <td>AMPL87312</td>\n",
       "      <td>T</td>\n",
       "      <td>C</td>\n",
       "      <td>GALNTL5_2</td>\n",
       "    </tr>\n",
       "    <tr>\n",
       "      <th>64</th>\n",
       "      <td>4418</td>\n",
       "      <td>151962077</td>\n",
       "      <td>7</td>\n",
       "      <td>AMPL87312</td>\n",
       "      <td>C</td>\n",
       "      <td>G</td>\n",
       "      <td>GALNTL5_3</td>\n",
       "    </tr>\n",
       "  </tbody>\n",
       "</table>\n",
       "<p>65 rows × 7 columns</p>\n",
       "</div>"
      ],
      "text/plain": [
       "    index        pos chrom   amplicon ref alt       gene\n",
       "0    7466     347184    16  AMPL87363   A   G      AXIN1\n",
       "1    3151    7229346     6  AMPL87293   T   C      RREB1\n",
       "2    7907    7572865    17  AMPL40059   A   C     EIF4A1\n",
       "3    7908    7572865    17  AMPL40059   A   G   EIF4A1_1\n",
       "4    7911    7572870    17  AMPL40059   A   T   EIF4A1_2\n",
       "..    ...        ...   ...        ...  ..  ..        ...\n",
       "60  24741  151884280     7  AMPL87311   A   T      24741\n",
       "61   4411  151962055     7  AMPL87312   C   T    GALNTL5\n",
       "62   4415  151962062     7  AMPL87312   A   G  GALNTL5_1\n",
       "63   4416  151962068     7  AMPL87312   T   C  GALNTL5_2\n",
       "64   4418  151962077     7  AMPL87312   C   G  GALNTL5_3\n",
       "\n",
       "[65 rows x 7 columns]"
      ]
     },
     "execution_count": 10,
     "metadata": {},
     "output_type": "execute_result"
    }
   ],
   "source": [
    "df_liver_met"
   ]
  },
  {
   "cell_type": "code",
   "execution_count": 14,
   "id": "0e46080d-7dad-4570-8fe7-92d0458bf347",
   "metadata": {},
   "outputs": [
    {
     "data": {
      "text/plain": [
       "{10270747, 47039734, 151962055, 151962062, 151962068}"
      ]
     },
     "execution_count": 14,
     "metadata": {},
     "output_type": "execute_result"
    }
   ],
   "source": [
    "set(df_liver_met.pos).intersection(set(df_primary.pos)) - set(df_liver_met.pos).intersection(set(df_primary.pos).intersection(set(df_e1.pos)))"
   ]
  },
  {
   "cell_type": "code",
   "execution_count": 15,
   "id": "69e96365-07af-481c-9334-9317e39fab04",
   "metadata": {},
   "outputs": [],
   "source": [
    "positions_of_interest = {10270747, 47039734, 151962055, 151962062, 151962068}"
   ]
  },
  {
   "cell_type": "code",
   "execution_count": 17,
   "id": "8a849fc9-c316-4fe4-984e-c7a6b4a9fc7f",
   "metadata": {},
   "outputs": [
    {
     "data": {
      "text/html": [
       "<div>\n",
       "<style scoped>\n",
       "    .dataframe tbody tr th:only-of-type {\n",
       "        vertical-align: middle;\n",
       "    }\n",
       "\n",
       "    .dataframe tbody tr th {\n",
       "        vertical-align: top;\n",
       "    }\n",
       "\n",
       "    .dataframe thead th {\n",
       "        text-align: right;\n",
       "    }\n",
       "</style>\n",
       "<table border=\"1\" class=\"dataframe\">\n",
       "  <thead>\n",
       "    <tr style=\"text-align: right;\">\n",
       "      <th></th>\n",
       "      <th>index</th>\n",
       "      <th>pos</th>\n",
       "      <th>chrom</th>\n",
       "      <th>amplicon</th>\n",
       "      <th>ref</th>\n",
       "      <th>alt</th>\n",
       "      <th>gene</th>\n",
       "    </tr>\n",
       "  </thead>\n",
       "  <tbody>\n",
       "    <tr>\n",
       "      <th>12</th>\n",
       "      <td>9677</td>\n",
       "      <td>10270747</td>\n",
       "      <td>19</td>\n",
       "      <td>AMPL70499</td>\n",
       "      <td>A</td>\n",
       "      <td>*</td>\n",
       "      <td>9677</td>\n",
       "    </tr>\n",
       "    <tr>\n",
       "      <th>13</th>\n",
       "      <td>9678</td>\n",
       "      <td>10270747</td>\n",
       "      <td>19</td>\n",
       "      <td>AMPL70499</td>\n",
       "      <td>A</td>\n",
       "      <td>G</td>\n",
       "      <td>9678</td>\n",
       "    </tr>\n",
       "    <tr>\n",
       "      <th>24</th>\n",
       "      <td>10534</td>\n",
       "      <td>47039734</td>\n",
       "      <td>X</td>\n",
       "      <td>AMPL87417</td>\n",
       "      <td>C</td>\n",
       "      <td>G</td>\n",
       "      <td>JADE3_2</td>\n",
       "    </tr>\n",
       "    <tr>\n",
       "      <th>61</th>\n",
       "      <td>4411</td>\n",
       "      <td>151962055</td>\n",
       "      <td>7</td>\n",
       "      <td>AMPL87312</td>\n",
       "      <td>C</td>\n",
       "      <td>T</td>\n",
       "      <td>GALNTL5</td>\n",
       "    </tr>\n",
       "    <tr>\n",
       "      <th>62</th>\n",
       "      <td>4415</td>\n",
       "      <td>151962062</td>\n",
       "      <td>7</td>\n",
       "      <td>AMPL87312</td>\n",
       "      <td>A</td>\n",
       "      <td>G</td>\n",
       "      <td>GALNTL5_1</td>\n",
       "    </tr>\n",
       "    <tr>\n",
       "      <th>63</th>\n",
       "      <td>4416</td>\n",
       "      <td>151962068</td>\n",
       "      <td>7</td>\n",
       "      <td>AMPL87312</td>\n",
       "      <td>T</td>\n",
       "      <td>C</td>\n",
       "      <td>GALNTL5_2</td>\n",
       "    </tr>\n",
       "  </tbody>\n",
       "</table>\n",
       "</div>"
      ],
      "text/plain": [
       "    index        pos chrom   amplicon ref alt       gene\n",
       "12   9677   10270747    19  AMPL70499   A   *       9677\n",
       "13   9678   10270747    19  AMPL70499   A   G       9678\n",
       "24  10534   47039734     X  AMPL87417   C   G    JADE3_2\n",
       "61   4411  151962055     7  AMPL87312   C   T    GALNTL5\n",
       "62   4415  151962062     7  AMPL87312   A   G  GALNTL5_1\n",
       "63   4416  151962068     7  AMPL87312   T   C  GALNTL5_2"
      ]
     },
     "execution_count": 17,
     "metadata": {},
     "output_type": "execute_result"
    }
   ],
   "source": [
    "df_liver_met[df_liver_met.pos.isin(positions_of_interest)]"
   ]
  },
  {
   "cell_type": "code",
   "execution_count": 18,
   "id": "361f9f9e-8758-4e81-a38a-5486885a3eda",
   "metadata": {},
   "outputs": [
    {
     "data": {
      "text/html": [
       "<div>\n",
       "<style scoped>\n",
       "    .dataframe tbody tr th:only-of-type {\n",
       "        vertical-align: middle;\n",
       "    }\n",
       "\n",
       "    .dataframe tbody tr th {\n",
       "        vertical-align: top;\n",
       "    }\n",
       "\n",
       "    .dataframe thead th {\n",
       "        text-align: right;\n",
       "    }\n",
       "</style>\n",
       "<table border=\"1\" class=\"dataframe\">\n",
       "  <thead>\n",
       "    <tr style=\"text-align: right;\">\n",
       "      <th></th>\n",
       "      <th>index</th>\n",
       "      <th>pos</th>\n",
       "      <th>chrom</th>\n",
       "      <th>amplicon</th>\n",
       "      <th>ref</th>\n",
       "      <th>alt</th>\n",
       "      <th>gene</th>\n",
       "    </tr>\n",
       "  </thead>\n",
       "  <tbody>\n",
       "    <tr>\n",
       "      <th>36</th>\n",
       "      <td>7556</td>\n",
       "      <td>10270747</td>\n",
       "      <td>19</td>\n",
       "      <td>AMPL70499</td>\n",
       "      <td>A</td>\n",
       "      <td>*</td>\n",
       "      <td>7556</td>\n",
       "    </tr>\n",
       "    <tr>\n",
       "      <th>37</th>\n",
       "      <td>7557</td>\n",
       "      <td>10270747</td>\n",
       "      <td>19</td>\n",
       "      <td>AMPL70499</td>\n",
       "      <td>A</td>\n",
       "      <td>G</td>\n",
       "      <td>7557</td>\n",
       "    </tr>\n",
       "    <tr>\n",
       "      <th>55</th>\n",
       "      <td>8190</td>\n",
       "      <td>47039734</td>\n",
       "      <td>X</td>\n",
       "      <td>AMPL87417</td>\n",
       "      <td>C</td>\n",
       "      <td>G</td>\n",
       "      <td>JADE3_2</td>\n",
       "    </tr>\n",
       "    <tr>\n",
       "      <th>94</th>\n",
       "      <td>3458</td>\n",
       "      <td>151962055</td>\n",
       "      <td>7</td>\n",
       "      <td>AMPL87312</td>\n",
       "      <td>C</td>\n",
       "      <td>T</td>\n",
       "      <td>GALNTL5</td>\n",
       "    </tr>\n",
       "    <tr>\n",
       "      <th>95</th>\n",
       "      <td>3461</td>\n",
       "      <td>151962062</td>\n",
       "      <td>7</td>\n",
       "      <td>AMPL87312</td>\n",
       "      <td>A</td>\n",
       "      <td>G</td>\n",
       "      <td>GALNTL5_1</td>\n",
       "    </tr>\n",
       "    <tr>\n",
       "      <th>96</th>\n",
       "      <td>3462</td>\n",
       "      <td>151962068</td>\n",
       "      <td>7</td>\n",
       "      <td>AMPL87312</td>\n",
       "      <td>T</td>\n",
       "      <td>C</td>\n",
       "      <td>GALNTL5_2</td>\n",
       "    </tr>\n",
       "  </tbody>\n",
       "</table>\n",
       "</div>"
      ],
      "text/plain": [
       "    index        pos chrom   amplicon ref alt       gene\n",
       "36   7556   10270747    19  AMPL70499   A   *       7556\n",
       "37   7557   10270747    19  AMPL70499   A   G       7557\n",
       "55   8190   47039734     X  AMPL87417   C   G    JADE3_2\n",
       "94   3458  151962055     7  AMPL87312   C   T    GALNTL5\n",
       "95   3461  151962062     7  AMPL87312   A   G  GALNTL5_1\n",
       "96   3462  151962068     7  AMPL87312   T   C  GALNTL5_2"
      ]
     },
     "execution_count": 18,
     "metadata": {},
     "output_type": "execute_result"
    }
   ],
   "source": [
    "df_primary[df_primary.pos.isin(positions_of_interest)]"
   ]
  },
  {
   "cell_type": "code",
   "execution_count": 19,
   "id": "5dbe2377-cc7d-4bbe-af7d-ef3c8dc2bc7b",
   "metadata": {},
   "outputs": [
    {
     "data": {
      "text/html": [
       "<div>\n",
       "<style scoped>\n",
       "    .dataframe tbody tr th:only-of-type {\n",
       "        vertical-align: middle;\n",
       "    }\n",
       "\n",
       "    .dataframe tbody tr th {\n",
       "        vertical-align: top;\n",
       "    }\n",
       "\n",
       "    .dataframe thead th {\n",
       "        text-align: right;\n",
       "    }\n",
       "</style>\n",
       "<table border=\"1\" class=\"dataframe\">\n",
       "  <thead>\n",
       "    <tr style=\"text-align: right;\">\n",
       "      <th></th>\n",
       "      <th>index</th>\n",
       "      <th>pos</th>\n",
       "      <th>chrom</th>\n",
       "      <th>amplicon</th>\n",
       "      <th>ref</th>\n",
       "      <th>alt</th>\n",
       "      <th>gene</th>\n",
       "    </tr>\n",
       "  </thead>\n",
       "  <tbody>\n",
       "  </tbody>\n",
       "</table>\n",
       "</div>"
      ],
      "text/plain": [
       "Empty DataFrame\n",
       "Columns: [index, pos, chrom, amplicon, ref, alt, gene]\n",
       "Index: []"
      ]
     },
     "execution_count": 19,
     "metadata": {},
     "output_type": "execute_result"
    }
   ],
   "source": [
    "df_e1[df_e1.pos.isin(positions_of_interest)]"
   ]
  },
  {
   "cell_type": "code",
   "execution_count": 21,
   "id": "a18fa014-121b-4a47-8305-a1c92508451c",
   "metadata": {},
   "outputs": [
    {
     "data": {
      "text/plain": [
       "65"
      ]
     },
     "execution_count": 21,
     "metadata": {},
     "output_type": "execute_result"
    }
   ],
   "source": [
    "len(df_liver_met)"
   ]
  },
  {
   "cell_type": "code",
   "execution_count": 22,
   "id": "198690e8-6ace-4372-96f1-f727a448de8f",
   "metadata": {},
   "outputs": [
    {
     "data": {
      "text/plain": [
       "126"
      ]
     },
     "execution_count": 22,
     "metadata": {},
     "output_type": "execute_result"
    }
   ],
   "source": [
    "len(df_e1)"
   ]
  },
  {
   "cell_type": "code",
   "execution_count": 23,
   "id": "96e9d514-72d8-4381-b982-f1ccac3a8609",
   "metadata": {},
   "outputs": [
    {
     "data": {
      "text/plain": [
       "105"
      ]
     },
     "execution_count": 23,
     "metadata": {},
     "output_type": "execute_result"
    }
   ],
   "source": [
    "len(df_primary)"
   ]
  },
  {
   "cell_type": "markdown",
   "id": "8d04a180-8b46-4b51-89ea-30022c3713f9",
   "metadata": {},
   "source": [
    "# panel2"
   ]
  },
  {
   "cell_type": "code",
   "execution_count": 9,
   "id": "4da52492-a475-4ac1-af99-124645b72048",
   "metadata": {},
   "outputs": [],
   "source": [
    "loomfile_dict = {'primary1': '/n/fs/ragr-data/datasets/mskcc_iacobuzio/transfer/RA17_22_panel2/pipeline_results_default/RA17_22/RA17_22_32_1_IGO_12742_B_2/results/RA17_22_32_1_IGO_12742_B_2.cells.loom',\n",
    "                 'primary2': '/n/fs/ragr-data/datasets/mskcc_iacobuzio/transfer/RA17_22_panel2/pipeline_results_default/RA17_22/RA17_22_35_1_IGO_12742_2/results/RA17_22_35_1_IGO_12742_2.cells.loom',\n",
    "                 'liver_met': '/n/fs/ragr-data/datasets/mskcc_iacobuzio/transfer/RA17_22_panel2/pipeline_results_default/RA17_22/RA17_22_39_6_IGO_12742_1/results/RA17_22_39_6_IGO_12742_1.cells.loom',\n",
    "                 'lung_met': '/n/fs/ragr-data/datasets/mskcc_iacobuzio/transfer/RA17_22_panel2/pipeline_results_default/RA17_22/RA17_22_06_2_IGO_12742_C_2/results/RA17_22_06_2_IGO_12742_C_2.cells.loom',\n",
    "                 'retro_met': '/n/fs/ragr-data/datasets/mskcc_iacobuzio/transfer/RA17_22_panel2/pipeline_results_default/RA17_22/RA17_22_42_2_IGO_12742_C_1/results/RA17_22_42_2_IGO_12742_C_1.cells.loom',\n",
    "                 'peri_met': '/n/fs/ragr-data/datasets/mskcc_iacobuzio/transfer/RA17_22_panel2/pipeline_results_default/RA17_22/RA17_22_27_2_IGO_12742_B_1/results/RA17_22_27_2_IGO_12742_B_1.cells.loom'}"
   ]
  },
  {
   "cell_type": "code",
   "execution_count": 16,
   "id": "c175fb1b-0597-4582-9e85-2e153d13a2a7",
   "metadata": {},
   "outputs": [],
   "source": [
    "sample_list = list(loomfile_dict.keys())"
   ]
  },
  {
   "cell_type": "code",
   "execution_count": 15,
   "id": "9e1bf6c0-0495-4fb8-a772-c7e030bf6aec",
   "metadata": {},
   "outputs": [
    {
     "name": "stdout",
     "output_type": "stream",
     "text": [
      "-------------------------------------------------- primary1 --------------------------------------------------\n",
      "number of covered positions is 188363\n",
      "number of cells is 1810\n",
      "number of amplicons is 596\n",
      "number of chromosomes is 23\n",
      "-------------------------------------------------- primary2 --------------------------------------------------\n",
      "number of covered positions is 182548\n",
      "number of cells is 1955\n",
      "number of amplicons is 596\n",
      "number of chromosomes is 23\n",
      "-------------------------------------------------- liver_met --------------------------------------------------\n",
      "number of covered positions is 170766\n",
      "number of cells is 1137\n",
      "number of amplicons is 596\n",
      "number of chromosomes is 23\n",
      "-------------------------------------------------- lung_met --------------------------------------------------\n",
      "number of covered positions is 177987\n",
      "number of cells is 2075\n",
      "number of amplicons is 596\n",
      "number of chromosomes is 23\n",
      "-------------------------------------------------- retro_met --------------------------------------------------\n",
      "number of covered positions is 186492\n",
      "number of cells is 3250\n",
      "number of amplicons is 596\n",
      "number of chromosomes is 23\n",
      "-------------------------------------------------- peri_met --------------------------------------------------\n",
      "number of covered positions is 144810\n",
      "number of cells is 429\n",
      "number of amplicons is 596\n",
      "number of chromosomes is 23\n"
     ]
    }
   ],
   "source": [
    "data_dir = 'data'\n",
    "overview_data = []\n",
    "for sample, loom_name in loomfile_dict.items():\n",
    "    print('-'*50, sample, '-'*50, sep=' ')\n",
    "    with loompy.connect(loom_name) as ds:\n",
    "        print(f\"number of covered positions is {ds.shape[0]}\")\n",
    "        print(f\"number of cells is {ds.shape[1]}\")\n",
    "        print(f\"number of amplicons is {len(np.unique(ds.ra['amplicon']))}\")\n",
    "        print(f\"number of chromosomes is {len(np.unique(ds.ra['CHROM']))}\")\n",
    "        # ncells = ds.shape[1]\n",
    "    \n",
    "    # df_pos = pd.read_csv(f'{data_dir}/{sample}_pos_indices.csv')\n",
    "    # break"
   ]
  },
  {
   "cell_type": "markdown",
   "id": "018bc0ff-99f0-47a9-80bd-20af3dcd299d",
   "metadata": {},
   "source": [
    "## SNVs in two samples from the primary tumor"
   ]
  },
  {
   "cell_type": "code",
   "execution_count": 19,
   "id": "94b08444-d478-4287-a707-171b9fcceadd",
   "metadata": {},
   "outputs": [
    {
     "name": "stdout",
     "output_type": "stream",
     "text": [
      "-------------------------------------------------- data --------------------------------------------------\n",
      "-------------------------------------------------- data_set1 --------------------------------------------------\n",
      "-------------------------------------------------- data_set2 --------------------------------------------------\n"
     ]
    },
    {
     "data": {
      "image/png": "[encoded data removed]",
      "text/plain": [
       "<Figure size 432x432 with 1 Axes>"
      ]
     },
     "metadata": {},
     "output_type": "display_data"
    },
    {
     "data": {
      "image/png": "[encoded data removed]",
      "text/plain": [
       "<Figure size 432x432 with 1 Axes>"
      ]
     },
     "metadata": {},
     "output_type": "display_data"
    },
    {
     "data": {
      "image/png": "[encoded data removed]",
      "text/plain": [
       "<Figure size 432x432 with 1 Axes>"
      ]
     },
     "metadata": {},
     "output_type": "display_data"
    }
   ],
   "source": [
    "for data_dir in ['data', 'data_set1', 'data_set2']:\n",
    "    print('-'*50, data_dir, '-'*50, sep=' ')\n",
    "    df_pos1 =  pd.read_csv(f'{data_dir}/primary1_pos_indices.csv')\n",
    "    df_pos2 =  pd.read_csv(f'{data_dir}/primary2_pos_indices.csv')\n",
    "\n",
    "    fig, ax = plt.subplots(1,1,figsize=(6,6))\n",
    "    venn2([set(df_pos1['pos']), set(df_pos2['pos'])], set_labels=('primary1', 'primary2'))\n",
    "    fig.patch.set_facecolor('white')"
   ]
  },
  {
   "cell_type": "code",
   "execution_count": null,
   "id": "93f0d5bb-e526-4497-8c62-745894cba51d",
   "metadata": {},
   "outputs": [],
   "source": []
  }
 ],
 "metadata": {
  "kernelspec": {
   "display_name": "Python 3 (ipykernel)",
   "language": "python",
   "name": "python3"
  },
  "language_info": {
   "codemirror_mode": {
    "name": "ipython",
    "version": 3
   },
   "file_extension": ".py",
   "mimetype": "text/x-python",
   "name": "python",
   "nbconvert_exporter": "python",
   "pygments_lexer": "ipython3",
   "version": "3.8.8"
  }
 },
 "nbformat": 4,
 "nbformat_minor": 5
}
